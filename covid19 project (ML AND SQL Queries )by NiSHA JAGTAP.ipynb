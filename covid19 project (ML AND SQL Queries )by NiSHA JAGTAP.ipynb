{
 "cells": [
  {
   "cell_type": "markdown",
   "id": "fc62211b",
   "metadata": {},
   "source": [
    "![Python_logo](https://th.bing.com/th/id/R.343911fe8de1dae0b84b3e46d20ce55a?rik=Hj8F%2bSKBnvArpg&riu=http%3a%2f%2fswiftsafetyinstitute.org%2fwp-content%2fuploads%2f2021%2f02%2fCovid.png&ehk=zddLxdfchrmaVWVJSfBcLXNlgP7ELhI%2b%2bGhKBONkO7A%3d&risl=&pid=ImgRaw&r=0)\n",
    "# ( by Nisha Jagtap)"
   ]
  },
  {
   "cell_type": "markdown",
   "id": "58f2cc01",
   "metadata": {},
   "source": [
    "\n",
    "# **Introduction:**\n",
    "#### Coronavirus disease (COVID-19) is an infectious disease caused by a newly discovered coronavirus. Most people infected with COVID-19 virus will experience mild to moderate respiratory illness and recover without requiring special treatment. Older people, and those with underlying medical problems like cardiovascular disease, diabetes, chronic respiratory disease, and cancer are more likely to develop serious illness.\n",
    "#### During the entire course of the pandemic, one of the main problems that healthcare providers have faced is the shortage of medical resources and a proper plan to efficiently distribute them. In these tough times, being able to predict what kind of resource an individual might require at the time of being tested positive or even before that will be of immense help to the authorities as they would be able to procure and arrange for the resources necessary to save the life of that patient.\n",
    "\n",
    "# **COVID-19 Diagnosis Prediction Project**\n",
    "\n",
    "* Goal: The assignment aims to predict COVID-19 diagnosis based on symptoms\n",
    "and demographic data, utilizing data analysis and machine learning techniques.\n",
    "* How: We use Python and MySQL for data analysis, EDA, feature engineering, and\n",
    "machine learning to predict COVID-19 outcomes.\n",
    "* Why: Our project is crucial for early COVID-19 detection, efficient healthcare\n",
    "resource allocation, and informed public health decisions, improving overall wellbeing\n",
    "---\n",
    "---\n",
    "\n",
    "\n",
    "**Q1 . Why is your proposal important in today’s world? How predicting a disease accurately can improve medical treatment?**\n",
    "\n",
    "ANS :\n",
    "\n",
    "Predicting diseases accurately using machine learning, particularly for COVID-19, holds significant importance in today's world as early detection of such diseases on the basis of symptoms can help the healthcare facility to isolate and treat the patient timely, this is crucial to prevent the spread of disease.\n",
    "\n",
    "**Q2. How is it going to impact the medical field when it comes to effective screening and reducing health care burden.**\n",
    "\n",
    "ANS:\n",
    "\n",
    "Our Medical facilities are using tests such as RAT(Rapid Antigen Test) to detect whether a person is covid affected, while our ML model uses patient's data to detect whether a particular patient is covid affected or not with atmost accuracy, this will help to reduce the burden of testing and screening on health care fascilities.\n",
    "\n",
    "**Q3. If any, what is the gap in the knowledge or how your proposed method can be helpful if required in future for any other disease.**\n",
    "\n",
    "ANS:\n",
    "\n",
    "A bad quality of data or missing data can prove to be a problem for such models but if it works well for COVID-19, we might use a similar approach for other diseases in the future. It's like having a valuable tool for our medical facilities.\n",
    "\n",
    "\n",
    "----\n",
    "\n",
    "\n",
    "## **Initial Hypothesis**\n",
    "\n",
    "1.Prediction Hypothesis: We think we can predict COVID-19 by looking at symptoms and some personal info.\n",
    "\n",
    "2.Benefits of Accurate Prediction: Accurate prediction can speed up treatment, resource use, and disease management, reducing the strain on healthcare.\n",
    "\n",
    "3.Common Symptoms Hypothesis: COVID-19 often causes coughing, fever, and breathing problems.\n",
    "\n",
    "4.Uncommon Symptoms Hypothesis: People without COVID-19 are less likely to have a sore throat or headache.\n",
    "\n",
    "5.Symptoms in Specific Groups: Men with COVID-19 who've been in contact with people from other countries might have more coughing and fever.\n",
    "\n",
    "6.Age and Severity Hypothesis: Those 60 and older might have more severe symptoms, especially trouble breathing.\n",
    "\n",
    "\n",
    "---\n",
    "\n",
    "\n",
    "## **Dataset Description**\n",
    "| Variables | Values |\n",
    "| --------- | ------ |\n",
    "| Ind_ID | Patient ID |\n",
    "| Test_date | Date on which test was conducted |\n",
    "| Cough_symptoms | Whether the patient is having cough symptoms |\n",
    "| Fever | Whether the patient is having Fever  |\n",
    "| Sore_throat | Having Sore throat or not |\n",
    "| Shortness of Breath | Suffering from Shortness of breath or not |\n",
    "| Headache | Having Headache or not |\n",
    "| Corona (Target Variable) | Whether the is result covide positive or negative |\n",
    "| Age_above_60 | Is the patient elder than 60yrs |\n",
    "| Sex | Male or Female |\n",
    "| Known_contact | Whom the patient has came in contact with  |\n",
    "\n",
    "\n",
    " \n"
   ]
  },
  {
   "cell_type": "markdown",
   "id": "b29474d1",
   "metadata": {},
   "source": [
    "## Lets import libraries and load data first"
   ]
  },
  {
   "cell_type": "code",
   "execution_count": 710,
   "id": "ae46d696",
   "metadata": {},
   "outputs": [],
   "source": [
    "# import libraries\n",
    "import numpy as np\n",
    "import pandas as pd\n",
    "import missingno as msno\n",
    "import seaborn as sns\n",
    "import plotly.express as px\n",
    "from matplotlib import pyplot as plt\n",
    "from plotly.subplots import make_subplots\n",
    "import plotly.graph_objects as go\n",
    "# Libraries used for Encoding\n",
    "from sklearn.preprocessing import LabelEncoder\n",
    "\n",
    "#Metrics\n",
    "from sklearn.metrics import classification_report,confusion_matrix,r2_score, accuracy_score,precision_score,recall_score,f1_score,log_loss\n",
    "\n",
    "#Hyperparametric Tuning\n",
    "from sklearn.model_selection import GridSearchCV\n"
   ]
  },
  {
   "cell_type": "code",
   "execution_count": 711,
   "id": "2de3cca7",
   "metadata": {},
   "outputs": [],
   "source": [
    "import warnings\n",
    "warnings.filterwarnings(\"ignore\") # to ignoring wranings"
   ]
  },
  {
   "cell_type": "code",
   "execution_count": 712,
   "id": "d542140f",
   "metadata": {},
   "outputs": [],
   "source": [
    "# To load the data (.csv file)\n",
    "covid_raw = pd.read_csv('corona_tested_006.csv')"
   ]
  },
  {
   "cell_type": "code",
   "execution_count": 713,
   "id": "f81f2442",
   "metadata": {},
   "outputs": [],
   "source": [
    "# creating a copy of read file\n",
    "covid = covid_raw.copy()"
   ]
  },
  {
   "cell_type": "markdown",
   "id": "cc313469",
   "metadata": {},
   "source": [
    "# Exploratory Data Analysis- EDA\n",
    "## Basic exploration\n",
    "#### Before getting into any sophisticated analysis, the first step is to do an EDA and data cleaning by identifying  erroneous information from that raw data, such as missing values, outliers etc.. Since both categorical and continuous variables are included in the data set.\n",
    "\n"
   ]
  },
  {
   "cell_type": "markdown",
   "id": "0057b0fd",
   "metadata": {},
   "source": [
    "### Step1: Understanding the data"
   ]
  },
  {
   "cell_type": "code",
   "execution_count": 714,
   "id": "c66f438a",
   "metadata": {},
   "outputs": [
    {
     "data": {
      "text/plain": [
       "(278848, 11)"
      ]
     },
     "execution_count": 714,
     "metadata": {},
     "output_type": "execute_result"
    }
   ],
   "source": [
    "covid_raw.shape # we can see there are total 278848 rows and 11 columns"
   ]
  },
  {
   "cell_type": "code",
   "execution_count": 715,
   "id": "1f45e0c7",
   "metadata": {},
   "outputs": [
    {
     "data": {
      "text/html": [
       "<div>\n",
       "<style scoped>\n",
       "    .dataframe tbody tr th:only-of-type {\n",
       "        vertical-align: middle;\n",
       "    }\n",
       "\n",
       "    .dataframe tbody tr th {\n",
       "        vertical-align: top;\n",
       "    }\n",
       "\n",
       "    .dataframe thead th {\n",
       "        text-align: right;\n",
       "    }\n",
       "</style>\n",
       "<table border=\"1\" class=\"dataframe\">\n",
       "  <thead>\n",
       "    <tr style=\"text-align: right;\">\n",
       "      <th></th>\n",
       "      <th>0</th>\n",
       "      <th>1</th>\n",
       "      <th>2</th>\n",
       "      <th>3</th>\n",
       "      <th>4</th>\n",
       "    </tr>\n",
       "  </thead>\n",
       "  <tbody>\n",
       "    <tr>\n",
       "      <th>Ind_ID</th>\n",
       "      <td>1</td>\n",
       "      <td>2</td>\n",
       "      <td>3</td>\n",
       "      <td>4</td>\n",
       "      <td>5</td>\n",
       "    </tr>\n",
       "    <tr>\n",
       "      <th>Test_date</th>\n",
       "      <td>11-03-2020</td>\n",
       "      <td>11-03-2020</td>\n",
       "      <td>11-03-2020</td>\n",
       "      <td>11-03-2020</td>\n",
       "      <td>11-03-2020</td>\n",
       "    </tr>\n",
       "    <tr>\n",
       "      <th>Cough_symptoms</th>\n",
       "      <td>True</td>\n",
       "      <td>False</td>\n",
       "      <td>False</td>\n",
       "      <td>True</td>\n",
       "      <td>True</td>\n",
       "    </tr>\n",
       "    <tr>\n",
       "      <th>Fever</th>\n",
       "      <td>False</td>\n",
       "      <td>True</td>\n",
       "      <td>True</td>\n",
       "      <td>False</td>\n",
       "      <td>False</td>\n",
       "    </tr>\n",
       "    <tr>\n",
       "      <th>Sore_throat</th>\n",
       "      <td>True</td>\n",
       "      <td>False</td>\n",
       "      <td>False</td>\n",
       "      <td>False</td>\n",
       "      <td>False</td>\n",
       "    </tr>\n",
       "    <tr>\n",
       "      <th>Shortness_of_breath</th>\n",
       "      <td>False</td>\n",
       "      <td>False</td>\n",
       "      <td>False</td>\n",
       "      <td>False</td>\n",
       "      <td>False</td>\n",
       "    </tr>\n",
       "    <tr>\n",
       "      <th>Headache</th>\n",
       "      <td>False</td>\n",
       "      <td>False</td>\n",
       "      <td>False</td>\n",
       "      <td>False</td>\n",
       "      <td>False</td>\n",
       "    </tr>\n",
       "    <tr>\n",
       "      <th>Corona</th>\n",
       "      <td>negative</td>\n",
       "      <td>positive</td>\n",
       "      <td>positive</td>\n",
       "      <td>negative</td>\n",
       "      <td>negative</td>\n",
       "    </tr>\n",
       "    <tr>\n",
       "      <th>Age_60_above</th>\n",
       "      <td>NaN</td>\n",
       "      <td>NaN</td>\n",
       "      <td>NaN</td>\n",
       "      <td>NaN</td>\n",
       "      <td>NaN</td>\n",
       "    </tr>\n",
       "    <tr>\n",
       "      <th>Sex</th>\n",
       "      <td>NaN</td>\n",
       "      <td>NaN</td>\n",
       "      <td>NaN</td>\n",
       "      <td>NaN</td>\n",
       "      <td>NaN</td>\n",
       "    </tr>\n",
       "    <tr>\n",
       "      <th>Known_contact</th>\n",
       "      <td>Abroad</td>\n",
       "      <td>Abroad</td>\n",
       "      <td>Abroad</td>\n",
       "      <td>Abroad</td>\n",
       "      <td>Contact with confirmed</td>\n",
       "    </tr>\n",
       "  </tbody>\n",
       "</table>\n",
       "</div>"
      ],
      "text/plain": [
       "                              0           1           2           3  \\\n",
       "Ind_ID                        1           2           3           4   \n",
       "Test_date            11-03-2020  11-03-2020  11-03-2020  11-03-2020   \n",
       "Cough_symptoms             True       False       False        True   \n",
       "Fever                     False        True        True       False   \n",
       "Sore_throat                True       False       False       False   \n",
       "Shortness_of_breath       False       False       False       False   \n",
       "Headache                  False       False       False       False   \n",
       "Corona                 negative    positive    positive    negative   \n",
       "Age_60_above                NaN         NaN         NaN         NaN   \n",
       "Sex                         NaN         NaN         NaN         NaN   \n",
       "Known_contact            Abroad      Abroad      Abroad      Abroad   \n",
       "\n",
       "                                          4  \n",
       "Ind_ID                                    5  \n",
       "Test_date                        11-03-2020  \n",
       "Cough_symptoms                         True  \n",
       "Fever                                 False  \n",
       "Sore_throat                           False  \n",
       "Shortness_of_breath                   False  \n",
       "Headache                              False  \n",
       "Corona                             negative  \n",
       "Age_60_above                            NaN  \n",
       "Sex                                     NaN  \n",
       "Known_contact        Contact with confirmed  "
      ]
     },
     "execution_count": 715,
     "metadata": {},
     "output_type": "execute_result"
    }
   ],
   "source": [
    "covid_raw.head().T"
   ]
  },
  {
   "cell_type": "markdown",
   "id": "4ed535e8",
   "metadata": {},
   "source": [
    "#### From the **head** command it is clear that there are missing values in the dataset, as there are NaN in checking account."
   ]
  },
  {
   "cell_type": "code",
   "execution_count": 716,
   "id": "d983f11d",
   "metadata": {},
   "outputs": [
    {
     "data": {
      "text/html": [
       "<div>\n",
       "<style scoped>\n",
       "    .dataframe tbody tr th:only-of-type {\n",
       "        vertical-align: middle;\n",
       "    }\n",
       "\n",
       "    .dataframe tbody tr th {\n",
       "        vertical-align: top;\n",
       "    }\n",
       "\n",
       "    .dataframe thead th {\n",
       "        text-align: right;\n",
       "    }\n",
       "</style>\n",
       "<table border=\"1\" class=\"dataframe\">\n",
       "  <thead>\n",
       "    <tr style=\"text-align: right;\">\n",
       "      <th></th>\n",
       "      <th>278843</th>\n",
       "      <th>278844</th>\n",
       "      <th>278845</th>\n",
       "      <th>278846</th>\n",
       "      <th>278847</th>\n",
       "    </tr>\n",
       "  </thead>\n",
       "  <tbody>\n",
       "    <tr>\n",
       "      <th>Ind_ID</th>\n",
       "      <td>278844</td>\n",
       "      <td>278845</td>\n",
       "      <td>278846</td>\n",
       "      <td>278847</td>\n",
       "      <td>278848</td>\n",
       "    </tr>\n",
       "    <tr>\n",
       "      <th>Test_date</th>\n",
       "      <td>30-04-2020</td>\n",
       "      <td>30-04-2020</td>\n",
       "      <td>30-04-2020</td>\n",
       "      <td>30-04-2020</td>\n",
       "      <td>30-04-2020</td>\n",
       "    </tr>\n",
       "    <tr>\n",
       "      <th>Cough_symptoms</th>\n",
       "      <td>False</td>\n",
       "      <td>False</td>\n",
       "      <td>False</td>\n",
       "      <td>False</td>\n",
       "      <td>False</td>\n",
       "    </tr>\n",
       "    <tr>\n",
       "      <th>Fever</th>\n",
       "      <td>False</td>\n",
       "      <td>False</td>\n",
       "      <td>False</td>\n",
       "      <td>False</td>\n",
       "      <td>False</td>\n",
       "    </tr>\n",
       "    <tr>\n",
       "      <th>Sore_throat</th>\n",
       "      <td>False</td>\n",
       "      <td>False</td>\n",
       "      <td>False</td>\n",
       "      <td>False</td>\n",
       "      <td>False</td>\n",
       "    </tr>\n",
       "    <tr>\n",
       "      <th>Shortness_of_breath</th>\n",
       "      <td>False</td>\n",
       "      <td>False</td>\n",
       "      <td>False</td>\n",
       "      <td>False</td>\n",
       "      <td>False</td>\n",
       "    </tr>\n",
       "    <tr>\n",
       "      <th>Headache</th>\n",
       "      <td>False</td>\n",
       "      <td>False</td>\n",
       "      <td>False</td>\n",
       "      <td>False</td>\n",
       "      <td>False</td>\n",
       "    </tr>\n",
       "    <tr>\n",
       "      <th>Corona</th>\n",
       "      <td>positive</td>\n",
       "      <td>negative</td>\n",
       "      <td>negative</td>\n",
       "      <td>negative</td>\n",
       "      <td>negative</td>\n",
       "    </tr>\n",
       "    <tr>\n",
       "      <th>Age_60_above</th>\n",
       "      <td>NaN</td>\n",
       "      <td>NaN</td>\n",
       "      <td>NaN</td>\n",
       "      <td>NaN</td>\n",
       "      <td>NaN</td>\n",
       "    </tr>\n",
       "    <tr>\n",
       "      <th>Sex</th>\n",
       "      <td>male</td>\n",
       "      <td>female</td>\n",
       "      <td>male</td>\n",
       "      <td>male</td>\n",
       "      <td>female</td>\n",
       "    </tr>\n",
       "    <tr>\n",
       "      <th>Known_contact</th>\n",
       "      <td>Other</td>\n",
       "      <td>Other</td>\n",
       "      <td>Other</td>\n",
       "      <td>Other</td>\n",
       "      <td>Other</td>\n",
       "    </tr>\n",
       "  </tbody>\n",
       "</table>\n",
       "</div>"
      ],
      "text/plain": [
       "                         278843      278844      278845      278846  \\\n",
       "Ind_ID                   278844      278845      278846      278847   \n",
       "Test_date            30-04-2020  30-04-2020  30-04-2020  30-04-2020   \n",
       "Cough_symptoms            False       False       False       False   \n",
       "Fever                     False       False       False       False   \n",
       "Sore_throat               False       False       False       False   \n",
       "Shortness_of_breath       False       False       False       False   \n",
       "Headache                  False       False       False       False   \n",
       "Corona                 positive    negative    negative    negative   \n",
       "Age_60_above                NaN         NaN         NaN         NaN   \n",
       "Sex                        male      female        male        male   \n",
       "Known_contact             Other       Other       Other       Other   \n",
       "\n",
       "                         278847  \n",
       "Ind_ID                   278848  \n",
       "Test_date            30-04-2020  \n",
       "Cough_symptoms            False  \n",
       "Fever                     False  \n",
       "Sore_throat               False  \n",
       "Shortness_of_breath       False  \n",
       "Headache                  False  \n",
       "Corona                 negative  \n",
       "Age_60_above                NaN  \n",
       "Sex                      female  \n",
       "Known_contact             Other  "
      ]
     },
     "execution_count": 716,
     "metadata": {},
     "output_type": "execute_result"
    }
   ],
   "source": [
    "covid_raw.tail().T"
   ]
  },
  {
   "cell_type": "markdown",
   "id": "11656a1d",
   "metadata": {},
   "source": [
    "#### From the tail command it is clear that there are missing values in the dataset, as there is are NaN in checking account."
   ]
  },
  {
   "cell_type": "code",
   "execution_count": 717,
   "id": "de8fee02",
   "metadata": {},
   "outputs": [
    {
     "name": "stdout",
     "output_type": "stream",
     "text": [
      "<class 'pandas.core.frame.DataFrame'>\n",
      "RangeIndex: 278848 entries, 0 to 278847\n",
      "Data columns (total 11 columns):\n",
      " #   Column               Non-Null Count   Dtype \n",
      "---  ------               --------------   ----- \n",
      " 0   Ind_ID               278848 non-null  int64 \n",
      " 1   Test_date            278848 non-null  object\n",
      " 2   Cough_symptoms       278596 non-null  object\n",
      " 3   Fever                278596 non-null  object\n",
      " 4   Sore_throat          278847 non-null  object\n",
      " 5   Shortness_of_breath  278847 non-null  object\n",
      " 6   Headache             278847 non-null  object\n",
      " 7   Corona               278848 non-null  object\n",
      " 8   Age_60_above         151528 non-null  object\n",
      " 9   Sex                  259285 non-null  object\n",
      " 10  Known_contact        278848 non-null  object\n",
      "dtypes: int64(1), object(10)\n",
      "memory usage: 23.4+ MB\n"
     ]
    }
   ],
   "source": [
    "covid_raw.info() # To get a concise summary of the dataset."
   ]
  },
  {
   "cell_type": "markdown",
   "id": "742f993f",
   "metadata": {},
   "source": [
    "We have 1 numerical and 10 categorical features based on info functions. \n",
    "However, it seems that **Age_60_above** variable is unnecessary and just have many missing(NaN) values.\n",
    "Similary **Test_date** is a date value but coded as Object.\n",
    "Hence, we have to treat it as numerical/date."
   ]
  },
  {
   "cell_type": "code",
   "execution_count": 718,
   "id": "92e9b0a9",
   "metadata": {},
   "outputs": [
    {
     "data": {
      "text/html": [
       "<div>\n",
       "<style scoped>\n",
       "    .dataframe tbody tr th:only-of-type {\n",
       "        vertical-align: middle;\n",
       "    }\n",
       "\n",
       "    .dataframe tbody tr th {\n",
       "        vertical-align: top;\n",
       "    }\n",
       "\n",
       "    .dataframe thead th {\n",
       "        text-align: right;\n",
       "    }\n",
       "</style>\n",
       "<table border=\"1\" class=\"dataframe\">\n",
       "  <thead>\n",
       "    <tr style=\"text-align: right;\">\n",
       "      <th></th>\n",
       "      <th>Ind_ID</th>\n",
       "      <th>Test_date</th>\n",
       "      <th>Cough_symptoms</th>\n",
       "      <th>Fever</th>\n",
       "      <th>Sore_throat</th>\n",
       "      <th>Shortness_of_breath</th>\n",
       "      <th>Headache</th>\n",
       "      <th>Corona</th>\n",
       "      <th>Age_60_above</th>\n",
       "      <th>Sex</th>\n",
       "      <th>Known_contact</th>\n",
       "    </tr>\n",
       "  </thead>\n",
       "  <tbody>\n",
       "    <tr>\n",
       "      <th>0</th>\n",
       "      <td>1</td>\n",
       "      <td>11-03-2020</td>\n",
       "      <td>True</td>\n",
       "      <td>False</td>\n",
       "      <td>True</td>\n",
       "      <td>False</td>\n",
       "      <td>False</td>\n",
       "      <td>negative</td>\n",
       "      <td>NaN</td>\n",
       "      <td>NaN</td>\n",
       "      <td>Abroad</td>\n",
       "    </tr>\n",
       "    <tr>\n",
       "      <th>1</th>\n",
       "      <td>2</td>\n",
       "      <td>11-03-2020</td>\n",
       "      <td>False</td>\n",
       "      <td>True</td>\n",
       "      <td>False</td>\n",
       "      <td>False</td>\n",
       "      <td>False</td>\n",
       "      <td>positive</td>\n",
       "      <td>NaN</td>\n",
       "      <td>NaN</td>\n",
       "      <td>Abroad</td>\n",
       "    </tr>\n",
       "    <tr>\n",
       "      <th>2</th>\n",
       "      <td>3</td>\n",
       "      <td>11-03-2020</td>\n",
       "      <td>False</td>\n",
       "      <td>True</td>\n",
       "      <td>False</td>\n",
       "      <td>False</td>\n",
       "      <td>False</td>\n",
       "      <td>positive</td>\n",
       "      <td>NaN</td>\n",
       "      <td>NaN</td>\n",
       "      <td>Abroad</td>\n",
       "    </tr>\n",
       "    <tr>\n",
       "      <th>3</th>\n",
       "      <td>4</td>\n",
       "      <td>11-03-2020</td>\n",
       "      <td>True</td>\n",
       "      <td>False</td>\n",
       "      <td>False</td>\n",
       "      <td>False</td>\n",
       "      <td>False</td>\n",
       "      <td>negative</td>\n",
       "      <td>NaN</td>\n",
       "      <td>NaN</td>\n",
       "      <td>Abroad</td>\n",
       "    </tr>\n",
       "    <tr>\n",
       "      <th>4</th>\n",
       "      <td>5</td>\n",
       "      <td>11-03-2020</td>\n",
       "      <td>True</td>\n",
       "      <td>False</td>\n",
       "      <td>False</td>\n",
       "      <td>False</td>\n",
       "      <td>False</td>\n",
       "      <td>negative</td>\n",
       "      <td>NaN</td>\n",
       "      <td>NaN</td>\n",
       "      <td>Contact with confirmed</td>\n",
       "    </tr>\n",
       "  </tbody>\n",
       "</table>\n",
       "</div>"
      ],
      "text/plain": [
       "   Ind_ID   Test_date Cough_symptoms  Fever Sore_throat Shortness_of_breath  \\\n",
       "0       1  11-03-2020           True  False        True               False   \n",
       "1       2  11-03-2020          False   True       False               False   \n",
       "2       3  11-03-2020          False   True       False               False   \n",
       "3       4  11-03-2020           True  False       False               False   \n",
       "4       5  11-03-2020           True  False       False               False   \n",
       "\n",
       "  Headache    Corona Age_60_above  Sex           Known_contact  \n",
       "0    False  negative          NaN  NaN                  Abroad  \n",
       "1    False  positive          NaN  NaN                  Abroad  \n",
       "2    False  positive          NaN  NaN                  Abroad  \n",
       "3    False  negative          NaN  NaN                  Abroad  \n",
       "4    False  negative          NaN  NaN  Contact with confirmed  "
      ]
     },
     "execution_count": 718,
     "metadata": {},
     "output_type": "execute_result"
    }
   ],
   "source": [
    "covid.head()"
   ]
  },
  {
   "cell_type": "markdown",
   "id": "730ae790",
   "metadata": {},
   "source": [
    "### Summary of continuous variable"
   ]
  },
  {
   "cell_type": "code",
   "execution_count": 719,
   "id": "5c42af8f",
   "metadata": {},
   "outputs": [
    {
     "data": {
      "text/html": [
       "<div>\n",
       "<style scoped>\n",
       "    .dataframe tbody tr th:only-of-type {\n",
       "        vertical-align: middle;\n",
       "    }\n",
       "\n",
       "    .dataframe tbody tr th {\n",
       "        vertical-align: top;\n",
       "    }\n",
       "\n",
       "    .dataframe thead th {\n",
       "        text-align: right;\n",
       "    }\n",
       "</style>\n",
       "<table border=\"1\" class=\"dataframe\">\n",
       "  <thead>\n",
       "    <tr style=\"text-align: right;\">\n",
       "      <th></th>\n",
       "      <th>Ind_ID</th>\n",
       "      <th>Test_date</th>\n",
       "      <th>Cough_symptoms</th>\n",
       "      <th>Fever</th>\n",
       "      <th>Sore_throat</th>\n",
       "      <th>Shortness_of_breath</th>\n",
       "      <th>Headache</th>\n",
       "      <th>Corona</th>\n",
       "      <th>Age_60_above</th>\n",
       "      <th>Sex</th>\n",
       "      <th>Known_contact</th>\n",
       "    </tr>\n",
       "  </thead>\n",
       "  <tbody>\n",
       "    <tr>\n",
       "      <th>count</th>\n",
       "      <td>278848.000000</td>\n",
       "      <td>278848</td>\n",
       "      <td>278596</td>\n",
       "      <td>278596</td>\n",
       "      <td>278847</td>\n",
       "      <td>278847</td>\n",
       "      <td>278847</td>\n",
       "      <td>278848</td>\n",
       "      <td>151528</td>\n",
       "      <td>259285</td>\n",
       "      <td>278848</td>\n",
       "    </tr>\n",
       "    <tr>\n",
       "      <th>unique</th>\n",
       "      <td>NaN</td>\n",
       "      <td>51</td>\n",
       "      <td>2</td>\n",
       "      <td>2</td>\n",
       "      <td>2</td>\n",
       "      <td>2</td>\n",
       "      <td>2</td>\n",
       "      <td>3</td>\n",
       "      <td>2</td>\n",
       "      <td>2</td>\n",
       "      <td>3</td>\n",
       "    </tr>\n",
       "    <tr>\n",
       "      <th>top</th>\n",
       "      <td>NaN</td>\n",
       "      <td>20-04-2020</td>\n",
       "      <td>False</td>\n",
       "      <td>False</td>\n",
       "      <td>False</td>\n",
       "      <td>False</td>\n",
       "      <td>False</td>\n",
       "      <td>negative</td>\n",
       "      <td>No</td>\n",
       "      <td>female</td>\n",
       "      <td>Other</td>\n",
       "    </tr>\n",
       "    <tr>\n",
       "      <th>freq</th>\n",
       "      <td>NaN</td>\n",
       "      <td>10921</td>\n",
       "      <td>236368</td>\n",
       "      <td>256844</td>\n",
       "      <td>276921</td>\n",
       "      <td>277270</td>\n",
       "      <td>276433</td>\n",
       "      <td>260227</td>\n",
       "      <td>125703</td>\n",
       "      <td>130158</td>\n",
       "      <td>242741</td>\n",
       "    </tr>\n",
       "    <tr>\n",
       "      <th>mean</th>\n",
       "      <td>139424.500000</td>\n",
       "      <td>NaN</td>\n",
       "      <td>NaN</td>\n",
       "      <td>NaN</td>\n",
       "      <td>NaN</td>\n",
       "      <td>NaN</td>\n",
       "      <td>NaN</td>\n",
       "      <td>NaN</td>\n",
       "      <td>NaN</td>\n",
       "      <td>NaN</td>\n",
       "      <td>NaN</td>\n",
       "    </tr>\n",
       "    <tr>\n",
       "      <th>std</th>\n",
       "      <td>80496.628269</td>\n",
       "      <td>NaN</td>\n",
       "      <td>NaN</td>\n",
       "      <td>NaN</td>\n",
       "      <td>NaN</td>\n",
       "      <td>NaN</td>\n",
       "      <td>NaN</td>\n",
       "      <td>NaN</td>\n",
       "      <td>NaN</td>\n",
       "      <td>NaN</td>\n",
       "      <td>NaN</td>\n",
       "    </tr>\n",
       "    <tr>\n",
       "      <th>min</th>\n",
       "      <td>1.000000</td>\n",
       "      <td>NaN</td>\n",
       "      <td>NaN</td>\n",
       "      <td>NaN</td>\n",
       "      <td>NaN</td>\n",
       "      <td>NaN</td>\n",
       "      <td>NaN</td>\n",
       "      <td>NaN</td>\n",
       "      <td>NaN</td>\n",
       "      <td>NaN</td>\n",
       "      <td>NaN</td>\n",
       "    </tr>\n",
       "    <tr>\n",
       "      <th>25%</th>\n",
       "      <td>69712.750000</td>\n",
       "      <td>NaN</td>\n",
       "      <td>NaN</td>\n",
       "      <td>NaN</td>\n",
       "      <td>NaN</td>\n",
       "      <td>NaN</td>\n",
       "      <td>NaN</td>\n",
       "      <td>NaN</td>\n",
       "      <td>NaN</td>\n",
       "      <td>NaN</td>\n",
       "      <td>NaN</td>\n",
       "    </tr>\n",
       "    <tr>\n",
       "      <th>50%</th>\n",
       "      <td>139424.500000</td>\n",
       "      <td>NaN</td>\n",
       "      <td>NaN</td>\n",
       "      <td>NaN</td>\n",
       "      <td>NaN</td>\n",
       "      <td>NaN</td>\n",
       "      <td>NaN</td>\n",
       "      <td>NaN</td>\n",
       "      <td>NaN</td>\n",
       "      <td>NaN</td>\n",
       "      <td>NaN</td>\n",
       "    </tr>\n",
       "    <tr>\n",
       "      <th>75%</th>\n",
       "      <td>209136.250000</td>\n",
       "      <td>NaN</td>\n",
       "      <td>NaN</td>\n",
       "      <td>NaN</td>\n",
       "      <td>NaN</td>\n",
       "      <td>NaN</td>\n",
       "      <td>NaN</td>\n",
       "      <td>NaN</td>\n",
       "      <td>NaN</td>\n",
       "      <td>NaN</td>\n",
       "      <td>NaN</td>\n",
       "    </tr>\n",
       "    <tr>\n",
       "      <th>max</th>\n",
       "      <td>278848.000000</td>\n",
       "      <td>NaN</td>\n",
       "      <td>NaN</td>\n",
       "      <td>NaN</td>\n",
       "      <td>NaN</td>\n",
       "      <td>NaN</td>\n",
       "      <td>NaN</td>\n",
       "      <td>NaN</td>\n",
       "      <td>NaN</td>\n",
       "      <td>NaN</td>\n",
       "      <td>NaN</td>\n",
       "    </tr>\n",
       "  </tbody>\n",
       "</table>\n",
       "</div>"
      ],
      "text/plain": [
       "               Ind_ID   Test_date Cough_symptoms   Fever Sore_throat  \\\n",
       "count   278848.000000      278848         278596  278596      278847   \n",
       "unique            NaN          51              2       2           2   \n",
       "top               NaN  20-04-2020          False   False       False   \n",
       "freq              NaN       10921         236368  256844      276921   \n",
       "mean    139424.500000         NaN            NaN     NaN         NaN   \n",
       "std      80496.628269         NaN            NaN     NaN         NaN   \n",
       "min          1.000000         NaN            NaN     NaN         NaN   \n",
       "25%      69712.750000         NaN            NaN     NaN         NaN   \n",
       "50%     139424.500000         NaN            NaN     NaN         NaN   \n",
       "75%     209136.250000         NaN            NaN     NaN         NaN   \n",
       "max     278848.000000         NaN            NaN     NaN         NaN   \n",
       "\n",
       "       Shortness_of_breath Headache    Corona Age_60_above     Sex  \\\n",
       "count               278847   278847    278848       151528  259285   \n",
       "unique                   2        2         3            2       2   \n",
       "top                  False    False  negative           No  female   \n",
       "freq                277270   276433    260227       125703  130158   \n",
       "mean                   NaN      NaN       NaN          NaN     NaN   \n",
       "std                    NaN      NaN       NaN          NaN     NaN   \n",
       "min                    NaN      NaN       NaN          NaN     NaN   \n",
       "25%                    NaN      NaN       NaN          NaN     NaN   \n",
       "50%                    NaN      NaN       NaN          NaN     NaN   \n",
       "75%                    NaN      NaN       NaN          NaN     NaN   \n",
       "max                    NaN      NaN       NaN          NaN     NaN   \n",
       "\n",
       "       Known_contact  \n",
       "count         278848  \n",
       "unique             3  \n",
       "top            Other  \n",
       "freq          242741  \n",
       "mean             NaN  \n",
       "std              NaN  \n",
       "min              NaN  \n",
       "25%              NaN  \n",
       "50%              NaN  \n",
       "75%              NaN  \n",
       "max              NaN  "
      ]
     },
     "execution_count": 719,
     "metadata": {},
     "output_type": "execute_result"
    }
   ],
   "source": [
    "covid.describe(include = 'all')"
   ]
  },
  {
   "cell_type": "markdown",
   "id": "2287f10e",
   "metadata": {},
   "source": [
    "### Checking unique values"
   ]
  },
  {
   "cell_type": "code",
   "execution_count": 720,
   "id": "f46f943a",
   "metadata": {
    "scrolled": true
   },
   "outputs": [
    {
     "data": {
      "text/plain": [
       "Ind_ID                 278848\n",
       "Test_date                  51\n",
       "Cough_symptoms              2\n",
       "Fever                       2\n",
       "Sore_throat                 2\n",
       "Shortness_of_breath         2\n",
       "Headache                    2\n",
       "Corona                      3\n",
       "Age_60_above                2\n",
       "Sex                         2\n",
       "Known_contact               3\n",
       "dtype: int64"
      ]
     },
     "execution_count": 720,
     "metadata": {},
     "output_type": "execute_result"
    }
   ],
   "source": [
    "covid.nunique()"
   ]
  },
  {
   "cell_type": "code",
   "execution_count": 721,
   "id": "459695fd",
   "metadata": {},
   "outputs": [
    {
     "name": "stdout",
     "output_type": "stream",
     "text": [
      "unique Value in Ind_ID: [     1      2      3 ... 278846 278847 278848]\n",
      "unique Value in Test_date: ['11-03-2020' '12-03-2020' '13-03-2020' '14-03-2020' '15-03-2020'\n",
      " '16-03-2020' '17-03-2020' '18-03-2020' '19-03-2020' '20-03-2020'\n",
      " '21-03-2020' '22-03-2020' '23-03-2020' '24-03-2020' '25-03-2020'\n",
      " '26-03-2020' '27-03-2020' '28-03-2020' '29-03-2020' '30-03-2020'\n",
      " '31-03-2020' '01-04-2020' '02-04-2020' '03-04-2020' '04-04-2020'\n",
      " '05-04-2020' '06-04-2020' '07-04-2020' '08-04-2020' '09-04-2020'\n",
      " '10-04-2020' '11-04-2020' '12-04-2020' '13-04-2020' '14-04-2020'\n",
      " '15-04-2020' '16-04-2020' '17-04-2020' '18-04-2020' '19-04-2020'\n",
      " '20-04-2020' '21-04-2020' '22-04-2020' '23-04-2020' '24-04-2020'\n",
      " '25-04-2020' '26-04-2020' '27-04-2020' '28-04-2020' '29-04-2020'\n",
      " '30-04-2020']\n",
      "unique Value in Cough_symptoms: [True False nan]\n",
      "unique Value in Fever: [False True nan]\n",
      "unique Value in Sore_throat: [True False nan]\n",
      "unique Value in Shortness_of_breath: [False True nan]\n",
      "unique Value in Headache: [False True nan]\n",
      "unique Value in Corona: ['negative' 'positive' 'other']\n",
      "unique Value in Age_60_above: [nan 'No' 'Yes']\n",
      "unique Value in Sex: [nan 'male' 'female']\n",
      "unique Value in Known_contact: ['Abroad' 'Contact with confirmed' 'Other']\n"
     ]
    }
   ],
   "source": [
    "for column in covid:\n",
    "    unique_value=covid[column].unique()\n",
    "    print(f'unique Value in {column}:',unique_value)"
   ]
  },
  {
   "cell_type": "markdown",
   "id": "cfac13df",
   "metadata": {},
   "source": [
    "## Analysing the amount of missing values"
   ]
  },
  {
   "cell_type": "code",
   "execution_count": 722,
   "id": "159bf207",
   "metadata": {},
   "outputs": [
    {
     "data": {
      "text/html": [
       "<div>\n",
       "<style scoped>\n",
       "    .dataframe tbody tr th:only-of-type {\n",
       "        vertical-align: middle;\n",
       "    }\n",
       "\n",
       "    .dataframe tbody tr th {\n",
       "        vertical-align: top;\n",
       "    }\n",
       "\n",
       "    .dataframe thead th {\n",
       "        text-align: right;\n",
       "    }\n",
       "</style>\n",
       "<table border=\"1\" class=\"dataframe\">\n",
       "  <thead>\n",
       "    <tr style=\"text-align: right;\">\n",
       "      <th></th>\n",
       "      <th>missing_values</th>\n",
       "      <th>percent_missing %</th>\n",
       "    </tr>\n",
       "  </thead>\n",
       "  <tbody>\n",
       "    <tr>\n",
       "      <th>Ind_ID</th>\n",
       "      <td>0</td>\n",
       "      <td>0.000000</td>\n",
       "    </tr>\n",
       "    <tr>\n",
       "      <th>Test_date</th>\n",
       "      <td>0</td>\n",
       "      <td>0.000000</td>\n",
       "    </tr>\n",
       "    <tr>\n",
       "      <th>Cough_symptoms</th>\n",
       "      <td>252</td>\n",
       "      <td>0.090372</td>\n",
       "    </tr>\n",
       "    <tr>\n",
       "      <th>Fever</th>\n",
       "      <td>252</td>\n",
       "      <td>0.090372</td>\n",
       "    </tr>\n",
       "    <tr>\n",
       "      <th>Sore_throat</th>\n",
       "      <td>1</td>\n",
       "      <td>0.000359</td>\n",
       "    </tr>\n",
       "    <tr>\n",
       "      <th>Shortness_of_breath</th>\n",
       "      <td>1</td>\n",
       "      <td>0.000359</td>\n",
       "    </tr>\n",
       "    <tr>\n",
       "      <th>Headache</th>\n",
       "      <td>1</td>\n",
       "      <td>0.000359</td>\n",
       "    </tr>\n",
       "    <tr>\n",
       "      <th>Corona</th>\n",
       "      <td>0</td>\n",
       "      <td>0.000000</td>\n",
       "    </tr>\n",
       "    <tr>\n",
       "      <th>Age_60_above</th>\n",
       "      <td>127320</td>\n",
       "      <td>45.659284</td>\n",
       "    </tr>\n",
       "    <tr>\n",
       "      <th>Sex</th>\n",
       "      <td>19563</td>\n",
       "      <td>7.015650</td>\n",
       "    </tr>\n",
       "    <tr>\n",
       "      <th>Known_contact</th>\n",
       "      <td>0</td>\n",
       "      <td>0.000000</td>\n",
       "    </tr>\n",
       "  </tbody>\n",
       "</table>\n",
       "</div>"
      ],
      "text/plain": [
       "                     missing_values   percent_missing %\n",
       "Ind_ID                             0           0.000000\n",
       "Test_date                          0           0.000000\n",
       "Cough_symptoms                   252           0.090372\n",
       "Fever                            252           0.090372\n",
       "Sore_throat                        1           0.000359\n",
       "Shortness_of_breath                1           0.000359\n",
       "Headache                           1           0.000359\n",
       "Corona                             0           0.000000\n",
       "Age_60_above                  127320          45.659284\n",
       "Sex                            19563           7.015650\n",
       "Known_contact                      0           0.000000"
      ]
     },
     "execution_count": 722,
     "metadata": {},
     "output_type": "execute_result"
    }
   ],
   "source": [
    "# create a table with data missing \n",
    "missing_values=covid.isnull().sum() # missing values\n",
    "\n",
    "percent_missing = covid.isnull().sum()/covid.shape[0]*100 # missing value %\n",
    "\n",
    "value = {\n",
    "    'missing_values ':missing_values,\n",
    "    'percent_missing %':percent_missing  \n",
    "}\n",
    "frame=pd.DataFrame(value)\n",
    "frame"
   ]
  },
  {
   "cell_type": "markdown",
   "id": "a296dc7b",
   "metadata": {},
   "source": [
    "#### cough_symptoms,Fever, Sex contains null values"
   ]
  },
  {
   "cell_type": "code",
   "execution_count": 723,
   "id": "900c8839",
   "metadata": {},
   "outputs": [
    {
     "data": {
      "text/html": [
       "<div>\n",
       "<style scoped>\n",
       "    .dataframe tbody tr th:only-of-type {\n",
       "        vertical-align: middle;\n",
       "    }\n",
       "\n",
       "    .dataframe tbody tr th {\n",
       "        vertical-align: top;\n",
       "    }\n",
       "\n",
       "    .dataframe thead th {\n",
       "        text-align: right;\n",
       "    }\n",
       "</style>\n",
       "<table border=\"1\" class=\"dataframe\">\n",
       "  <thead>\n",
       "    <tr style=\"text-align: right;\">\n",
       "      <th></th>\n",
       "      <th>Ind_ID</th>\n",
       "      <th>Test_date</th>\n",
       "      <th>Cough_symptoms</th>\n",
       "      <th>Fever</th>\n",
       "      <th>Sore_throat</th>\n",
       "      <th>Shortness_of_breath</th>\n",
       "      <th>Headache</th>\n",
       "      <th>Corona</th>\n",
       "      <th>Age_60_above</th>\n",
       "      <th>Sex</th>\n",
       "      <th>Known_contact</th>\n",
       "    </tr>\n",
       "  </thead>\n",
       "  <tbody>\n",
       "    <tr>\n",
       "      <th>0</th>\n",
       "      <td>False</td>\n",
       "      <td>False</td>\n",
       "      <td>False</td>\n",
       "      <td>False</td>\n",
       "      <td>False</td>\n",
       "      <td>False</td>\n",
       "      <td>False</td>\n",
       "      <td>False</td>\n",
       "      <td>True</td>\n",
       "      <td>True</td>\n",
       "      <td>False</td>\n",
       "    </tr>\n",
       "    <tr>\n",
       "      <th>1</th>\n",
       "      <td>False</td>\n",
       "      <td>False</td>\n",
       "      <td>False</td>\n",
       "      <td>False</td>\n",
       "      <td>False</td>\n",
       "      <td>False</td>\n",
       "      <td>False</td>\n",
       "      <td>False</td>\n",
       "      <td>True</td>\n",
       "      <td>True</td>\n",
       "      <td>False</td>\n",
       "    </tr>\n",
       "    <tr>\n",
       "      <th>2</th>\n",
       "      <td>False</td>\n",
       "      <td>False</td>\n",
       "      <td>False</td>\n",
       "      <td>False</td>\n",
       "      <td>False</td>\n",
       "      <td>False</td>\n",
       "      <td>False</td>\n",
       "      <td>False</td>\n",
       "      <td>True</td>\n",
       "      <td>True</td>\n",
       "      <td>False</td>\n",
       "    </tr>\n",
       "    <tr>\n",
       "      <th>3</th>\n",
       "      <td>False</td>\n",
       "      <td>False</td>\n",
       "      <td>False</td>\n",
       "      <td>False</td>\n",
       "      <td>False</td>\n",
       "      <td>False</td>\n",
       "      <td>False</td>\n",
       "      <td>False</td>\n",
       "      <td>True</td>\n",
       "      <td>True</td>\n",
       "      <td>False</td>\n",
       "    </tr>\n",
       "    <tr>\n",
       "      <th>4</th>\n",
       "      <td>False</td>\n",
       "      <td>False</td>\n",
       "      <td>False</td>\n",
       "      <td>False</td>\n",
       "      <td>False</td>\n",
       "      <td>False</td>\n",
       "      <td>False</td>\n",
       "      <td>False</td>\n",
       "      <td>True</td>\n",
       "      <td>True</td>\n",
       "      <td>False</td>\n",
       "    </tr>\n",
       "    <tr>\n",
       "      <th>...</th>\n",
       "      <td>...</td>\n",
       "      <td>...</td>\n",
       "      <td>...</td>\n",
       "      <td>...</td>\n",
       "      <td>...</td>\n",
       "      <td>...</td>\n",
       "      <td>...</td>\n",
       "      <td>...</td>\n",
       "      <td>...</td>\n",
       "      <td>...</td>\n",
       "      <td>...</td>\n",
       "    </tr>\n",
       "    <tr>\n",
       "      <th>278843</th>\n",
       "      <td>False</td>\n",
       "      <td>False</td>\n",
       "      <td>False</td>\n",
       "      <td>False</td>\n",
       "      <td>False</td>\n",
       "      <td>False</td>\n",
       "      <td>False</td>\n",
       "      <td>False</td>\n",
       "      <td>True</td>\n",
       "      <td>False</td>\n",
       "      <td>False</td>\n",
       "    </tr>\n",
       "    <tr>\n",
       "      <th>278844</th>\n",
       "      <td>False</td>\n",
       "      <td>False</td>\n",
       "      <td>False</td>\n",
       "      <td>False</td>\n",
       "      <td>False</td>\n",
       "      <td>False</td>\n",
       "      <td>False</td>\n",
       "      <td>False</td>\n",
       "      <td>True</td>\n",
       "      <td>False</td>\n",
       "      <td>False</td>\n",
       "    </tr>\n",
       "    <tr>\n",
       "      <th>278845</th>\n",
       "      <td>False</td>\n",
       "      <td>False</td>\n",
       "      <td>False</td>\n",
       "      <td>False</td>\n",
       "      <td>False</td>\n",
       "      <td>False</td>\n",
       "      <td>False</td>\n",
       "      <td>False</td>\n",
       "      <td>True</td>\n",
       "      <td>False</td>\n",
       "      <td>False</td>\n",
       "    </tr>\n",
       "    <tr>\n",
       "      <th>278846</th>\n",
       "      <td>False</td>\n",
       "      <td>False</td>\n",
       "      <td>False</td>\n",
       "      <td>False</td>\n",
       "      <td>False</td>\n",
       "      <td>False</td>\n",
       "      <td>False</td>\n",
       "      <td>False</td>\n",
       "      <td>True</td>\n",
       "      <td>False</td>\n",
       "      <td>False</td>\n",
       "    </tr>\n",
       "    <tr>\n",
       "      <th>278847</th>\n",
       "      <td>False</td>\n",
       "      <td>False</td>\n",
       "      <td>False</td>\n",
       "      <td>False</td>\n",
       "      <td>False</td>\n",
       "      <td>False</td>\n",
       "      <td>False</td>\n",
       "      <td>False</td>\n",
       "      <td>True</td>\n",
       "      <td>False</td>\n",
       "      <td>False</td>\n",
       "    </tr>\n",
       "  </tbody>\n",
       "</table>\n",
       "<p>278848 rows × 11 columns</p>\n",
       "</div>"
      ],
      "text/plain": [
       "        Ind_ID  Test_date  Cough_symptoms  Fever  Sore_throat  \\\n",
       "0        False      False           False  False        False   \n",
       "1        False      False           False  False        False   \n",
       "2        False      False           False  False        False   \n",
       "3        False      False           False  False        False   \n",
       "4        False      False           False  False        False   \n",
       "...        ...        ...             ...    ...          ...   \n",
       "278843   False      False           False  False        False   \n",
       "278844   False      False           False  False        False   \n",
       "278845   False      False           False  False        False   \n",
       "278846   False      False           False  False        False   \n",
       "278847   False      False           False  False        False   \n",
       "\n",
       "        Shortness_of_breath  Headache  Corona  Age_60_above    Sex  \\\n",
       "0                     False     False   False          True   True   \n",
       "1                     False     False   False          True   True   \n",
       "2                     False     False   False          True   True   \n",
       "3                     False     False   False          True   True   \n",
       "4                     False     False   False          True   True   \n",
       "...                     ...       ...     ...           ...    ...   \n",
       "278843                False     False   False          True  False   \n",
       "278844                False     False   False          True  False   \n",
       "278845                False     False   False          True  False   \n",
       "278846                False     False   False          True  False   \n",
       "278847                False     False   False          True  False   \n",
       "\n",
       "        Known_contact  \n",
       "0               False  \n",
       "1               False  \n",
       "2               False  \n",
       "3               False  \n",
       "4               False  \n",
       "...               ...  \n",
       "278843          False  \n",
       "278844          False  \n",
       "278845          False  \n",
       "278846          False  \n",
       "278847          False  \n",
       "\n",
       "[278848 rows x 11 columns]"
      ]
     },
     "execution_count": 723,
     "metadata": {},
     "output_type": "execute_result"
    }
   ],
   "source": [
    "covid.isnull()"
   ]
  },
  {
   "cell_type": "markdown",
   "id": "7b6864c2",
   "metadata": {},
   "source": [
    "# Correlation between features and target variable\n"
   ]
  },
  {
   "cell_type": "code",
   "execution_count": 724,
   "id": "8dd9b00e",
   "metadata": {},
   "outputs": [
    {
     "data": {
      "text/plain": [
       "<Axes: >"
      ]
     },
     "execution_count": 724,
     "metadata": {},
     "output_type": "execute_result"
    },
    {
     "data": {
      "image/png": "[encoded data removed]",
      "text/plain": [
       "<Figure size 2000x1200 with 2 Axes>"
      ]
     },
     "metadata": {},
     "output_type": "display_data"
    }
   ],
   "source": [
    "msno.heatmap(covid)"
   ]
  },
  {
   "cell_type": "markdown",
   "id": "1b7ce563",
   "metadata": {},
   "source": [
    "# Check Duplicates"
   ]
  },
  {
   "cell_type": "code",
   "execution_count": 725,
   "id": "8fef476a",
   "metadata": {
    "scrolled": true
   },
   "outputs": [
    {
     "data": {
      "text/html": [
       "<div>\n",
       "<style scoped>\n",
       "    .dataframe tbody tr th:only-of-type {\n",
       "        vertical-align: middle;\n",
       "    }\n",
       "\n",
       "    .dataframe tbody tr th {\n",
       "        vertical-align: top;\n",
       "    }\n",
       "\n",
       "    .dataframe thead th {\n",
       "        text-align: right;\n",
       "    }\n",
       "</style>\n",
       "<table border=\"1\" class=\"dataframe\">\n",
       "  <thead>\n",
       "    <tr style=\"text-align: right;\">\n",
       "      <th></th>\n",
       "      <th>Ind_ID</th>\n",
       "      <th>Test_date</th>\n",
       "      <th>Cough_symptoms</th>\n",
       "      <th>Fever</th>\n",
       "      <th>Sore_throat</th>\n",
       "      <th>Shortness_of_breath</th>\n",
       "      <th>Headache</th>\n",
       "      <th>Corona</th>\n",
       "      <th>Age_60_above</th>\n",
       "      <th>Sex</th>\n",
       "      <th>Known_contact</th>\n",
       "    </tr>\n",
       "  </thead>\n",
       "  <tbody>\n",
       "    <tr>\n",
       "      <th>0</th>\n",
       "      <td>1</td>\n",
       "      <td>11-03-2020</td>\n",
       "      <td>True</td>\n",
       "      <td>False</td>\n",
       "      <td>True</td>\n",
       "      <td>False</td>\n",
       "      <td>False</td>\n",
       "      <td>negative</td>\n",
       "      <td>NaN</td>\n",
       "      <td>NaN</td>\n",
       "      <td>Abroad</td>\n",
       "    </tr>\n",
       "    <tr>\n",
       "      <th>1</th>\n",
       "      <td>2</td>\n",
       "      <td>11-03-2020</td>\n",
       "      <td>False</td>\n",
       "      <td>True</td>\n",
       "      <td>False</td>\n",
       "      <td>False</td>\n",
       "      <td>False</td>\n",
       "      <td>positive</td>\n",
       "      <td>NaN</td>\n",
       "      <td>NaN</td>\n",
       "      <td>Abroad</td>\n",
       "    </tr>\n",
       "    <tr>\n",
       "      <th>2</th>\n",
       "      <td>3</td>\n",
       "      <td>11-03-2020</td>\n",
       "      <td>False</td>\n",
       "      <td>True</td>\n",
       "      <td>False</td>\n",
       "      <td>False</td>\n",
       "      <td>False</td>\n",
       "      <td>positive</td>\n",
       "      <td>NaN</td>\n",
       "      <td>NaN</td>\n",
       "      <td>Abroad</td>\n",
       "    </tr>\n",
       "    <tr>\n",
       "      <th>3</th>\n",
       "      <td>4</td>\n",
       "      <td>11-03-2020</td>\n",
       "      <td>True</td>\n",
       "      <td>False</td>\n",
       "      <td>False</td>\n",
       "      <td>False</td>\n",
       "      <td>False</td>\n",
       "      <td>negative</td>\n",
       "      <td>NaN</td>\n",
       "      <td>NaN</td>\n",
       "      <td>Abroad</td>\n",
       "    </tr>\n",
       "    <tr>\n",
       "      <th>4</th>\n",
       "      <td>5</td>\n",
       "      <td>11-03-2020</td>\n",
       "      <td>True</td>\n",
       "      <td>False</td>\n",
       "      <td>False</td>\n",
       "      <td>False</td>\n",
       "      <td>False</td>\n",
       "      <td>negative</td>\n",
       "      <td>NaN</td>\n",
       "      <td>NaN</td>\n",
       "      <td>Contact with confirmed</td>\n",
       "    </tr>\n",
       "    <tr>\n",
       "      <th>...</th>\n",
       "      <td>...</td>\n",
       "      <td>...</td>\n",
       "      <td>...</td>\n",
       "      <td>...</td>\n",
       "      <td>...</td>\n",
       "      <td>...</td>\n",
       "      <td>...</td>\n",
       "      <td>...</td>\n",
       "      <td>...</td>\n",
       "      <td>...</td>\n",
       "      <td>...</td>\n",
       "    </tr>\n",
       "    <tr>\n",
       "      <th>278843</th>\n",
       "      <td>278844</td>\n",
       "      <td>30-04-2020</td>\n",
       "      <td>False</td>\n",
       "      <td>False</td>\n",
       "      <td>False</td>\n",
       "      <td>False</td>\n",
       "      <td>False</td>\n",
       "      <td>positive</td>\n",
       "      <td>NaN</td>\n",
       "      <td>male</td>\n",
       "      <td>Other</td>\n",
       "    </tr>\n",
       "    <tr>\n",
       "      <th>278844</th>\n",
       "      <td>278845</td>\n",
       "      <td>30-04-2020</td>\n",
       "      <td>False</td>\n",
       "      <td>False</td>\n",
       "      <td>False</td>\n",
       "      <td>False</td>\n",
       "      <td>False</td>\n",
       "      <td>negative</td>\n",
       "      <td>NaN</td>\n",
       "      <td>female</td>\n",
       "      <td>Other</td>\n",
       "    </tr>\n",
       "    <tr>\n",
       "      <th>278845</th>\n",
       "      <td>278846</td>\n",
       "      <td>30-04-2020</td>\n",
       "      <td>False</td>\n",
       "      <td>False</td>\n",
       "      <td>False</td>\n",
       "      <td>False</td>\n",
       "      <td>False</td>\n",
       "      <td>negative</td>\n",
       "      <td>NaN</td>\n",
       "      <td>male</td>\n",
       "      <td>Other</td>\n",
       "    </tr>\n",
       "    <tr>\n",
       "      <th>278846</th>\n",
       "      <td>278847</td>\n",
       "      <td>30-04-2020</td>\n",
       "      <td>False</td>\n",
       "      <td>False</td>\n",
       "      <td>False</td>\n",
       "      <td>False</td>\n",
       "      <td>False</td>\n",
       "      <td>negative</td>\n",
       "      <td>NaN</td>\n",
       "      <td>male</td>\n",
       "      <td>Other</td>\n",
       "    </tr>\n",
       "    <tr>\n",
       "      <th>278847</th>\n",
       "      <td>278848</td>\n",
       "      <td>30-04-2020</td>\n",
       "      <td>False</td>\n",
       "      <td>False</td>\n",
       "      <td>False</td>\n",
       "      <td>False</td>\n",
       "      <td>False</td>\n",
       "      <td>negative</td>\n",
       "      <td>NaN</td>\n",
       "      <td>female</td>\n",
       "      <td>Other</td>\n",
       "    </tr>\n",
       "  </tbody>\n",
       "</table>\n",
       "<p>278848 rows × 11 columns</p>\n",
       "</div>"
      ],
      "text/plain": [
       "        Ind_ID   Test_date Cough_symptoms  Fever Sore_throat  \\\n",
       "0            1  11-03-2020           True  False        True   \n",
       "1            2  11-03-2020          False   True       False   \n",
       "2            3  11-03-2020          False   True       False   \n",
       "3            4  11-03-2020           True  False       False   \n",
       "4            5  11-03-2020           True  False       False   \n",
       "...        ...         ...            ...    ...         ...   \n",
       "278843  278844  30-04-2020          False  False       False   \n",
       "278844  278845  30-04-2020          False  False       False   \n",
       "278845  278846  30-04-2020          False  False       False   \n",
       "278846  278847  30-04-2020          False  False       False   \n",
       "278847  278848  30-04-2020          False  False       False   \n",
       "\n",
       "       Shortness_of_breath Headache    Corona Age_60_above     Sex  \\\n",
       "0                    False    False  negative          NaN     NaN   \n",
       "1                    False    False  positive          NaN     NaN   \n",
       "2                    False    False  positive          NaN     NaN   \n",
       "3                    False    False  negative          NaN     NaN   \n",
       "4                    False    False  negative          NaN     NaN   \n",
       "...                    ...      ...       ...          ...     ...   \n",
       "278843               False    False  positive          NaN    male   \n",
       "278844               False    False  negative          NaN  female   \n",
       "278845               False    False  negative          NaN    male   \n",
       "278846               False    False  negative          NaN    male   \n",
       "278847               False    False  negative          NaN  female   \n",
       "\n",
       "                 Known_contact  \n",
       "0                       Abroad  \n",
       "1                       Abroad  \n",
       "2                       Abroad  \n",
       "3                       Abroad  \n",
       "4       Contact with confirmed  \n",
       "...                        ...  \n",
       "278843                   Other  \n",
       "278844                   Other  \n",
       "278845                   Other  \n",
       "278846                   Other  \n",
       "278847                   Other  \n",
       "\n",
       "[278848 rows x 11 columns]"
      ]
     },
     "execution_count": 725,
     "metadata": {},
     "output_type": "execute_result"
    }
   ],
   "source": [
    "covid.drop_duplicates() # check if there are duplicates"
   ]
  },
  {
   "cell_type": "code",
   "execution_count": 726,
   "id": "4e2dc990",
   "metadata": {},
   "outputs": [
    {
     "data": {
      "text/html": [
       "<div>\n",
       "<style scoped>\n",
       "    .dataframe tbody tr th:only-of-type {\n",
       "        vertical-align: middle;\n",
       "    }\n",
       "\n",
       "    .dataframe tbody tr th {\n",
       "        vertical-align: top;\n",
       "    }\n",
       "\n",
       "    .dataframe thead th {\n",
       "        text-align: right;\n",
       "    }\n",
       "</style>\n",
       "<table border=\"1\" class=\"dataframe\">\n",
       "  <thead>\n",
       "    <tr style=\"text-align: right;\">\n",
       "      <th></th>\n",
       "      <th>Ind_ID</th>\n",
       "      <th>Test_date</th>\n",
       "      <th>Cough_symptoms</th>\n",
       "      <th>Fever</th>\n",
       "      <th>Sore_throat</th>\n",
       "      <th>Shortness_of_breath</th>\n",
       "      <th>Headache</th>\n",
       "      <th>Corona</th>\n",
       "      <th>Age_60_above</th>\n",
       "      <th>Sex</th>\n",
       "      <th>Known_contact</th>\n",
       "    </tr>\n",
       "  </thead>\n",
       "  <tbody>\n",
       "  </tbody>\n",
       "</table>\n",
       "</div>"
      ],
      "text/plain": [
       "Empty DataFrame\n",
       "Columns: [Ind_ID, Test_date, Cough_symptoms, Fever, Sore_throat, Shortness_of_breath, Headache, Corona, Age_60_above, Sex, Known_contact]\n",
       "Index: []"
      ]
     },
     "execution_count": 726,
     "metadata": {},
     "output_type": "execute_result"
    }
   ],
   "source": [
    "covid[covid.duplicated()]"
   ]
  },
  {
   "cell_type": "markdown",
   "id": "738c2c16",
   "metadata": {},
   "source": [
    "# Imputation(Replacing values)"
   ]
  },
  {
   "cell_type": "code",
   "execution_count": 727,
   "id": "ff055334",
   "metadata": {},
   "outputs": [
    {
     "data": {
      "text/html": [
       "<div>\n",
       "<style scoped>\n",
       "    .dataframe tbody tr th:only-of-type {\n",
       "        vertical-align: middle;\n",
       "    }\n",
       "\n",
       "    .dataframe tbody tr th {\n",
       "        vertical-align: top;\n",
       "    }\n",
       "\n",
       "    .dataframe thead th {\n",
       "        text-align: right;\n",
       "    }\n",
       "</style>\n",
       "<table border=\"1\" class=\"dataframe\">\n",
       "  <thead>\n",
       "    <tr style=\"text-align: right;\">\n",
       "      <th></th>\n",
       "      <th>Ind_ID</th>\n",
       "      <th>Test_date</th>\n",
       "      <th>Cough_symptoms</th>\n",
       "      <th>Fever</th>\n",
       "      <th>Sore_throat</th>\n",
       "      <th>Shortness_of_breath</th>\n",
       "      <th>Headache</th>\n",
       "      <th>Corona</th>\n",
       "      <th>Age_60_above</th>\n",
       "      <th>Sex</th>\n",
       "      <th>Known_contact</th>\n",
       "    </tr>\n",
       "  </thead>\n",
       "  <tbody>\n",
       "    <tr>\n",
       "      <th>0</th>\n",
       "      <td>1</td>\n",
       "      <td>11-03-2020</td>\n",
       "      <td>True</td>\n",
       "      <td>False</td>\n",
       "      <td>True</td>\n",
       "      <td>False</td>\n",
       "      <td>False</td>\n",
       "      <td>negative</td>\n",
       "      <td>NaN</td>\n",
       "      <td>other</td>\n",
       "      <td>Abroad</td>\n",
       "    </tr>\n",
       "    <tr>\n",
       "      <th>1</th>\n",
       "      <td>2</td>\n",
       "      <td>11-03-2020</td>\n",
       "      <td>False</td>\n",
       "      <td>True</td>\n",
       "      <td>False</td>\n",
       "      <td>False</td>\n",
       "      <td>False</td>\n",
       "      <td>positive</td>\n",
       "      <td>NaN</td>\n",
       "      <td>other</td>\n",
       "      <td>Abroad</td>\n",
       "    </tr>\n",
       "    <tr>\n",
       "      <th>2</th>\n",
       "      <td>3</td>\n",
       "      <td>11-03-2020</td>\n",
       "      <td>False</td>\n",
       "      <td>True</td>\n",
       "      <td>False</td>\n",
       "      <td>False</td>\n",
       "      <td>False</td>\n",
       "      <td>positive</td>\n",
       "      <td>NaN</td>\n",
       "      <td>other</td>\n",
       "      <td>Abroad</td>\n",
       "    </tr>\n",
       "    <tr>\n",
       "      <th>3</th>\n",
       "      <td>4</td>\n",
       "      <td>11-03-2020</td>\n",
       "      <td>True</td>\n",
       "      <td>False</td>\n",
       "      <td>False</td>\n",
       "      <td>False</td>\n",
       "      <td>False</td>\n",
       "      <td>negative</td>\n",
       "      <td>NaN</td>\n",
       "      <td>other</td>\n",
       "      <td>Abroad</td>\n",
       "    </tr>\n",
       "    <tr>\n",
       "      <th>4</th>\n",
       "      <td>5</td>\n",
       "      <td>11-03-2020</td>\n",
       "      <td>True</td>\n",
       "      <td>False</td>\n",
       "      <td>False</td>\n",
       "      <td>False</td>\n",
       "      <td>False</td>\n",
       "      <td>negative</td>\n",
       "      <td>NaN</td>\n",
       "      <td>other</td>\n",
       "      <td>Contact with confirmed</td>\n",
       "    </tr>\n",
       "    <tr>\n",
       "      <th>...</th>\n",
       "      <td>...</td>\n",
       "      <td>...</td>\n",
       "      <td>...</td>\n",
       "      <td>...</td>\n",
       "      <td>...</td>\n",
       "      <td>...</td>\n",
       "      <td>...</td>\n",
       "      <td>...</td>\n",
       "      <td>...</td>\n",
       "      <td>...</td>\n",
       "      <td>...</td>\n",
       "    </tr>\n",
       "    <tr>\n",
       "      <th>278843</th>\n",
       "      <td>278844</td>\n",
       "      <td>30-04-2020</td>\n",
       "      <td>False</td>\n",
       "      <td>False</td>\n",
       "      <td>False</td>\n",
       "      <td>False</td>\n",
       "      <td>False</td>\n",
       "      <td>positive</td>\n",
       "      <td>NaN</td>\n",
       "      <td>male</td>\n",
       "      <td>Other</td>\n",
       "    </tr>\n",
       "    <tr>\n",
       "      <th>278844</th>\n",
       "      <td>278845</td>\n",
       "      <td>30-04-2020</td>\n",
       "      <td>False</td>\n",
       "      <td>False</td>\n",
       "      <td>False</td>\n",
       "      <td>False</td>\n",
       "      <td>False</td>\n",
       "      <td>negative</td>\n",
       "      <td>NaN</td>\n",
       "      <td>female</td>\n",
       "      <td>Other</td>\n",
       "    </tr>\n",
       "    <tr>\n",
       "      <th>278845</th>\n",
       "      <td>278846</td>\n",
       "      <td>30-04-2020</td>\n",
       "      <td>False</td>\n",
       "      <td>False</td>\n",
       "      <td>False</td>\n",
       "      <td>False</td>\n",
       "      <td>False</td>\n",
       "      <td>negative</td>\n",
       "      <td>NaN</td>\n",
       "      <td>male</td>\n",
       "      <td>Other</td>\n",
       "    </tr>\n",
       "    <tr>\n",
       "      <th>278846</th>\n",
       "      <td>278847</td>\n",
       "      <td>30-04-2020</td>\n",
       "      <td>False</td>\n",
       "      <td>False</td>\n",
       "      <td>False</td>\n",
       "      <td>False</td>\n",
       "      <td>False</td>\n",
       "      <td>negative</td>\n",
       "      <td>NaN</td>\n",
       "      <td>male</td>\n",
       "      <td>Other</td>\n",
       "    </tr>\n",
       "    <tr>\n",
       "      <th>278847</th>\n",
       "      <td>278848</td>\n",
       "      <td>30-04-2020</td>\n",
       "      <td>False</td>\n",
       "      <td>False</td>\n",
       "      <td>False</td>\n",
       "      <td>False</td>\n",
       "      <td>False</td>\n",
       "      <td>negative</td>\n",
       "      <td>NaN</td>\n",
       "      <td>female</td>\n",
       "      <td>Other</td>\n",
       "    </tr>\n",
       "  </tbody>\n",
       "</table>\n",
       "<p>278848 rows × 11 columns</p>\n",
       "</div>"
      ],
      "text/plain": [
       "        Ind_ID   Test_date Cough_symptoms  Fever Sore_throat  \\\n",
       "0            1  11-03-2020           True  False        True   \n",
       "1            2  11-03-2020          False   True       False   \n",
       "2            3  11-03-2020          False   True       False   \n",
       "3            4  11-03-2020           True  False       False   \n",
       "4            5  11-03-2020           True  False       False   \n",
       "...        ...         ...            ...    ...         ...   \n",
       "278843  278844  30-04-2020          False  False       False   \n",
       "278844  278845  30-04-2020          False  False       False   \n",
       "278845  278846  30-04-2020          False  False       False   \n",
       "278846  278847  30-04-2020          False  False       False   \n",
       "278847  278848  30-04-2020          False  False       False   \n",
       "\n",
       "       Shortness_of_breath Headache    Corona Age_60_above     Sex  \\\n",
       "0                    False    False  negative          NaN   other   \n",
       "1                    False    False  positive          NaN   other   \n",
       "2                    False    False  positive          NaN   other   \n",
       "3                    False    False  negative          NaN   other   \n",
       "4                    False    False  negative          NaN   other   \n",
       "...                    ...      ...       ...          ...     ...   \n",
       "278843               False    False  positive          NaN    male   \n",
       "278844               False    False  negative          NaN  female   \n",
       "278845               False    False  negative          NaN    male   \n",
       "278846               False    False  negative          NaN    male   \n",
       "278847               False    False  negative          NaN  female   \n",
       "\n",
       "                 Known_contact  \n",
       "0                       Abroad  \n",
       "1                       Abroad  \n",
       "2                       Abroad  \n",
       "3                       Abroad  \n",
       "4       Contact with confirmed  \n",
       "...                        ...  \n",
       "278843                   Other  \n",
       "278844                   Other  \n",
       "278845                   Other  \n",
       "278846                   Other  \n",
       "278847                   Other  \n",
       "\n",
       "[278848 rows x 11 columns]"
      ]
     },
     "execution_count": 727,
     "metadata": {},
     "output_type": "execute_result"
    }
   ],
   "source": [
    "## Converting null values of Sex column to others\n",
    "value = 'other'\n",
    "covid['Sex'].fillna(value,inplace=True)\n",
    "covid\n"
   ]
  },
  {
   "cell_type": "code",
   "execution_count": 728,
   "id": "2cea2fba",
   "metadata": {},
   "outputs": [
    {
     "data": {
      "text/plain": [
       "array(['other', 'male', 'female'], dtype=object)"
      ]
     },
     "execution_count": 728,
     "metadata": {},
     "output_type": "execute_result"
    }
   ],
   "source": [
    "gender=covid['Sex'].unique()\n",
    "gender"
   ]
  },
  {
   "cell_type": "code",
   "execution_count": 729,
   "id": "d3e04faf",
   "metadata": {},
   "outputs": [],
   "source": [
    "# Date_Time Formatting\n",
    "covid['Test_date']=pd.to_datetime(covid['Test_date'], format='%d-%m-%Y')"
   ]
  },
  {
   "cell_type": "code",
   "execution_count": 730,
   "id": "eae504d0",
   "metadata": {},
   "outputs": [
    {
     "data": {
      "text/plain": [
       "Ind_ID                 0.000000\n",
       "Test_date              0.000000\n",
       "Cough_symptoms         0.000904\n",
       "Fever                  0.000904\n",
       "Sore_throat            0.000004\n",
       "Shortness_of_breath    0.000004\n",
       "Headache               0.000004\n",
       "Corona                 0.000000\n",
       "Age_60_above           0.456593\n",
       "Sex                    0.000000\n",
       "Known_contact          0.000000\n",
       "dtype: float64"
      ]
     },
     "execution_count": 730,
     "metadata": {},
     "output_type": "execute_result"
    }
   ],
   "source": [
    "#percentage of missing values\n",
    "covid.isnull().sum()/len(covid) "
   ]
  },
  {
   "cell_type": "code",
   "execution_count": 731,
   "id": "ef14a9aa",
   "metadata": {},
   "outputs": [],
   "source": [
    "columns_to_replace = ['Cough_symptoms','Fever','Sore_throat','Shortness_of_breath','Headache']\n",
    "#Replace boolean values and 'None' with appropriate strings and NaN\n",
    "covid[columns_to_replace]=covid[columns_to_replace].replace({True: 'TRUE',False: 'FALSE', 'nan': np.nan})"
   ]
  },
  {
   "cell_type": "code",
   "execution_count": 732,
   "id": "4621a863",
   "metadata": {},
   "outputs": [
    {
     "name": "stdout",
     "output_type": "stream",
     "text": [
      "unique Value in Ind_ID: [     1      2      3 ... 278846 278847 278848]\n",
      "unique Value in Test_date: <DatetimeArray>\n",
      "['2020-03-11 00:00:00', '2020-03-12 00:00:00', '2020-03-13 00:00:00',\n",
      " '2020-03-14 00:00:00', '2020-03-15 00:00:00', '2020-03-16 00:00:00',\n",
      " '2020-03-17 00:00:00', '2020-03-18 00:00:00', '2020-03-19 00:00:00',\n",
      " '2020-03-20 00:00:00', '2020-03-21 00:00:00', '2020-03-22 00:00:00',\n",
      " '2020-03-23 00:00:00', '2020-03-24 00:00:00', '2020-03-25 00:00:00',\n",
      " '2020-03-26 00:00:00', '2020-03-27 00:00:00', '2020-03-28 00:00:00',\n",
      " '2020-03-29 00:00:00', '2020-03-30 00:00:00', '2020-03-31 00:00:00',\n",
      " '2020-04-01 00:00:00', '2020-04-02 00:00:00', '2020-04-03 00:00:00',\n",
      " '2020-04-04 00:00:00', '2020-04-05 00:00:00', '2020-04-06 00:00:00',\n",
      " '2020-04-07 00:00:00', '2020-04-08 00:00:00', '2020-04-09 00:00:00',\n",
      " '2020-04-10 00:00:00', '2020-04-11 00:00:00', '2020-04-12 00:00:00',\n",
      " '2020-04-13 00:00:00', '2020-04-14 00:00:00', '2020-04-15 00:00:00',\n",
      " '2020-04-16 00:00:00', '2020-04-17 00:00:00', '2020-04-18 00:00:00',\n",
      " '2020-04-19 00:00:00', '2020-04-20 00:00:00', '2020-04-21 00:00:00',\n",
      " '2020-04-22 00:00:00', '2020-04-23 00:00:00', '2020-04-24 00:00:00',\n",
      " '2020-04-25 00:00:00', '2020-04-26 00:00:00', '2020-04-27 00:00:00',\n",
      " '2020-04-28 00:00:00', '2020-04-29 00:00:00', '2020-04-30 00:00:00']\n",
      "Length: 51, dtype: datetime64[ns]\n",
      "unique Value in Cough_symptoms: ['TRUE' 'FALSE' nan]\n",
      "unique Value in Fever: ['FALSE' 'TRUE' nan]\n",
      "unique Value in Sore_throat: ['TRUE' 'FALSE' nan]\n",
      "unique Value in Shortness_of_breath: ['FALSE' 'TRUE' nan]\n",
      "unique Value in Headache: ['FALSE' 'TRUE' nan]\n",
      "unique Value in Corona: ['negative' 'positive' 'other']\n",
      "unique Value in Age_60_above: [nan 'No' 'Yes']\n",
      "unique Value in Sex: ['other' 'male' 'female']\n",
      "unique Value in Known_contact: ['Abroad' 'Contact with confirmed' 'Other']\n"
     ]
    }
   ],
   "source": [
    "for column in covid:\n",
    "    unique_value=covid[column].unique()\n",
    "    print(f'unique Value in {column}:',unique_value)"
   ]
  },
  {
   "cell_type": "code",
   "execution_count": 733,
   "id": "f77a2ef7",
   "metadata": {},
   "outputs": [
    {
     "data": {
      "text/plain": [
       "array(['other', 'male', 'female'], dtype=object)"
      ]
     },
     "execution_count": 733,
     "metadata": {},
     "output_type": "execute_result"
    }
   ],
   "source": [
    "gender=covid['Sex'].unique()\n",
    "gender"
   ]
  },
  {
   "cell_type": "code",
   "execution_count": 734,
   "id": "d997abab",
   "metadata": {},
   "outputs": [
    {
     "data": {
      "text/plain": [
       "Ind_ID                      0\n",
       "Test_date                   0\n",
       "Cough_symptoms            252\n",
       "Fever                     252\n",
       "Sore_throat                 1\n",
       "Shortness_of_breath         1\n",
       "Headache                    1\n",
       "Corona                      0\n",
       "Age_60_above           127320\n",
       "Sex                         0\n",
       "Known_contact               0\n",
       "dtype: int64"
      ]
     },
     "execution_count": 734,
     "metadata": {},
     "output_type": "execute_result"
    }
   ],
   "source": [
    "# percentage of missing values\n",
    "covid.isnull().sum()"
   ]
  },
  {
   "cell_type": "code",
   "execution_count": 735,
   "id": "d0a07f5e",
   "metadata": {},
   "outputs": [],
   "source": [
    "# drop null values\n",
    "covid = covid.dropna(subset=['Age_60_above','Cough_symptoms','Fever'])"
   ]
  },
  {
   "cell_type": "code",
   "execution_count": 736,
   "id": "6293ae51",
   "metadata": {},
   "outputs": [
    {
     "data": {
      "text/plain": [
       "Ind_ID                 0\n",
       "Test_date              0\n",
       "Cough_symptoms         0\n",
       "Fever                  0\n",
       "Sore_throat            0\n",
       "Shortness_of_breath    0\n",
       "Headache               0\n",
       "Corona                 0\n",
       "Age_60_above           0\n",
       "Sex                    0\n",
       "Known_contact          0\n",
       "dtype: int64"
      ]
     },
     "execution_count": 736,
     "metadata": {},
     "output_type": "execute_result"
    }
   ],
   "source": [
    "# check null values after droping null values\n",
    "covid.isnull().sum()"
   ]
  },
  {
   "cell_type": "code",
   "execution_count": 737,
   "id": "485f184c",
   "metadata": {},
   "outputs": [
    {
     "data": {
      "text/html": [
       "<div>\n",
       "<style scoped>\n",
       "    .dataframe tbody tr th:only-of-type {\n",
       "        vertical-align: middle;\n",
       "    }\n",
       "\n",
       "    .dataframe tbody tr th {\n",
       "        vertical-align: top;\n",
       "    }\n",
       "\n",
       "    .dataframe thead th {\n",
       "        text-align: right;\n",
       "    }\n",
       "</style>\n",
       "<table border=\"1\" class=\"dataframe\">\n",
       "  <thead>\n",
       "    <tr style=\"text-align: right;\">\n",
       "      <th></th>\n",
       "      <th>Ind_ID</th>\n",
       "      <th>Test_date</th>\n",
       "      <th>Cough_symptoms</th>\n",
       "      <th>Fever</th>\n",
       "      <th>Sore_throat</th>\n",
       "      <th>Shortness_of_breath</th>\n",
       "      <th>Headache</th>\n",
       "      <th>Corona</th>\n",
       "      <th>Age_60_above</th>\n",
       "      <th>Sex</th>\n",
       "      <th>Known_contact</th>\n",
       "    </tr>\n",
       "  </thead>\n",
       "  <tbody>\n",
       "    <tr>\n",
       "      <th>4512</th>\n",
       "      <td>4513</td>\n",
       "      <td>2020-03-17</td>\n",
       "      <td>FALSE</td>\n",
       "      <td>FALSE</td>\n",
       "      <td>FALSE</td>\n",
       "      <td>FALSE</td>\n",
       "      <td>FALSE</td>\n",
       "      <td>other</td>\n",
       "      <td>No</td>\n",
       "      <td>other</td>\n",
       "      <td>Other</td>\n",
       "    </tr>\n",
       "    <tr>\n",
       "      <th>4513</th>\n",
       "      <td>4514</td>\n",
       "      <td>2020-03-17</td>\n",
       "      <td>FALSE</td>\n",
       "      <td>FALSE</td>\n",
       "      <td>FALSE</td>\n",
       "      <td>TRUE</td>\n",
       "      <td>FALSE</td>\n",
       "      <td>negative</td>\n",
       "      <td>No</td>\n",
       "      <td>other</td>\n",
       "      <td>Abroad</td>\n",
       "    </tr>\n",
       "    <tr>\n",
       "      <th>4514</th>\n",
       "      <td>4515</td>\n",
       "      <td>2020-03-17</td>\n",
       "      <td>FALSE</td>\n",
       "      <td>FALSE</td>\n",
       "      <td>FALSE</td>\n",
       "      <td>FALSE</td>\n",
       "      <td>FALSE</td>\n",
       "      <td>other</td>\n",
       "      <td>Yes</td>\n",
       "      <td>other</td>\n",
       "      <td>Other</td>\n",
       "    </tr>\n",
       "    <tr>\n",
       "      <th>4515</th>\n",
       "      <td>4516</td>\n",
       "      <td>2020-03-17</td>\n",
       "      <td>FALSE</td>\n",
       "      <td>FALSE</td>\n",
       "      <td>FALSE</td>\n",
       "      <td>FALSE</td>\n",
       "      <td>FALSE</td>\n",
       "      <td>positive</td>\n",
       "      <td>No</td>\n",
       "      <td>other</td>\n",
       "      <td>Other</td>\n",
       "    </tr>\n",
       "    <tr>\n",
       "      <th>4516</th>\n",
       "      <td>4517</td>\n",
       "      <td>2020-03-17</td>\n",
       "      <td>FALSE</td>\n",
       "      <td>FALSE</td>\n",
       "      <td>FALSE</td>\n",
       "      <td>FALSE</td>\n",
       "      <td>FALSE</td>\n",
       "      <td>negative</td>\n",
       "      <td>No</td>\n",
       "      <td>other</td>\n",
       "      <td>Other</td>\n",
       "    </tr>\n",
       "    <tr>\n",
       "      <th>...</th>\n",
       "      <td>...</td>\n",
       "      <td>...</td>\n",
       "      <td>...</td>\n",
       "      <td>...</td>\n",
       "      <td>...</td>\n",
       "      <td>...</td>\n",
       "      <td>...</td>\n",
       "      <td>...</td>\n",
       "      <td>...</td>\n",
       "      <td>...</td>\n",
       "      <td>...</td>\n",
       "    </tr>\n",
       "    <tr>\n",
       "      <th>156035</th>\n",
       "      <td>156036</td>\n",
       "      <td>2020-04-14</td>\n",
       "      <td>TRUE</td>\n",
       "      <td>FALSE</td>\n",
       "      <td>TRUE</td>\n",
       "      <td>FALSE</td>\n",
       "      <td>FALSE</td>\n",
       "      <td>negative</td>\n",
       "      <td>Yes</td>\n",
       "      <td>male</td>\n",
       "      <td>Abroad</td>\n",
       "    </tr>\n",
       "    <tr>\n",
       "      <th>156036</th>\n",
       "      <td>156037</td>\n",
       "      <td>2020-04-14</td>\n",
       "      <td>TRUE</td>\n",
       "      <td>FALSE</td>\n",
       "      <td>TRUE</td>\n",
       "      <td>TRUE</td>\n",
       "      <td>FALSE</td>\n",
       "      <td>negative</td>\n",
       "      <td>No</td>\n",
       "      <td>male</td>\n",
       "      <td>Abroad</td>\n",
       "    </tr>\n",
       "    <tr>\n",
       "      <th>156037</th>\n",
       "      <td>156038</td>\n",
       "      <td>2020-04-14</td>\n",
       "      <td>TRUE</td>\n",
       "      <td>TRUE</td>\n",
       "      <td>FALSE</td>\n",
       "      <td>FALSE</td>\n",
       "      <td>FALSE</td>\n",
       "      <td>negative</td>\n",
       "      <td>No</td>\n",
       "      <td>female</td>\n",
       "      <td>Abroad</td>\n",
       "    </tr>\n",
       "    <tr>\n",
       "      <th>156038</th>\n",
       "      <td>156039</td>\n",
       "      <td>2020-04-14</td>\n",
       "      <td>FALSE</td>\n",
       "      <td>FALSE</td>\n",
       "      <td>FALSE</td>\n",
       "      <td>FALSE</td>\n",
       "      <td>FALSE</td>\n",
       "      <td>negative</td>\n",
       "      <td>No</td>\n",
       "      <td>male</td>\n",
       "      <td>Other</td>\n",
       "    </tr>\n",
       "    <tr>\n",
       "      <th>156039</th>\n",
       "      <td>156040</td>\n",
       "      <td>2020-04-14</td>\n",
       "      <td>FALSE</td>\n",
       "      <td>FALSE</td>\n",
       "      <td>FALSE</td>\n",
       "      <td>FALSE</td>\n",
       "      <td>FALSE</td>\n",
       "      <td>negative</td>\n",
       "      <td>No</td>\n",
       "      <td>female</td>\n",
       "      <td>Other</td>\n",
       "    </tr>\n",
       "  </tbody>\n",
       "</table>\n",
       "<p>151279 rows × 11 columns</p>\n",
       "</div>"
      ],
      "text/plain": [
       "        Ind_ID  Test_date Cough_symptoms  Fever Sore_throat  \\\n",
       "4512      4513 2020-03-17          FALSE  FALSE       FALSE   \n",
       "4513      4514 2020-03-17          FALSE  FALSE       FALSE   \n",
       "4514      4515 2020-03-17          FALSE  FALSE       FALSE   \n",
       "4515      4516 2020-03-17          FALSE  FALSE       FALSE   \n",
       "4516      4517 2020-03-17          FALSE  FALSE       FALSE   \n",
       "...        ...        ...            ...    ...         ...   \n",
       "156035  156036 2020-04-14           TRUE  FALSE        TRUE   \n",
       "156036  156037 2020-04-14           TRUE  FALSE        TRUE   \n",
       "156037  156038 2020-04-14           TRUE   TRUE       FALSE   \n",
       "156038  156039 2020-04-14          FALSE  FALSE       FALSE   \n",
       "156039  156040 2020-04-14          FALSE  FALSE       FALSE   \n",
       "\n",
       "       Shortness_of_breath Headache    Corona Age_60_above     Sex  \\\n",
       "4512                 FALSE    FALSE     other           No   other   \n",
       "4513                  TRUE    FALSE  negative           No   other   \n",
       "4514                 FALSE    FALSE     other          Yes   other   \n",
       "4515                 FALSE    FALSE  positive           No   other   \n",
       "4516                 FALSE    FALSE  negative           No   other   \n",
       "...                    ...      ...       ...          ...     ...   \n",
       "156035               FALSE    FALSE  negative          Yes    male   \n",
       "156036                TRUE    FALSE  negative           No    male   \n",
       "156037               FALSE    FALSE  negative           No  female   \n",
       "156038               FALSE    FALSE  negative           No    male   \n",
       "156039               FALSE    FALSE  negative           No  female   \n",
       "\n",
       "       Known_contact  \n",
       "4512           Other  \n",
       "4513          Abroad  \n",
       "4514           Other  \n",
       "4515           Other  \n",
       "4516           Other  \n",
       "...              ...  \n",
       "156035        Abroad  \n",
       "156036        Abroad  \n",
       "156037        Abroad  \n",
       "156038         Other  \n",
       "156039         Other  \n",
       "\n",
       "[151279 rows x 11 columns]"
      ]
     },
     "execution_count": 737,
     "metadata": {},
     "output_type": "execute_result"
    }
   ],
   "source": [
    "covid"
   ]
  },
  {
   "cell_type": "code",
   "execution_count": 738,
   "id": "5d8f6c33",
   "metadata": {},
   "outputs": [
    {
     "data": {
      "text/plain": [
       "Ind_ID                 151279\n",
       "Test_date                  29\n",
       "Cough_symptoms              2\n",
       "Fever                       2\n",
       "Sore_throat                 2\n",
       "Shortness_of_breath         2\n",
       "Headache                    2\n",
       "Corona                      3\n",
       "Age_60_above                2\n",
       "Sex                         3\n",
       "Known_contact               3\n",
       "dtype: int64"
      ]
     },
     "execution_count": 738,
     "metadata": {},
     "output_type": "execute_result"
    }
   ],
   "source": [
    "covid.nunique()"
   ]
  },
  {
   "cell_type": "markdown",
   "id": "8026821a",
   "metadata": {},
   "source": [
    "## Univariate and Multivariate Analysis (After cleaning data)"
   ]
  },
  {
   "cell_type": "code",
   "execution_count": 739,
   "id": "de3fbfa2",
   "metadata": {},
   "outputs": [
    {
     "data": {
      "text/plain": [
       "Corona\n",
       "negative    137606\n",
       "positive     11437\n",
       "other         2236\n",
       "Name: count, dtype: int64"
      ]
     },
     "execution_count": 739,
     "metadata": {},
     "output_type": "execute_result"
    }
   ],
   "source": [
    "## Count total patients effected by corona\n",
    "covid['Corona'].value_counts()"
   ]
  },
  {
   "cell_type": "code",
   "execution_count": 740,
   "id": "b44e12a3",
   "metadata": {},
   "outputs": [
    {
     "data": {
      "text/plain": [
       "Sex\n",
       "male      70101\n",
       "female    68071\n",
       "other     13107\n",
       "Name: count, dtype: int64"
      ]
     },
     "execution_count": 740,
     "metadata": {},
     "output_type": "execute_result"
    }
   ],
   "source": [
    "#to fing count of total males and females \n",
    "covid['Sex'].value_counts()"
   ]
  },
  {
   "cell_type": "code",
   "execution_count": 741,
   "id": "2f810234",
   "metadata": {},
   "outputs": [
    {
     "data": {
      "text/plain": [
       "Fever\n",
       "FALSE    137538\n",
       "TRUE      13741\n",
       "Name: count, dtype: int64"
      ]
     },
     "execution_count": 741,
     "metadata": {},
     "output_type": "execute_result"
    }
   ],
   "source": [
    "covid['Fever'].value_counts()"
   ]
  },
  {
   "cell_type": "code",
   "execution_count": 742,
   "id": "f018af7f",
   "metadata": {},
   "outputs": [
    {
     "data": {
      "text/plain": [
       "Cough_symptoms\n",
       "FALSE    124706\n",
       "TRUE      26573\n",
       "Name: count, dtype: int64"
      ]
     },
     "execution_count": 742,
     "metadata": {},
     "output_type": "execute_result"
    }
   ],
   "source": [
    "covid['Cough_symptoms'].value_counts()"
   ]
  },
  {
   "cell_type": "code",
   "execution_count": 743,
   "id": "1a987b8c",
   "metadata": {},
   "outputs": [],
   "source": [
    "import matplotlib.pyplot as plt"
   ]
  },
  {
   "cell_type": "code",
   "execution_count": 744,
   "id": "0a12afb9",
   "metadata": {},
   "outputs": [
    {
     "data": {
      "image/png": "[encoded data removed]",
      "text/plain": [
       "<Figure size 640x480 with 1 Axes>"
      ]
     },
     "metadata": {},
     "output_type": "display_data"
    }
   ],
   "source": [
    "sns.countplot(x='Sex', data=covid)\n",
    "plt.show()"
   ]
  },
  {
   "cell_type": "code",
   "execution_count": 745,
   "id": "f62bfd82",
   "metadata": {},
   "outputs": [
    {
     "data": {
      "image/png": "[encoded data removed]",
      "text/plain": [
       "<Figure size 640x480 with 1 Axes>"
      ]
     },
     "metadata": {},
     "output_type": "display_data"
    }
   ],
   "source": [
    "covid[\"Corona\"].value_counts().plot.pie(autopct='%1.1f%%',shadow=True)\n",
    "plt.title('Covid Positive');"
   ]
  },
  {
   "cell_type": "code",
   "execution_count": 746,
   "id": "87d20d75",
   "metadata": {},
   "outputs": [
    {
     "data": {
      "image/png": "[encoded data removed]",
      "text/plain": [
       "<Figure size 1200x800 with 5 Axes>"
      ]
     },
     "metadata": {},
     "output_type": "display_data"
    }
   ],
   "source": [
    "#Symptoms Distribution Visualisation\n",
    "symptoms = ['Cough_symptoms', 'Fever', 'Sore_throat','Shortness_of_breath', 'Headache']\n",
    "plt.figure(figsize=(12,8))\n",
    "for i, symptom in enumerate(symptoms):\n",
    "    plt.subplot(2,3,i+1)\n",
    "    sns.countplot(x=symptom,data = covid, hue='Corona')\n",
    "    plt.title(f'{symptom}Dist. by Covid-19 diagnosis')\n",
    "    plt.ylabel('Count')\n",
    "    \n",
    "plt.tight_layout()\n",
    "plt.show()\n",
    "              "
   ]
  },
  {
   "cell_type": "code",
   "execution_count": 747,
   "id": "82a9436e",
   "metadata": {},
   "outputs": [
    {
     "data": {
      "image/png": "[encoded data removed]",
      "text/plain": [
       "<Figure size 640x480 with 1 Axes>"
      ]
     },
     "metadata": {},
     "output_type": "display_data"
    }
   ],
   "source": [
    "ax = sns.countplot(x='Cough_symptoms',data=covid, palette=\"Set1\")\n",
    "for p in ax.patches:\n",
    "     ax.annotate(f'\\n{p.get_height()}', (p.get_x()+0.4, p.get_height()+100), ha='center', va='top', color='white', size=10)\n",
    "plt.show()"
   ]
  },
  {
   "cell_type": "code",
   "execution_count": 748,
   "id": "273e6254",
   "metadata": {},
   "outputs": [
    {
     "data": {
      "image/png": "[encoded data removed]",
      "text/plain": [
       "<Figure size 640x480 with 1 Axes>"
      ]
     },
     "metadata": {},
     "output_type": "display_data"
    }
   ],
   "source": [
    "ax = sns.countplot(x='Sex',hue='Corona',data=covid, palette=\"Set2\")\n",
    "for p in ax.patches:\n",
    "     ax.annotate(f'\\n{p.get_height()}', (p.get_x()+0.1, p.get_height()+100), ha='center', va='center', color='black', size=6)\n",
    "plt.show()"
   ]
  },
  {
   "cell_type": "code",
   "execution_count": 749,
   "id": "609c5541",
   "metadata": {},
   "outputs": [
    {
     "data": {
      "image/png": "[encoded data removed]",
      "text/plain": [
       "<Figure size 640x480 with 1 Axes>"
      ]
     },
     "metadata": {},
     "output_type": "display_data"
    }
   ],
   "source": [
    "ax = sns.countplot(x='Fever',hue='Corona',data=covid)\n",
    "for p in ax.patches:\n",
    "     ax.annotate(f'\\n{p.get_height()}', (p.get_x()+0.1, p.get_height()+100), ha='center', va='center', color='Black', size=6)\n",
    "plt.show()"
   ]
  },
  {
   "cell_type": "markdown",
   "id": "9aa23526",
   "metadata": {},
   "source": [
    "# Feature Engineering"
   ]
  },
  {
   "cell_type": "markdown",
   "id": "71c30fd6",
   "metadata": {},
   "source": [
    "## Data Splitting"
   ]
  },
  {
   "cell_type": "code",
   "execution_count": 750,
   "id": "eb48a4b0",
   "metadata": {},
   "outputs": [],
   "source": [
    "df_train_val= covid.query(\"Test_date <= '2020-04-15' and Test_date >= '2020-03-11'\")\n",
    "df_test = covid.query(\"Test_date <= '2020-04-30' and Test_date >= '2020-03-16'\")"
   ]
  },
  {
   "cell_type": "code",
   "execution_count": 751,
   "id": "f6050f67",
   "metadata": {},
   "outputs": [
    {
     "data": {
      "text/html": [
       "<div>\n",
       "<style scoped>\n",
       "    .dataframe tbody tr th:only-of-type {\n",
       "        vertical-align: middle;\n",
       "    }\n",
       "\n",
       "    .dataframe tbody tr th {\n",
       "        vertical-align: top;\n",
       "    }\n",
       "\n",
       "    .dataframe thead th {\n",
       "        text-align: right;\n",
       "    }\n",
       "</style>\n",
       "<table border=\"1\" class=\"dataframe\">\n",
       "  <thead>\n",
       "    <tr style=\"text-align: right;\">\n",
       "      <th></th>\n",
       "      <th>Ind_ID</th>\n",
       "      <th>Test_date</th>\n",
       "      <th>Cough_symptoms</th>\n",
       "      <th>Fever</th>\n",
       "      <th>Sore_throat</th>\n",
       "      <th>Shortness_of_breath</th>\n",
       "      <th>Headache</th>\n",
       "      <th>Corona</th>\n",
       "      <th>Age_60_above</th>\n",
       "      <th>Sex</th>\n",
       "      <th>Known_contact</th>\n",
       "    </tr>\n",
       "  </thead>\n",
       "  <tbody>\n",
       "    <tr>\n",
       "      <th>4512</th>\n",
       "      <td>4513</td>\n",
       "      <td>2020-03-17</td>\n",
       "      <td>FALSE</td>\n",
       "      <td>FALSE</td>\n",
       "      <td>FALSE</td>\n",
       "      <td>FALSE</td>\n",
       "      <td>FALSE</td>\n",
       "      <td>other</td>\n",
       "      <td>No</td>\n",
       "      <td>other</td>\n",
       "      <td>Other</td>\n",
       "    </tr>\n",
       "    <tr>\n",
       "      <th>4513</th>\n",
       "      <td>4514</td>\n",
       "      <td>2020-03-17</td>\n",
       "      <td>FALSE</td>\n",
       "      <td>FALSE</td>\n",
       "      <td>FALSE</td>\n",
       "      <td>TRUE</td>\n",
       "      <td>FALSE</td>\n",
       "      <td>negative</td>\n",
       "      <td>No</td>\n",
       "      <td>other</td>\n",
       "      <td>Abroad</td>\n",
       "    </tr>\n",
       "    <tr>\n",
       "      <th>4514</th>\n",
       "      <td>4515</td>\n",
       "      <td>2020-03-17</td>\n",
       "      <td>FALSE</td>\n",
       "      <td>FALSE</td>\n",
       "      <td>FALSE</td>\n",
       "      <td>FALSE</td>\n",
       "      <td>FALSE</td>\n",
       "      <td>other</td>\n",
       "      <td>Yes</td>\n",
       "      <td>other</td>\n",
       "      <td>Other</td>\n",
       "    </tr>\n",
       "    <tr>\n",
       "      <th>4515</th>\n",
       "      <td>4516</td>\n",
       "      <td>2020-03-17</td>\n",
       "      <td>FALSE</td>\n",
       "      <td>FALSE</td>\n",
       "      <td>FALSE</td>\n",
       "      <td>FALSE</td>\n",
       "      <td>FALSE</td>\n",
       "      <td>positive</td>\n",
       "      <td>No</td>\n",
       "      <td>other</td>\n",
       "      <td>Other</td>\n",
       "    </tr>\n",
       "    <tr>\n",
       "      <th>4516</th>\n",
       "      <td>4517</td>\n",
       "      <td>2020-03-17</td>\n",
       "      <td>FALSE</td>\n",
       "      <td>FALSE</td>\n",
       "      <td>FALSE</td>\n",
       "      <td>FALSE</td>\n",
       "      <td>FALSE</td>\n",
       "      <td>negative</td>\n",
       "      <td>No</td>\n",
       "      <td>other</td>\n",
       "      <td>Other</td>\n",
       "    </tr>\n",
       "    <tr>\n",
       "      <th>...</th>\n",
       "      <td>...</td>\n",
       "      <td>...</td>\n",
       "      <td>...</td>\n",
       "      <td>...</td>\n",
       "      <td>...</td>\n",
       "      <td>...</td>\n",
       "      <td>...</td>\n",
       "      <td>...</td>\n",
       "      <td>...</td>\n",
       "      <td>...</td>\n",
       "      <td>...</td>\n",
       "    </tr>\n",
       "    <tr>\n",
       "      <th>156035</th>\n",
       "      <td>156036</td>\n",
       "      <td>2020-04-14</td>\n",
       "      <td>TRUE</td>\n",
       "      <td>FALSE</td>\n",
       "      <td>TRUE</td>\n",
       "      <td>FALSE</td>\n",
       "      <td>FALSE</td>\n",
       "      <td>negative</td>\n",
       "      <td>Yes</td>\n",
       "      <td>male</td>\n",
       "      <td>Abroad</td>\n",
       "    </tr>\n",
       "    <tr>\n",
       "      <th>156036</th>\n",
       "      <td>156037</td>\n",
       "      <td>2020-04-14</td>\n",
       "      <td>TRUE</td>\n",
       "      <td>FALSE</td>\n",
       "      <td>TRUE</td>\n",
       "      <td>TRUE</td>\n",
       "      <td>FALSE</td>\n",
       "      <td>negative</td>\n",
       "      <td>No</td>\n",
       "      <td>male</td>\n",
       "      <td>Abroad</td>\n",
       "    </tr>\n",
       "    <tr>\n",
       "      <th>156037</th>\n",
       "      <td>156038</td>\n",
       "      <td>2020-04-14</td>\n",
       "      <td>TRUE</td>\n",
       "      <td>TRUE</td>\n",
       "      <td>FALSE</td>\n",
       "      <td>FALSE</td>\n",
       "      <td>FALSE</td>\n",
       "      <td>negative</td>\n",
       "      <td>No</td>\n",
       "      <td>female</td>\n",
       "      <td>Abroad</td>\n",
       "    </tr>\n",
       "    <tr>\n",
       "      <th>156038</th>\n",
       "      <td>156039</td>\n",
       "      <td>2020-04-14</td>\n",
       "      <td>FALSE</td>\n",
       "      <td>FALSE</td>\n",
       "      <td>FALSE</td>\n",
       "      <td>FALSE</td>\n",
       "      <td>FALSE</td>\n",
       "      <td>negative</td>\n",
       "      <td>No</td>\n",
       "      <td>male</td>\n",
       "      <td>Other</td>\n",
       "    </tr>\n",
       "    <tr>\n",
       "      <th>156039</th>\n",
       "      <td>156040</td>\n",
       "      <td>2020-04-14</td>\n",
       "      <td>FALSE</td>\n",
       "      <td>FALSE</td>\n",
       "      <td>FALSE</td>\n",
       "      <td>FALSE</td>\n",
       "      <td>FALSE</td>\n",
       "      <td>negative</td>\n",
       "      <td>No</td>\n",
       "      <td>female</td>\n",
       "      <td>Other</td>\n",
       "    </tr>\n",
       "  </tbody>\n",
       "</table>\n",
       "<p>151279 rows × 11 columns</p>\n",
       "</div>"
      ],
      "text/plain": [
       "        Ind_ID  Test_date Cough_symptoms  Fever Sore_throat  \\\n",
       "4512      4513 2020-03-17          FALSE  FALSE       FALSE   \n",
       "4513      4514 2020-03-17          FALSE  FALSE       FALSE   \n",
       "4514      4515 2020-03-17          FALSE  FALSE       FALSE   \n",
       "4515      4516 2020-03-17          FALSE  FALSE       FALSE   \n",
       "4516      4517 2020-03-17          FALSE  FALSE       FALSE   \n",
       "...        ...        ...            ...    ...         ...   \n",
       "156035  156036 2020-04-14           TRUE  FALSE        TRUE   \n",
       "156036  156037 2020-04-14           TRUE  FALSE        TRUE   \n",
       "156037  156038 2020-04-14           TRUE   TRUE       FALSE   \n",
       "156038  156039 2020-04-14          FALSE  FALSE       FALSE   \n",
       "156039  156040 2020-04-14          FALSE  FALSE       FALSE   \n",
       "\n",
       "       Shortness_of_breath Headache    Corona Age_60_above     Sex  \\\n",
       "4512                 FALSE    FALSE     other           No   other   \n",
       "4513                  TRUE    FALSE  negative           No   other   \n",
       "4514                 FALSE    FALSE     other          Yes   other   \n",
       "4515                 FALSE    FALSE  positive           No   other   \n",
       "4516                 FALSE    FALSE  negative           No   other   \n",
       "...                    ...      ...       ...          ...     ...   \n",
       "156035               FALSE    FALSE  negative          Yes    male   \n",
       "156036                TRUE    FALSE  negative           No    male   \n",
       "156037               FALSE    FALSE  negative           No  female   \n",
       "156038               FALSE    FALSE  negative           No    male   \n",
       "156039               FALSE    FALSE  negative           No  female   \n",
       "\n",
       "       Known_contact  \n",
       "4512           Other  \n",
       "4513          Abroad  \n",
       "4514           Other  \n",
       "4515           Other  \n",
       "4516           Other  \n",
       "...              ...  \n",
       "156035        Abroad  \n",
       "156036        Abroad  \n",
       "156037        Abroad  \n",
       "156038         Other  \n",
       "156039         Other  \n",
       "\n",
       "[151279 rows x 11 columns]"
      ]
     },
     "execution_count": 751,
     "metadata": {},
     "output_type": "execute_result"
    }
   ],
   "source": [
    "df_train_val"
   ]
  },
  {
   "cell_type": "markdown",
   "id": "6369adab",
   "metadata": {},
   "source": [
    "### Dropping few unnecessary columns:"
   ]
  },
  {
   "cell_type": "code",
   "execution_count": 752,
   "id": "1811c0a3",
   "metadata": {},
   "outputs": [],
   "source": [
    "df_train_val= df_train_val.drop(columns=['Test_date','Ind_ID','Age_60_above','Sex']) \n",
    "df_test= df_test.drop(columns=['Test_date','Ind_ID','Age_60_above','Sex']) \n"
   ]
  },
  {
   "cell_type": "code",
   "execution_count": 753,
   "id": "db4be05e",
   "metadata": {},
   "outputs": [
    {
     "data": {
      "text/html": [
       "<div>\n",
       "<style scoped>\n",
       "    .dataframe tbody tr th:only-of-type {\n",
       "        vertical-align: middle;\n",
       "    }\n",
       "\n",
       "    .dataframe tbody tr th {\n",
       "        vertical-align: top;\n",
       "    }\n",
       "\n",
       "    .dataframe thead th {\n",
       "        text-align: right;\n",
       "    }\n",
       "</style>\n",
       "<table border=\"1\" class=\"dataframe\">\n",
       "  <thead>\n",
       "    <tr style=\"text-align: right;\">\n",
       "      <th></th>\n",
       "      <th>Cough_symptoms</th>\n",
       "      <th>Fever</th>\n",
       "      <th>Sore_throat</th>\n",
       "      <th>Shortness_of_breath</th>\n",
       "      <th>Headache</th>\n",
       "      <th>Corona</th>\n",
       "      <th>Known_contact</th>\n",
       "    </tr>\n",
       "  </thead>\n",
       "  <tbody>\n",
       "    <tr>\n",
       "      <th>4512</th>\n",
       "      <td>FALSE</td>\n",
       "      <td>FALSE</td>\n",
       "      <td>FALSE</td>\n",
       "      <td>FALSE</td>\n",
       "      <td>FALSE</td>\n",
       "      <td>other</td>\n",
       "      <td>Other</td>\n",
       "    </tr>\n",
       "    <tr>\n",
       "      <th>4513</th>\n",
       "      <td>FALSE</td>\n",
       "      <td>FALSE</td>\n",
       "      <td>FALSE</td>\n",
       "      <td>TRUE</td>\n",
       "      <td>FALSE</td>\n",
       "      <td>negative</td>\n",
       "      <td>Abroad</td>\n",
       "    </tr>\n",
       "    <tr>\n",
       "      <th>4514</th>\n",
       "      <td>FALSE</td>\n",
       "      <td>FALSE</td>\n",
       "      <td>FALSE</td>\n",
       "      <td>FALSE</td>\n",
       "      <td>FALSE</td>\n",
       "      <td>other</td>\n",
       "      <td>Other</td>\n",
       "    </tr>\n",
       "    <tr>\n",
       "      <th>4515</th>\n",
       "      <td>FALSE</td>\n",
       "      <td>FALSE</td>\n",
       "      <td>FALSE</td>\n",
       "      <td>FALSE</td>\n",
       "      <td>FALSE</td>\n",
       "      <td>positive</td>\n",
       "      <td>Other</td>\n",
       "    </tr>\n",
       "    <tr>\n",
       "      <th>4516</th>\n",
       "      <td>FALSE</td>\n",
       "      <td>FALSE</td>\n",
       "      <td>FALSE</td>\n",
       "      <td>FALSE</td>\n",
       "      <td>FALSE</td>\n",
       "      <td>negative</td>\n",
       "      <td>Other</td>\n",
       "    </tr>\n",
       "  </tbody>\n",
       "</table>\n",
       "</div>"
      ],
      "text/plain": [
       "     Cough_symptoms  Fever Sore_throat Shortness_of_breath Headache    Corona  \\\n",
       "4512          FALSE  FALSE       FALSE               FALSE    FALSE     other   \n",
       "4513          FALSE  FALSE       FALSE                TRUE    FALSE  negative   \n",
       "4514          FALSE  FALSE       FALSE               FALSE    FALSE     other   \n",
       "4515          FALSE  FALSE       FALSE               FALSE    FALSE  positive   \n",
       "4516          FALSE  FALSE       FALSE               FALSE    FALSE  negative   \n",
       "\n",
       "     Known_contact  \n",
       "4512         Other  \n",
       "4513        Abroad  \n",
       "4514         Other  \n",
       "4515         Other  \n",
       "4516         Other  "
      ]
     },
     "execution_count": 753,
     "metadata": {},
     "output_type": "execute_result"
    }
   ],
   "source": [
    "#covid = covid.drop([],axis=1)\n",
    "df_train_val.head()"
   ]
  },
  {
   "cell_type": "code",
   "execution_count": 754,
   "id": "ec0288f2",
   "metadata": {},
   "outputs": [
    {
     "data": {
      "text/html": [
       "<div>\n",
       "<style scoped>\n",
       "    .dataframe tbody tr th:only-of-type {\n",
       "        vertical-align: middle;\n",
       "    }\n",
       "\n",
       "    .dataframe tbody tr th {\n",
       "        vertical-align: top;\n",
       "    }\n",
       "\n",
       "    .dataframe thead th {\n",
       "        text-align: right;\n",
       "    }\n",
       "</style>\n",
       "<table border=\"1\" class=\"dataframe\">\n",
       "  <thead>\n",
       "    <tr style=\"text-align: right;\">\n",
       "      <th></th>\n",
       "      <th>Cough_symptoms</th>\n",
       "      <th>Fever</th>\n",
       "      <th>Sore_throat</th>\n",
       "      <th>Shortness_of_breath</th>\n",
       "      <th>Headache</th>\n",
       "      <th>Corona</th>\n",
       "      <th>Known_contact</th>\n",
       "    </tr>\n",
       "  </thead>\n",
       "  <tbody>\n",
       "    <tr>\n",
       "      <th>156035</th>\n",
       "      <td>TRUE</td>\n",
       "      <td>FALSE</td>\n",
       "      <td>TRUE</td>\n",
       "      <td>FALSE</td>\n",
       "      <td>FALSE</td>\n",
       "      <td>negative</td>\n",
       "      <td>Abroad</td>\n",
       "    </tr>\n",
       "    <tr>\n",
       "      <th>156036</th>\n",
       "      <td>TRUE</td>\n",
       "      <td>FALSE</td>\n",
       "      <td>TRUE</td>\n",
       "      <td>TRUE</td>\n",
       "      <td>FALSE</td>\n",
       "      <td>negative</td>\n",
       "      <td>Abroad</td>\n",
       "    </tr>\n",
       "    <tr>\n",
       "      <th>156037</th>\n",
       "      <td>TRUE</td>\n",
       "      <td>TRUE</td>\n",
       "      <td>FALSE</td>\n",
       "      <td>FALSE</td>\n",
       "      <td>FALSE</td>\n",
       "      <td>negative</td>\n",
       "      <td>Abroad</td>\n",
       "    </tr>\n",
       "    <tr>\n",
       "      <th>156038</th>\n",
       "      <td>FALSE</td>\n",
       "      <td>FALSE</td>\n",
       "      <td>FALSE</td>\n",
       "      <td>FALSE</td>\n",
       "      <td>FALSE</td>\n",
       "      <td>negative</td>\n",
       "      <td>Other</td>\n",
       "    </tr>\n",
       "    <tr>\n",
       "      <th>156039</th>\n",
       "      <td>FALSE</td>\n",
       "      <td>FALSE</td>\n",
       "      <td>FALSE</td>\n",
       "      <td>FALSE</td>\n",
       "      <td>FALSE</td>\n",
       "      <td>negative</td>\n",
       "      <td>Other</td>\n",
       "    </tr>\n",
       "  </tbody>\n",
       "</table>\n",
       "</div>"
      ],
      "text/plain": [
       "       Cough_symptoms  Fever Sore_throat Shortness_of_breath Headache  \\\n",
       "156035           TRUE  FALSE        TRUE               FALSE    FALSE   \n",
       "156036           TRUE  FALSE        TRUE                TRUE    FALSE   \n",
       "156037           TRUE   TRUE       FALSE               FALSE    FALSE   \n",
       "156038          FALSE  FALSE       FALSE               FALSE    FALSE   \n",
       "156039          FALSE  FALSE       FALSE               FALSE    FALSE   \n",
       "\n",
       "          Corona Known_contact  \n",
       "156035  negative        Abroad  \n",
       "156036  negative        Abroad  \n",
       "156037  negative        Abroad  \n",
       "156038  negative         Other  \n",
       "156039  negative         Other  "
      ]
     },
     "execution_count": 754,
     "metadata": {},
     "output_type": "execute_result"
    }
   ],
   "source": [
    "df_test.tail()"
   ]
  },
  {
   "cell_type": "markdown",
   "id": "28d1bd82",
   "metadata": {},
   "source": [
    "# Label Encoding"
   ]
  },
  {
   "cell_type": "markdown",
   "id": "3b4435cc",
   "metadata": {},
   "source": [
    "# Encoding train data"
   ]
  },
  {
   "cell_type": "code",
   "execution_count": 755,
   "id": "46581751",
   "metadata": {},
   "outputs": [],
   "source": [
    "from sklearn.preprocessing import LabelEncoder"
   ]
  },
  {
   "cell_type": "code",
   "execution_count": 756,
   "id": "845ca981",
   "metadata": {},
   "outputs": [],
   "source": [
    "e=LabelEncoder()"
   ]
  },
  {
   "cell_type": "code",
   "execution_count": 757,
   "id": "4383083b",
   "metadata": {},
   "outputs": [],
   "source": [
    "df_train_val['Cough_symptoms']=e.fit_transform(df_train_val['Cough_symptoms'])\n",
    "\n",
    "df_train_val['Fever']=e.fit_transform(df_train_val['Fever'])\n",
    "\n",
    "df_train_val['Sore_throat']=e.fit_transform(df_train_val['Sore_throat'])\n",
    "\n",
    "df_train_val['Shortness_of_breath']=e.fit_transform(df_train_val['Shortness_of_breath'])\n",
    "\n",
    "df_train_val['Corona']=e.fit_transform(df_train_val['Corona'])\n",
    "\n",
    "df_train_val['Headache']=e.fit_transform(df_train_val['Headache'])\n",
    "\n",
    "df_train_val['Known_contact']=e.fit_transform(df_train_val['Known_contact'])\n",
    "\n"
   ]
  },
  {
   "cell_type": "code",
   "execution_count": 758,
   "id": "f579cccc",
   "metadata": {},
   "outputs": [
    {
     "data": {
      "text/html": [
       "<div>\n",
       "<style scoped>\n",
       "    .dataframe tbody tr th:only-of-type {\n",
       "        vertical-align: middle;\n",
       "    }\n",
       "\n",
       "    .dataframe tbody tr th {\n",
       "        vertical-align: top;\n",
       "    }\n",
       "\n",
       "    .dataframe thead th {\n",
       "        text-align: right;\n",
       "    }\n",
       "</style>\n",
       "<table border=\"1\" class=\"dataframe\">\n",
       "  <thead>\n",
       "    <tr style=\"text-align: right;\">\n",
       "      <th></th>\n",
       "      <th>Cough_symptoms</th>\n",
       "      <th>Fever</th>\n",
       "      <th>Sore_throat</th>\n",
       "      <th>Shortness_of_breath</th>\n",
       "      <th>Headache</th>\n",
       "      <th>Corona</th>\n",
       "      <th>Known_contact</th>\n",
       "    </tr>\n",
       "  </thead>\n",
       "  <tbody>\n",
       "    <tr>\n",
       "      <th>4512</th>\n",
       "      <td>0</td>\n",
       "      <td>0</td>\n",
       "      <td>0</td>\n",
       "      <td>0</td>\n",
       "      <td>0</td>\n",
       "      <td>1</td>\n",
       "      <td>2</td>\n",
       "    </tr>\n",
       "    <tr>\n",
       "      <th>4513</th>\n",
       "      <td>0</td>\n",
       "      <td>0</td>\n",
       "      <td>0</td>\n",
       "      <td>1</td>\n",
       "      <td>0</td>\n",
       "      <td>0</td>\n",
       "      <td>0</td>\n",
       "    </tr>\n",
       "    <tr>\n",
       "      <th>4514</th>\n",
       "      <td>0</td>\n",
       "      <td>0</td>\n",
       "      <td>0</td>\n",
       "      <td>0</td>\n",
       "      <td>0</td>\n",
       "      <td>1</td>\n",
       "      <td>2</td>\n",
       "    </tr>\n",
       "    <tr>\n",
       "      <th>4515</th>\n",
       "      <td>0</td>\n",
       "      <td>0</td>\n",
       "      <td>0</td>\n",
       "      <td>0</td>\n",
       "      <td>0</td>\n",
       "      <td>2</td>\n",
       "      <td>2</td>\n",
       "    </tr>\n",
       "    <tr>\n",
       "      <th>4516</th>\n",
       "      <td>0</td>\n",
       "      <td>0</td>\n",
       "      <td>0</td>\n",
       "      <td>0</td>\n",
       "      <td>0</td>\n",
       "      <td>0</td>\n",
       "      <td>2</td>\n",
       "    </tr>\n",
       "  </tbody>\n",
       "</table>\n",
       "</div>"
      ],
      "text/plain": [
       "      Cough_symptoms  Fever  Sore_throat  Shortness_of_breath  Headache  \\\n",
       "4512               0      0            0                    0         0   \n",
       "4513               0      0            0                    1         0   \n",
       "4514               0      0            0                    0         0   \n",
       "4515               0      0            0                    0         0   \n",
       "4516               0      0            0                    0         0   \n",
       "\n",
       "      Corona  Known_contact  \n",
       "4512       1              2  \n",
       "4513       0              0  \n",
       "4514       1              2  \n",
       "4515       2              2  \n",
       "4516       0              2  "
      ]
     },
     "execution_count": 758,
     "metadata": {},
     "output_type": "execute_result"
    }
   ],
   "source": [
    "df_train_val.head()"
   ]
  },
  {
   "cell_type": "markdown",
   "id": "767862c0",
   "metadata": {},
   "source": [
    "# Encoding test data"
   ]
  },
  {
   "cell_type": "code",
   "execution_count": 759,
   "id": "789a5775",
   "metadata": {},
   "outputs": [],
   "source": [
    "df_test['Cough_symptoms']=e.fit_transform(df_test['Cough_symptoms'])\n",
    "\n",
    "df_test['Fever']=e.fit_transform(df_test['Fever'])\n",
    "\n",
    "df_test['Sore_throat']=e.fit_transform(df_test['Sore_throat'])\n",
    "\n",
    "df_test['Shortness_of_breath']=e.fit_transform(df_test['Shortness_of_breath'])\n",
    "\n",
    "df_test['Corona']=e.fit_transform(df_test['Corona'])\n",
    "\n",
    "df_test['Headache']=e.fit_transform(df_test['Headache'])\n",
    "\n",
    "df_test['Known_contact']=e.fit_transform(df_test['Known_contact'])"
   ]
  },
  {
   "cell_type": "code",
   "execution_count": 760,
   "id": "741f2df3",
   "metadata": {},
   "outputs": [
    {
     "data": {
      "text/html": [
       "<div>\n",
       "<style scoped>\n",
       "    .dataframe tbody tr th:only-of-type {\n",
       "        vertical-align: middle;\n",
       "    }\n",
       "\n",
       "    .dataframe tbody tr th {\n",
       "        vertical-align: top;\n",
       "    }\n",
       "\n",
       "    .dataframe thead th {\n",
       "        text-align: right;\n",
       "    }\n",
       "</style>\n",
       "<table border=\"1\" class=\"dataframe\">\n",
       "  <thead>\n",
       "    <tr style=\"text-align: right;\">\n",
       "      <th></th>\n",
       "      <th>Cough_symptoms</th>\n",
       "      <th>Fever</th>\n",
       "      <th>Sore_throat</th>\n",
       "      <th>Shortness_of_breath</th>\n",
       "      <th>Headache</th>\n",
       "      <th>Corona</th>\n",
       "      <th>Known_contact</th>\n",
       "    </tr>\n",
       "  </thead>\n",
       "  <tbody>\n",
       "    <tr>\n",
       "      <th>4512</th>\n",
       "      <td>0</td>\n",
       "      <td>0</td>\n",
       "      <td>0</td>\n",
       "      <td>0</td>\n",
       "      <td>0</td>\n",
       "      <td>1</td>\n",
       "      <td>2</td>\n",
       "    </tr>\n",
       "    <tr>\n",
       "      <th>4513</th>\n",
       "      <td>0</td>\n",
       "      <td>0</td>\n",
       "      <td>0</td>\n",
       "      <td>1</td>\n",
       "      <td>0</td>\n",
       "      <td>0</td>\n",
       "      <td>0</td>\n",
       "    </tr>\n",
       "    <tr>\n",
       "      <th>4514</th>\n",
       "      <td>0</td>\n",
       "      <td>0</td>\n",
       "      <td>0</td>\n",
       "      <td>0</td>\n",
       "      <td>0</td>\n",
       "      <td>1</td>\n",
       "      <td>2</td>\n",
       "    </tr>\n",
       "    <tr>\n",
       "      <th>4515</th>\n",
       "      <td>0</td>\n",
       "      <td>0</td>\n",
       "      <td>0</td>\n",
       "      <td>0</td>\n",
       "      <td>0</td>\n",
       "      <td>2</td>\n",
       "      <td>2</td>\n",
       "    </tr>\n",
       "    <tr>\n",
       "      <th>4516</th>\n",
       "      <td>0</td>\n",
       "      <td>0</td>\n",
       "      <td>0</td>\n",
       "      <td>0</td>\n",
       "      <td>0</td>\n",
       "      <td>0</td>\n",
       "      <td>2</td>\n",
       "    </tr>\n",
       "  </tbody>\n",
       "</table>\n",
       "</div>"
      ],
      "text/plain": [
       "      Cough_symptoms  Fever  Sore_throat  Shortness_of_breath  Headache  \\\n",
       "4512               0      0            0                    0         0   \n",
       "4513               0      0            0                    1         0   \n",
       "4514               0      0            0                    0         0   \n",
       "4515               0      0            0                    0         0   \n",
       "4516               0      0            0                    0         0   \n",
       "\n",
       "      Corona  Known_contact  \n",
       "4512       1              2  \n",
       "4513       0              0  \n",
       "4514       1              2  \n",
       "4515       2              2  \n",
       "4516       0              2  "
      ]
     },
     "execution_count": 760,
     "metadata": {},
     "output_type": "execute_result"
    }
   ],
   "source": [
    "df_test.head()"
   ]
  },
  {
   "cell_type": "markdown",
   "id": "893289b4",
   "metadata": {},
   "source": [
    "# Scaling"
   ]
  },
  {
   "cell_type": "code",
   "execution_count": 761,
   "id": "7638465f",
   "metadata": {},
   "outputs": [
    {
     "name": "stdout",
     "output_type": "stream",
     "text": [
      "[[-0.4616115  -0.31608058 -0.10497865 ... -0.12425143  1.54969546\n",
      "   0.41169677]\n",
      " [-0.4616115  -0.31608058 -0.10497865 ... -0.12425143 -0.30841849\n",
      "  -2.75138479]\n",
      " [-0.4616115  -0.31608058 -0.10497865 ... -0.12425143  1.54969546\n",
      "   0.41169677]\n",
      " ...\n",
      " [ 2.16632385  3.16375018 -0.10497865 ... -0.12425143 -0.30841849\n",
      "  -2.75138479]\n",
      " [-0.4616115  -0.31608058 -0.10497865 ... -0.12425143 -0.30841849\n",
      "   0.41169677]\n",
      " [-0.4616115  -0.31608058 -0.10497865 ... -0.12425143 -0.30841849\n",
      "   0.41169677]]\n"
     ]
    }
   ],
   "source": [
    "# import module\n",
    "from sklearn.preprocessing import StandardScaler\n",
    "\n",
    "# compute required values\n",
    "scaler = StandardScaler()\n",
    "model = scaler.fit(df_train_val)\n",
    "scaled_data = model.transform(df_train_val)\n",
    " \n",
    "# print scaled data\n",
    "print(scaled_data)"
   ]
  },
  {
   "cell_type": "code",
   "execution_count": 762,
   "id": "4aa83253",
   "metadata": {},
   "outputs": [
    {
     "data": {
      "text/html": [
       "<div>\n",
       "<style scoped>\n",
       "    .dataframe tbody tr th:only-of-type {\n",
       "        vertical-align: middle;\n",
       "    }\n",
       "\n",
       "    .dataframe tbody tr th {\n",
       "        vertical-align: top;\n",
       "    }\n",
       "\n",
       "    .dataframe thead th {\n",
       "        text-align: right;\n",
       "    }\n",
       "</style>\n",
       "<table border=\"1\" class=\"dataframe\">\n",
       "  <thead>\n",
       "    <tr style=\"text-align: right;\">\n",
       "      <th></th>\n",
       "      <th>Ind_ID</th>\n",
       "      <th>Test_date</th>\n",
       "      <th>Cough_symptoms</th>\n",
       "      <th>Fever</th>\n",
       "      <th>Sore_throat</th>\n",
       "      <th>Shortness_of_breath</th>\n",
       "      <th>Headache</th>\n",
       "      <th>Corona</th>\n",
       "      <th>Age_60_above</th>\n",
       "      <th>Sex</th>\n",
       "      <th>Known_contact</th>\n",
       "    </tr>\n",
       "  </thead>\n",
       "  <tbody>\n",
       "    <tr>\n",
       "      <th>4512</th>\n",
       "      <td>4513</td>\n",
       "      <td>2020-03-17</td>\n",
       "      <td>FALSE</td>\n",
       "      <td>FALSE</td>\n",
       "      <td>FALSE</td>\n",
       "      <td>FALSE</td>\n",
       "      <td>FALSE</td>\n",
       "      <td>other</td>\n",
       "      <td>No</td>\n",
       "      <td>other</td>\n",
       "      <td>Other</td>\n",
       "    </tr>\n",
       "    <tr>\n",
       "      <th>4513</th>\n",
       "      <td>4514</td>\n",
       "      <td>2020-03-17</td>\n",
       "      <td>FALSE</td>\n",
       "      <td>FALSE</td>\n",
       "      <td>FALSE</td>\n",
       "      <td>TRUE</td>\n",
       "      <td>FALSE</td>\n",
       "      <td>negative</td>\n",
       "      <td>No</td>\n",
       "      <td>other</td>\n",
       "      <td>Abroad</td>\n",
       "    </tr>\n",
       "    <tr>\n",
       "      <th>4514</th>\n",
       "      <td>4515</td>\n",
       "      <td>2020-03-17</td>\n",
       "      <td>FALSE</td>\n",
       "      <td>FALSE</td>\n",
       "      <td>FALSE</td>\n",
       "      <td>FALSE</td>\n",
       "      <td>FALSE</td>\n",
       "      <td>other</td>\n",
       "      <td>Yes</td>\n",
       "      <td>other</td>\n",
       "      <td>Other</td>\n",
       "    </tr>\n",
       "    <tr>\n",
       "      <th>4515</th>\n",
       "      <td>4516</td>\n",
       "      <td>2020-03-17</td>\n",
       "      <td>FALSE</td>\n",
       "      <td>FALSE</td>\n",
       "      <td>FALSE</td>\n",
       "      <td>FALSE</td>\n",
       "      <td>FALSE</td>\n",
       "      <td>positive</td>\n",
       "      <td>No</td>\n",
       "      <td>other</td>\n",
       "      <td>Other</td>\n",
       "    </tr>\n",
       "    <tr>\n",
       "      <th>4516</th>\n",
       "      <td>4517</td>\n",
       "      <td>2020-03-17</td>\n",
       "      <td>FALSE</td>\n",
       "      <td>FALSE</td>\n",
       "      <td>FALSE</td>\n",
       "      <td>FALSE</td>\n",
       "      <td>FALSE</td>\n",
       "      <td>negative</td>\n",
       "      <td>No</td>\n",
       "      <td>other</td>\n",
       "      <td>Other</td>\n",
       "    </tr>\n",
       "    <tr>\n",
       "      <th>...</th>\n",
       "      <td>...</td>\n",
       "      <td>...</td>\n",
       "      <td>...</td>\n",
       "      <td>...</td>\n",
       "      <td>...</td>\n",
       "      <td>...</td>\n",
       "      <td>...</td>\n",
       "      <td>...</td>\n",
       "      <td>...</td>\n",
       "      <td>...</td>\n",
       "      <td>...</td>\n",
       "    </tr>\n",
       "    <tr>\n",
       "      <th>156035</th>\n",
       "      <td>156036</td>\n",
       "      <td>2020-04-14</td>\n",
       "      <td>TRUE</td>\n",
       "      <td>FALSE</td>\n",
       "      <td>TRUE</td>\n",
       "      <td>FALSE</td>\n",
       "      <td>FALSE</td>\n",
       "      <td>negative</td>\n",
       "      <td>Yes</td>\n",
       "      <td>male</td>\n",
       "      <td>Abroad</td>\n",
       "    </tr>\n",
       "    <tr>\n",
       "      <th>156036</th>\n",
       "      <td>156037</td>\n",
       "      <td>2020-04-14</td>\n",
       "      <td>TRUE</td>\n",
       "      <td>FALSE</td>\n",
       "      <td>TRUE</td>\n",
       "      <td>TRUE</td>\n",
       "      <td>FALSE</td>\n",
       "      <td>negative</td>\n",
       "      <td>No</td>\n",
       "      <td>male</td>\n",
       "      <td>Abroad</td>\n",
       "    </tr>\n",
       "    <tr>\n",
       "      <th>156037</th>\n",
       "      <td>156038</td>\n",
       "      <td>2020-04-14</td>\n",
       "      <td>TRUE</td>\n",
       "      <td>TRUE</td>\n",
       "      <td>FALSE</td>\n",
       "      <td>FALSE</td>\n",
       "      <td>FALSE</td>\n",
       "      <td>negative</td>\n",
       "      <td>No</td>\n",
       "      <td>female</td>\n",
       "      <td>Abroad</td>\n",
       "    </tr>\n",
       "    <tr>\n",
       "      <th>156038</th>\n",
       "      <td>156039</td>\n",
       "      <td>2020-04-14</td>\n",
       "      <td>FALSE</td>\n",
       "      <td>FALSE</td>\n",
       "      <td>FALSE</td>\n",
       "      <td>FALSE</td>\n",
       "      <td>FALSE</td>\n",
       "      <td>negative</td>\n",
       "      <td>No</td>\n",
       "      <td>male</td>\n",
       "      <td>Other</td>\n",
       "    </tr>\n",
       "    <tr>\n",
       "      <th>156039</th>\n",
       "      <td>156040</td>\n",
       "      <td>2020-04-14</td>\n",
       "      <td>FALSE</td>\n",
       "      <td>FALSE</td>\n",
       "      <td>FALSE</td>\n",
       "      <td>FALSE</td>\n",
       "      <td>FALSE</td>\n",
       "      <td>negative</td>\n",
       "      <td>No</td>\n",
       "      <td>female</td>\n",
       "      <td>Other</td>\n",
       "    </tr>\n",
       "  </tbody>\n",
       "</table>\n",
       "<p>151279 rows × 11 columns</p>\n",
       "</div>"
      ],
      "text/plain": [
       "        Ind_ID  Test_date Cough_symptoms  Fever Sore_throat  \\\n",
       "4512      4513 2020-03-17          FALSE  FALSE       FALSE   \n",
       "4513      4514 2020-03-17          FALSE  FALSE       FALSE   \n",
       "4514      4515 2020-03-17          FALSE  FALSE       FALSE   \n",
       "4515      4516 2020-03-17          FALSE  FALSE       FALSE   \n",
       "4516      4517 2020-03-17          FALSE  FALSE       FALSE   \n",
       "...        ...        ...            ...    ...         ...   \n",
       "156035  156036 2020-04-14           TRUE  FALSE        TRUE   \n",
       "156036  156037 2020-04-14           TRUE  FALSE        TRUE   \n",
       "156037  156038 2020-04-14           TRUE   TRUE       FALSE   \n",
       "156038  156039 2020-04-14          FALSE  FALSE       FALSE   \n",
       "156039  156040 2020-04-14          FALSE  FALSE       FALSE   \n",
       "\n",
       "       Shortness_of_breath Headache    Corona Age_60_above     Sex  \\\n",
       "4512                 FALSE    FALSE     other           No   other   \n",
       "4513                  TRUE    FALSE  negative           No   other   \n",
       "4514                 FALSE    FALSE     other          Yes   other   \n",
       "4515                 FALSE    FALSE  positive           No   other   \n",
       "4516                 FALSE    FALSE  negative           No   other   \n",
       "...                    ...      ...       ...          ...     ...   \n",
       "156035               FALSE    FALSE  negative          Yes    male   \n",
       "156036                TRUE    FALSE  negative           No    male   \n",
       "156037               FALSE    FALSE  negative           No  female   \n",
       "156038               FALSE    FALSE  negative           No    male   \n",
       "156039               FALSE    FALSE  negative           No  female   \n",
       "\n",
       "       Known_contact  \n",
       "4512           Other  \n",
       "4513          Abroad  \n",
       "4514           Other  \n",
       "4515           Other  \n",
       "4516           Other  \n",
       "...              ...  \n",
       "156035        Abroad  \n",
       "156036        Abroad  \n",
       "156037        Abroad  \n",
       "156038         Other  \n",
       "156039         Other  \n",
       "\n",
       "[151279 rows x 11 columns]"
      ]
     },
     "execution_count": 762,
     "metadata": {},
     "output_type": "execute_result"
    }
   ],
   "source": [
    "covid"
   ]
  },
  {
   "cell_type": "markdown",
   "id": "2a47da25",
   "metadata": {},
   "source": [
    "# Feature Selection - Using Chi-Square Test"
   ]
  },
  {
   "cell_type": "code",
   "execution_count": 763,
   "id": "cce31209",
   "metadata": {},
   "outputs": [],
   "source": [
    "#Libraries required for chi test\n",
    "from sklearn import datasets\n",
    "from sklearn.feature_selection import SelectKBest\n",
    "from sklearn.feature_selection import chi2\n",
    "from scipy.stats import chi2_contingency"
   ]
  },
  {
   "cell_type": "code",
   "execution_count": 764,
   "id": "e28335a4",
   "metadata": {},
   "outputs": [
    {
     "name": "stdout",
     "output_type": "stream",
     "text": [
      "               Feature  P_values\n",
      "0       Cough_symptoms       0.0\n",
      "1                Fever       0.0\n",
      "2          Sore_throat       0.0\n",
      "3  Shortness_of_breath       0.0\n",
      "4             Headache       0.0\n",
      "5        Known_contact       0.0\n"
     ]
    }
   ],
   "source": [
    "X=df_train_val.drop(['Corona'],axis=1)\n",
    "y = df_train_val['Corona']\n",
    "selector = SelectKBest(score_func=chi2, k='all')\n",
    "X_new = selector.fit_transform(X,y)\n",
    "p_values = selector.pvalues_\n",
    "p_values_df = pd.DataFrame({'Feature': X.columns, 'P_values':p_values})\n",
    "print(p_values_df)"
   ]
  },
  {
   "cell_type": "code",
   "execution_count": 765,
   "id": "29996f1a",
   "metadata": {},
   "outputs": [
    {
     "data": {
      "text/plain": [
       "<Axes: >"
      ]
     },
     "execution_count": 765,
     "metadata": {},
     "output_type": "execute_result"
    },
    {
     "data": {
      "image/png": "[encoded data removed]",
      "text/plain": [
       "<Figure size 2500x2000 with 2 Axes>"
      ]
     },
     "metadata": {},
     "output_type": "display_data"
    }
   ],
   "source": [
    "plt.figure(figsize=(25,20))  # Heat map to find correlation between features\n",
    "sns.heatmap(df_train_val.corr(), annot=True, cmap=\"PuRd\")"
   ]
  },
  {
   "cell_type": "markdown",
   "id": "cbc8b764",
   "metadata": {},
   "source": [
    "## selected features"
   ]
  },
  {
   "cell_type": "raw",
   "id": "ba3e05fa",
   "metadata": {},
   "source": [
    "The following are the features we'll use to predict our target variable (Covid19 Positive or Negative):\n",
    "\n",
    "Cough_symptoms : ['TRUE','FALSE']\n",
    "\n",
    "Fever : ['FALSE','TRUE']\n",
    "\n",
    "Sore_throat : ['TRUE','FALSE']\n",
    "\n",
    "Shortness_of_breath : ['FALSE','TRUE']\n",
    "\n",
    "Headache : ['FALSE','TRUE']\n",
    "\n",
    "Known_contact : ['Abroad','Contact with confirmed','Other']\n",
    "\n",
    "Corona(Target Variable) : ['negative','positive','other']"
   ]
  },
  {
   "cell_type": "markdown",
   "id": "13788862",
   "metadata": {},
   "source": [
    "# **Machine Learning Approach (Model Training)**\n",
    "\n"
   ]
  },
  {
   "cell_type": "code",
   "execution_count": 766,
   "id": "ce9ec8d6",
   "metadata": {},
   "outputs": [],
   "source": [
    "from sklearn.model_selection import train_test_split"
   ]
  },
  {
   "cell_type": "code",
   "execution_count": 767,
   "id": "2d731a61",
   "metadata": {},
   "outputs": [],
   "source": [
    "#split the data into features(x) and target variable(y)\n",
    "X = df_train_val.drop('Corona',axis=1)\n",
    "y= df_train_val['Corona']\n",
    "\n",
    "# split the date into training and validation sets:\n",
    "X_train,X_test,y_train, y_test = train_test_split(X,y, test_size=0.2,random_state=42)\n",
    "\n"
   ]
  },
  {
   "cell_type": "code",
   "execution_count": 768,
   "id": "df19af43",
   "metadata": {},
   "outputs": [
    {
     "name": "stdout",
     "output_type": "stream",
     "text": [
      "X_train shape: (121023, 6)\n",
      "X_test shape: (30256, 6)\n",
      "y_train shape: (121023,)\n",
      "y_test shape: (30256,)\n"
     ]
    }
   ],
   "source": [
    "#Print the shapes of the split sets\n",
    "print(\"X_train shape:\", X_train.shape)\n",
    "print(\"X_test shape:\", X_test.shape)\n",
    "print(\"y_train shape:\", y_train.shape)\n",
    "print(\"y_test shape:\", y_test.shape)"
   ]
  },
  {
   "cell_type": "markdown",
   "id": "251f5d55",
   "metadata": {},
   "source": [
    "## Model1- Logistic Regression"
   ]
  },
  {
   "cell_type": "code",
   "execution_count": 769,
   "id": "b9fd7090",
   "metadata": {},
   "outputs": [
    {
     "name": "stdout",
     "output_type": "stream",
     "text": [
      "Logistic regression Accuracy Score for the validating  Date: 93.14\n"
     ]
    }
   ],
   "source": [
    "from sklearn.linear_model import LogisticRegression\n",
    "from sklearn.metrics import accuracy_score\n",
    "\n",
    "#create a Logistic Regression model\n",
    "model1 = LogisticRegression(random_state = 0)\n",
    "\n",
    "#Train the model on the training data\n",
    "model1.fit(X_train,y_train)\n",
    "\n",
    "#Make predictions on the validation data\n",
    "y_pred1 = model1.predict(X_test)\n",
    "\n",
    "# Calculate the accuracy of the model\n",
    "accuracy= round(accuracy_score(y_test,y_pred1)*100,2)\n",
    "\n",
    "print(f\"Logistic regression Accuracy Score for the validating  Date: {accuracy}\")"
   ]
  },
  {
   "cell_type": "code",
   "execution_count": 770,
   "id": "8ee95f30",
   "metadata": {},
   "outputs": [
    {
     "name": "stdout",
     "output_type": "stream",
     "text": [
      "Logistic regression Accuracy Score for the Test Date: 93.19\n"
     ]
    }
   ],
   "source": [
    "#split the data into features(x) and target variable(y)\n",
    "X = df_test.drop('Corona',axis=1)\n",
    "y= df_test['Corona']\n",
    "\n",
    "#Make predictions on the test data\n",
    "y_pred2= model1.predict(X)\n",
    "\n",
    "#Calculate the accuracy of the model\n",
    "accuracy = round(accuracy_score(y,y_pred2)*100,2)\n",
    "print(f\"Logistic regression Accuracy Score for the Test Date: {accuracy}\")"
   ]
  },
  {
   "cell_type": "markdown",
   "id": "528374dd",
   "metadata": {},
   "source": [
    "#### The accuracy we got using Logistic Regression on test data is 93.19%"
   ]
  },
  {
   "cell_type": "code",
   "execution_count": 771,
   "id": "f963ad04",
   "metadata": {},
   "outputs": [
    {
     "name": "stdout",
     "output_type": "stream",
     "text": [
      "0.9313524590163934\n",
      "0.20295270448428304\n",
      "0.26\n"
     ]
    }
   ],
   "source": [
    "#accuracy score\n",
    "print(accuracy_score(y_test,y_pred1)) \n",
    "\n",
    "#r2 score\n",
    "print(r2_score(y_test,y_pred1))\n",
    "\n",
    "#Log_loss\n",
    "logloss = log_loss(y_test, model1.predict_proba(X_test))\n",
    "print(round(logloss,2))"
   ]
  },
  {
   "cell_type": "markdown",
   "id": "fc409209",
   "metadata": {},
   "source": [
    "### Hyper parameter Tuning"
   ]
  },
  {
   "cell_type": "code",
   "execution_count": 772,
   "id": "1ffc1e26",
   "metadata": {},
   "outputs": [
    {
     "data": {
      "text/plain": [
       "array([[27467,     0,    53],\n",
       "       [  408,     0,    14],\n",
       "       [ 1602,     0,   712]], dtype=int64)"
      ]
     },
     "execution_count": 772,
     "metadata": {},
     "output_type": "execute_result"
    }
   ],
   "source": [
    "confusion_mat=confusion_matrix(y_test, y_pred1)\n",
    "confusion_mat"
   ]
  },
  {
   "cell_type": "code",
   "execution_count": 773,
   "id": "55906bd5",
   "metadata": {},
   "outputs": [
    {
     "name": "stdout",
     "output_type": "stream",
     "text": [
      "{'C': 0.1, 'penalty': 'l1', 'solver': 'liblinear'}\n",
      "LogisticRegression(C=0.1, penalty='l1', solver='liblinear')\n"
     ]
    }
   ],
   "source": [
    "# Define the hyperparameter grid to search for logistic regression\n",
    "param_grid_lr = {\n",
    "    'C': [0.01, 0.1, 1, 10],\n",
    "    'penalty': ['l1', 'l2'],\n",
    "    'solver': ['liblinear', 'lbfgs', 'sag', 'saga']}\n",
    "\n",
    "grid_search_lr = GridSearchCV(estimator=LogisticRegression(), param_grid=param_grid_lr, cv=5, scoring='accuracy', n_jobs=-1)\n",
    "\n",
    "grid_search_lr.fit(X_train, y_train)\n",
    "\n",
    "# Get the best hyperparameters and the best score\n",
    "best_params_lr = grid_search_lr.best_params_\n",
    "best_model_lr = grid_search_lr.best_estimator_\n",
    "print(best_params_lr)\n",
    "print(best_model_lr)"
   ]
  },
  {
   "cell_type": "code",
   "execution_count": 774,
   "id": "402da0a2",
   "metadata": {},
   "outputs": [
    {
     "name": "stdout",
     "output_type": "stream",
     "text": [
      "Classification Report :\n",
      "               precision    recall  f1-score   support\n",
      "\n",
      "           0       0.93      1.00      0.96    137606\n",
      "           1       0.00      0.00      0.00      2236\n",
      "           2       0.91      0.32      0.47     11437\n",
      "\n",
      "    accuracy                           0.93    151279\n",
      "   macro avg       0.62      0.44      0.48    151279\n",
      "weighted avg       0.92      0.93      0.91    151279\n",
      "\n"
     ]
    }
   ],
   "source": [
    "lr_mod_best = LogisticRegression(C=0.1, penalty='l1', solver='liblinear')\n",
    "lr_mod_best.fit(X_train, y_train)\n",
    "#Predict the response for test dataset\n",
    "y_pred_best_lr = lr_mod_best.predict(X)\n",
    "class_report_lr_best = classification_report(y, y_pred_best_lr)\n",
    "print(f\"Classification Report :\\n {class_report_lr_best}\")"
   ]
  },
  {
   "cell_type": "code",
   "execution_count": 775,
   "id": "a70a4225",
   "metadata": {},
   "outputs": [
    {
     "name": "stdout",
     "output_type": "stream",
     "text": [
      "Accuracy score after tuning : 93.19\n"
     ]
    }
   ],
   "source": [
    "lrmodel_accuracy = round(accuracy_score(y, y_pred_best_lr)*100, 2)\n",
    "print(f\"Accuracy score after tuning : {lrmodel_accuracy}\")"
   ]
  },
  {
   "cell_type": "markdown",
   "id": "7e9b0c2a",
   "metadata": {},
   "source": [
    "# Model2-Decision Tree"
   ]
  },
  {
   "cell_type": "code",
   "execution_count": 776,
   "id": "c6171488",
   "metadata": {},
   "outputs": [
    {
     "name": "stdout",
     "output_type": "stream",
     "text": [
      "(121023, 6)\n",
      "(30256, 6)\n"
     ]
    }
   ],
   "source": [
    "print(X_train.shape)\n",
    "print(X_test.shape)"
   ]
  },
  {
   "cell_type": "code",
   "execution_count": 777,
   "id": "f9d0ee5a",
   "metadata": {},
   "outputs": [
    {
     "name": "stdout",
     "output_type": "stream",
     "text": [
      "Decision Tree Accuracy Score for validation Data : 94.46\n"
     ]
    }
   ],
   "source": [
    "from sklearn.tree import DecisionTreeClassifier\n",
    "from sklearn.metrics import accuracy_score\n",
    "\n",
    "# Create a Decision Tree model\n",
    "model2 = DecisionTreeClassifier()\n",
    "\n",
    "# Train the model on the training data\n",
    "model2.fit(X_train, y_train)\n",
    "\n",
    "# Make predictions on the validation data\n",
    "y_pred = model2.predict(X_test)\n",
    "\n",
    "# Calculate the accuracy of the model\n",
    "accuracy = round(accuracy_score(y_test, y_pred)*100,2)\n",
    "print(f\"Decision Tree Accuracy Score for validation Data : {accuracy}\")"
   ]
  },
  {
   "cell_type": "code",
   "execution_count": 778,
   "id": "be84362c",
   "metadata": {},
   "outputs": [
    {
     "name": "stdout",
     "output_type": "stream",
     "text": [
      "Decision Tree Accuracy Score for Test Data : 94.4\n"
     ]
    }
   ],
   "source": [
    "X = df_test.drop('Corona', axis=1)\n",
    "y = df_test['Corona']\n",
    "\n",
    "# Make predictions on the test data\n",
    "y_pred = model2.predict(X)\n",
    "\n",
    "# Calculate the accuracy of the model\n",
    "accuracy = round(accuracy_score(y, y_pred)*100,2)\n",
    "print(f\"Decision Tree Accuracy Score for Test Data : {accuracy}\")"
   ]
  },
  {
   "cell_type": "code",
   "execution_count": 779,
   "id": "f572dea6",
   "metadata": {},
   "outputs": [
    {
     "name": "stdout",
     "output_type": "stream",
     "text": [
      "[[27233     0   287]\n",
      " [  392     0    30]\n",
      " [  966     0  1348]]\n"
     ]
    }
   ],
   "source": [
    "from sklearn.metrics import confusion_matrix\n",
    "print(confusion_matrix(y_test,pred))"
   ]
  },
  {
   "cell_type": "code",
   "execution_count": 780,
   "id": "9ad4b922",
   "metadata": {},
   "outputs": [
    {
     "name": "stdout",
     "output_type": "stream",
     "text": [
      "0.9446390798519302\n",
      "0.9446390798519302\n",
      "0.9446390798519302\n",
      "0.38495384779431896\n",
      "0.22\n"
     ]
    }
   ],
   "source": [
    "#Metrics Before tuning the data\n",
    "\n",
    "print(recall_score(y_test,pred, average='micro'))\n",
    "\n",
    "print(precision_score(y_test,pred, average='micro'))\n",
    "\n",
    "print(accuracy_score(y_test,pred))\n",
    "\n",
    "#print(f1_score(y_test,pred, average='micro'))\n",
    "\n",
    "print(r2_score(y_test,pred))\n",
    "logloss = log_loss(y_test, model2.predict_proba(X_test))\n",
    "print(round(logloss,2))"
   ]
  },
  {
   "cell_type": "markdown",
   "id": "b0978d79",
   "metadata": {},
   "source": [
    "### Hyper parameter Tuning"
   ]
  },
  {
   "cell_type": "code",
   "execution_count": 781,
   "id": "ae058c4f",
   "metadata": {},
   "outputs": [
    {
     "name": "stdout",
     "output_type": "stream",
     "text": [
      "{'criterion': 'gini', 'max_depth': None, 'min_samples_leaf': 1, 'min_samples_split': 2}\n",
      "DecisionTreeClassifier()\n"
     ]
    }
   ],
   "source": [
    "# Define the hyperparameter grid to search for decision tree\n",
    "param_grid_dt = {\n",
    "    'max_depth': [None, 10, 20, 30],\n",
    "    'min_samples_split': [2, 5, 10],\n",
    "    'min_samples_leaf': [1, 2, 4],\n",
    "    'criterion': ['gini', 'entropy']}\n",
    "\n",
    "# Create the GridSearchCV object\n",
    "grid_search_dt = GridSearchCV(model2, param_grid_dt, cv=5, scoring='f1', n_jobs=-1)\n",
    "\n",
    "grid_search_dt.fit(X_train, y_train)\n",
    "\n",
    "# Get the best hyperparameters and the best model\n",
    "best_params_dt = grid_search_dt.best_params_\n",
    "best_model_dt = grid_search_dt.best_estimator_\n",
    "print(best_params_dt)\n",
    "print(best_model_dt)"
   ]
  },
  {
   "cell_type": "code",
   "execution_count": 782,
   "id": "2b1d0559",
   "metadata": {},
   "outputs": [
    {
     "name": "stdout",
     "output_type": "stream",
     "text": [
      "Classification Report :\n",
      "               precision    recall  f1-score   support\n",
      "\n",
      "           0       0.95      0.99      0.97    137606\n",
      "           1       0.00      0.00      0.00      2236\n",
      "           2       0.81      0.58      0.68     11437\n",
      "\n",
      "    accuracy                           0.94    151279\n",
      "   macro avg       0.59      0.52      0.55    151279\n",
      "weighted avg       0.93      0.94      0.93    151279\n",
      "\n"
     ]
    }
   ],
   "source": [
    "dt_mod_best = DecisionTreeClassifier(criterion = 'gini', max_depth= None, min_samples_leaf = 1, min_samples_split = 2)\n",
    "dt_mod_best.fit(X_train, y_train)\n",
    "#Predict the response for test dataset\n",
    "y_pred_best_dt = dt_mod_best.predict(X)\n",
    "class_report_dt_best = classification_report(y, y_pred_best_dt)\n",
    "print(f\"Classification Report :\\n {class_report_dt_best}\")"
   ]
  },
  {
   "cell_type": "code",
   "execution_count": 783,
   "id": "a37f8c57",
   "metadata": {},
   "outputs": [
    {
     "name": "stdout",
     "output_type": "stream",
     "text": [
      "Accuracy score after tuning : 94.4017\n"
     ]
    }
   ],
   "source": [
    "dtmodel_accuracy = round(accuracy_score(y, y_pred_best_dt)*100, 4)\n",
    "print(f\"Accuracy score after tuning : {dtmodel_accuracy}\")"
   ]
  },
  {
   "cell_type": "markdown",
   "id": "d09bba38",
   "metadata": {},
   "source": [
    "# Model3- Random Forest"
   ]
  },
  {
   "cell_type": "code",
   "execution_count": 784,
   "id": "4bde6085",
   "metadata": {},
   "outputs": [
    {
     "name": "stdout",
     "output_type": "stream",
     "text": [
      "Random Forest Accuracy Score for Validation Data: 94.46\n"
     ]
    }
   ],
   "source": [
    "from sklearn.model_selection import train_test_split\n",
    "from sklearn.ensemble import RandomForestClassifier\n",
    "from sklearn.metrics import accuracy_score\n",
    "\n",
    "#Create a RandomForestClassifier model:\n",
    "model3= RandomForestClassifier()\n",
    "\n",
    "# train the model on the training data\n",
    "model3.fit(X_train,y_train)\n",
    "\n",
    "#Make prediction on the validation date\n",
    "pred2 = model3.predict(X_test)\n",
    "\n",
    "#Calculate the accuracy of the model:\n",
    "accuracy = round(accuracy_score(y_test, pred2)*100,2)\n",
    "print(f'Random Forest Accuracy Score for Validation Data: {accuracy}')"
   ]
  },
  {
   "cell_type": "code",
   "execution_count": 785,
   "id": "c2d2650d",
   "metadata": {},
   "outputs": [
    {
     "name": "stdout",
     "output_type": "stream",
     "text": [
      "0.9446390798519302\n",
      "0.9446390798519302\n",
      "0.9446390798519302\n",
      "0.9446390798519302\n",
      "0.38495384779431896\n",
      "0.22\n"
     ]
    }
   ],
   "source": [
    "#Metrics Before tuning the data:\n",
    "\n",
    "print(recall_score(y_test,pred2, average='micro'))\n",
    "\n",
    "print(precision_score(y_test,pred2, average='micro'))\n",
    "\n",
    "print(f1_score(y_test,pred2, average='micro'))\n",
    "\n",
    "print(accuracy_score(y_test,pred2))\n",
    "\n",
    "print(r2_score(y_test,pred2))\n",
    "\n",
    "logloss = log_loss(y_test, model3.predict_proba(X_test))\n",
    "print(round(logloss,2))"
   ]
  },
  {
   "cell_type": "code",
   "execution_count": 786,
   "id": "f614c64e",
   "metadata": {},
   "outputs": [
    {
     "name": "stdout",
     "output_type": "stream",
     "text": [
      "Random Forest Accuracy Score for Test Data: 94.4017\n"
     ]
    }
   ],
   "source": [
    "X = df_test.drop('Corona', axis=1)\n",
    "y = df_test['Corona']\n",
    "\n",
    "# Make predictions on the test data\n",
    "y_pred = model3.predict(X)\n",
    "\n",
    "# Calculate the accuracy of the model\n",
    "accuracy = round(accuracy_score(y, y_pred)*100,4)\n",
    "print(f\"Random Forest Accuracy Score for Test Data: {accuracy}\")"
   ]
  },
  {
   "cell_type": "markdown",
   "id": "06afd557",
   "metadata": {},
   "source": [
    "### Hyper parameter Tuning"
   ]
  },
  {
   "cell_type": "code",
   "execution_count": 787,
   "id": "70f46cae",
   "metadata": {},
   "outputs": [
    {
     "name": "stdout",
     "output_type": "stream",
     "text": [
      "{'criterion': 'gini', 'max_depth': None, 'min_samples_leaf': 1, 'min_samples_split': 2, 'n_estimators': 50}\n",
      "RandomForestClassifier(n_estimators=50)\n"
     ]
    }
   ],
   "source": [
    "# Define the hyperparameter grid to search for random forest\n",
    "param_grid_rf = {\n",
    "    'n_estimators': [50, 50, 50],\n",
    "    'max_depth': [None, 10, 20, 30],\n",
    "    'min_samples_split': [2, 5, 10],\n",
    "    'min_samples_leaf': [1, 2, 4],\n",
    "    'criterion': ['gini', 'entropy']}\n",
    "\n",
    "grid_search_rf = GridSearchCV(model3, param_grid_rf, cv=5, scoring='f1', n_jobs=-1)\n",
    "\n",
    "grid_search_rf.fit(X_train, y_train)\n",
    "\n",
    "# Get the best hyperparameters and the best model\n",
    "best_params_rf = grid_search_rf.best_params_\n",
    "best_model_rf = grid_search_rf.best_estimator_\n",
    "print(best_params_rf)\n",
    "print(best_model_rf)"
   ]
  },
  {
   "cell_type": "code",
   "execution_count": 788,
   "id": "b9d7c48d",
   "metadata": {},
   "outputs": [
    {
     "name": "stdout",
     "output_type": "stream",
     "text": [
      "Classification Report :\n",
      "               precision    recall  f1-score   support\n",
      "\n",
      "           0       0.95      0.99      0.97    137606\n",
      "           1       0.00      0.00      0.00      2236\n",
      "           2       0.81      0.58      0.68     11437\n",
      "\n",
      "    accuracy                           0.94    151279\n",
      "   macro avg       0.59      0.52      0.55    151279\n",
      "weighted avg       0.93      0.94      0.93    151279\n",
      "\n"
     ]
    }
   ],
   "source": [
    "rf_mod_best = RandomForestClassifier(criterion = 'gini', max_depth= None, min_samples_leaf = 1, min_samples_split= 2, n_estimators= 50, random_state= 42)\n",
    "rf_mod_best.fit(X_train, y_train)\n",
    "#Predict the response for test dataset\n",
    "y_pred_best_rf = rf_mod_best.predict(X)\n",
    "class_report_rf_best = classification_report(y, y_pred_best_rf)\n",
    "print(f\"Classification Report :\\n {class_report_rf_best}\")"
   ]
  },
  {
   "cell_type": "code",
   "execution_count": 789,
   "id": "e59333a6",
   "metadata": {},
   "outputs": [
    {
     "name": "stdout",
     "output_type": "stream",
     "text": [
      "Accuracy score after tuning : 94.4017\n"
     ]
    }
   ],
   "source": [
    "rfmodel_accuracy = round(accuracy_score(y, y_pred_best_rf)*100, 4)\n",
    "print(f\"Accuracy score after tuning : {rfmodel_accuracy}\")"
   ]
  },
  {
   "cell_type": "markdown",
   "id": "ae5748d1",
   "metadata": {},
   "source": [
    "# Model4- Xgboost"
   ]
  },
  {
   "cell_type": "code",
   "execution_count": 790,
   "id": "c9518f05",
   "metadata": {},
   "outputs": [
    {
     "name": "stdout",
     "output_type": "stream",
     "text": [
      "Requirement already satisfied: xgboost in c:\\users\\admin\\anaconda3\\lib\\site-packages (2.0.2)\n",
      "Requirement already satisfied: numpy in c:\\users\\admin\\anaconda3\\lib\\site-packages (from xgboost) (1.24.3)\n",
      "Requirement already satisfied: scipy in c:\\users\\admin\\anaconda3\\lib\\site-packages (from xgboost) (1.11.1)\n"
     ]
    }
   ],
   "source": [
    "!pip install xgboost"
   ]
  },
  {
   "cell_type": "code",
   "execution_count": 791,
   "id": "1ee0d1d5",
   "metadata": {},
   "outputs": [],
   "source": [
    "from xgboost import XGBClassifier, plot_tree\n",
    "import xgboost as xgb\n",
    "from sklearn.metrics import mean_squared_error\n",
    "plt.style.use('ggplot')"
   ]
  },
  {
   "cell_type": "code",
   "execution_count": 792,
   "id": "cb2632e6",
   "metadata": {},
   "outputs": [
    {
     "name": "stdout",
     "output_type": "stream",
     "text": [
      "0.9446390798519302\n"
     ]
    }
   ],
   "source": [
    "# Make predictions and find accuracy on the validation data\n",
    "from xgboost import XGBClassifier\n",
    "from sklearn import metrics\n",
    "xgb2=XGBClassifier()\n",
    "xgb2.fit(X_train,y_train)\n",
    "y_pred1=xgb2.predict(X_test)\n",
    "accuracyg =metrics.accuracy_score(y_pred1,y_test)\n",
    "print(accuracyg )"
   ]
  },
  {
   "cell_type": "code",
   "execution_count": 793,
   "id": "067952a2",
   "metadata": {},
   "outputs": [
    {
     "name": "stdout",
     "output_type": "stream",
     "text": [
      "0.9440173454345944\n"
     ]
    }
   ],
   "source": [
    "# Make predictions and find accuracy on the test data\n",
    "X = df_test.drop('Corona', axis=1)\n",
    "y = df_test['Corona']\n",
    "xgb2=XGBClassifier()\n",
    "xgb2.fit(X_train,y_train)\n",
    "y_pred=xgb2.predict(X)\n",
    "accuracyg =metrics.accuracy_score(y_pred,y)\n",
    "print(accuracyg )"
   ]
  },
  {
   "cell_type": "code",
   "execution_count": 794,
   "id": "d6d3cc48",
   "metadata": {},
   "outputs": [
    {
     "name": "stdout",
     "output_type": "stream",
     "text": [
      "RMSE: 0.423793\n"
     ]
    }
   ],
   "source": [
    "#Compute the rmse by invoking the mean_sqaured_error function from sklearn's\n",
    "#metrics module.\n",
    "rmse = np.sqrt(mean_squared_error(y_test, y_pred1))\n",
    "print(\"RMSE: %f\" % (rmse))\n"
   ]
  },
  {
   "cell_type": "code",
   "execution_count": 795,
   "id": "cda38188",
   "metadata": {},
   "outputs": [],
   "source": [
    "data_dmatrix = xgb.DMatrix(data=X,label=y)"
   ]
  },
  {
   "cell_type": "code",
   "execution_count": 796,
   "id": "ab9c9711",
   "metadata": {},
   "outputs": [],
   "source": [
    "#Invoking XGBoost's cv() method and store the results in a cv_results DataFrame\n",
    "params = {\"objective\":\"reg:linear\",'colsample_bytree': 0.3,'learning_rate': 0.1,\n",
    "'max_depth': 5, 'alpha': 10}"
   ]
  },
  {
   "cell_type": "code",
   "execution_count": 797,
   "id": "e8c2399e",
   "metadata": {},
   "outputs": [],
   "source": [
    "cv_results = xgb.cv(dtrain=data_dmatrix, params=params, nfold=3,\n",
    "num_boost_round=50,early_stopping_rounds=10,metrics=\"rmse\", as_pandas=True, seed=123)"
   ]
  },
  {
   "cell_type": "code",
   "execution_count": 798,
   "id": "343e963b",
   "metadata": {},
   "outputs": [
    {
     "name": "stdout",
     "output_type": "stream",
     "text": [
      "49    0.41514\n",
      "Name: test-rmse-mean, dtype: float64\n"
     ]
    }
   ],
   "source": [
    "# We have to Extract and print the final boosting round metric.\n",
    "print((cv_results[\"test-rmse-mean\"]).tail(1))"
   ]
  },
  {
   "cell_type": "code",
   "execution_count": 799,
   "id": "8ca3dedb",
   "metadata": {},
   "outputs": [
    {
     "name": "stdout",
     "output_type": "stream",
     "text": [
      "0.9440173454345944\n"
     ]
    }
   ],
   "source": [
    "from xgboost import XGBClassifier\n",
    "from sklearn import metrics\n",
    "xgb1=XGBClassifier(criterion = 'gini', max_depth= None, min_samples_leaf = 1, min_samples_split= 2, n_estimators= 50, random_state= 42)\n",
    "xgb1.fit(X_train,y_train)\n",
    "ypred=xgb1.predict(X)\n",
    "accuracyg =metrics.accuracy_score(ypred,y)\n",
    "print(accuracyg )"
   ]
  },
  {
   "cell_type": "markdown",
   "id": "cf24f3de",
   "metadata": {},
   "source": [
    "# Hyperparameter Tuning"
   ]
  },
  {
   "cell_type": "code",
   "execution_count": 800,
   "id": "d11fb6c5",
   "metadata": {},
   "outputs": [
    {
     "name": "stdout",
     "output_type": "stream",
     "text": [
      "{'criterion': 'gini', 'max_depth': None, 'min_samples_leaf': 1, 'min_samples_split': 2, 'n_estimators': 50}\n",
      "XGBClassifier(base_score=None, booster=None, callbacks=None,\n",
      "              colsample_bylevel=None, colsample_bynode=None,\n",
      "              colsample_bytree=None, criterion='gini', device=None,\n",
      "              early_stopping_rounds=None, enable_categorical=False,\n",
      "              eval_metric=None, feature_types=None, gamma=None,\n",
      "              grow_policy=None, importance_type=None,\n",
      "              interaction_constraints=None, learning_rate=None, max_bin=None,\n",
      "              max_cat_threshold=None, max_cat_to_onehot=None,\n",
      "              max_delta_step=None, max_depth=None, max_leaves=None,\n",
      "              min_child_weight=None, min_samples_leaf=1, min_samples_split=2,\n",
      "              missing=nan, monotone_constraints=None, multi_strategy=None,\n",
      "              n_estimators=50, ...)\n"
     ]
    }
   ],
   "source": [
    "# Define the hyperparameter grid to search for xgboost\n",
    "param_grid_xg = {\n",
    "    'n_estimators': [50, 50, 50],\n",
    "    'max_depth': [None, 10, 20, 30],\n",
    "    'min_samples_split': [2, 5, 10],\n",
    "    'min_samples_leaf': [1, 2, 4],\n",
    "    'criterion': ['gini', 'entropy']}\n",
    "\n",
    "grid_search_xg = GridSearchCV(xgb2, param_grid_xg, cv=5, scoring='f1', n_jobs=-1)\n",
    "\n",
    "grid_search_xg.fit(X_train, y_train)\n",
    "\n",
    "# Get the best hyperparameters and the best model\n",
    "best_params_xg = grid_search_xg.best_params_\n",
    "best_model_xg = grid_search_xg.best_estimator_\n",
    "print(best_params_xg)\n",
    "print(best_model_xg)"
   ]
  },
  {
   "cell_type": "code",
   "execution_count": 801,
   "id": "9133df53",
   "metadata": {},
   "outputs": [
    {
     "name": "stdout",
     "output_type": "stream",
     "text": [
      "Classification Report :\n",
      "               precision    recall  f1-score   support\n",
      "\n",
      "           0       0.95      0.99      0.97    137606\n",
      "           1       0.00      0.00      0.00      2236\n",
      "           2       0.81      0.58      0.68     11437\n",
      "\n",
      "    accuracy                           0.94    151279\n",
      "   macro avg       0.59      0.52      0.55    151279\n",
      "weighted avg       0.93      0.94      0.93    151279\n",
      "\n"
     ]
    }
   ],
   "source": [
    "xg_mod_best = XGBClassifier(criterion = 'gini', max_depth= None, min_samples_leaf = 1, min_samples_split= 2, n_estimators= 50, random_state= 42)\n",
    "xg_mod_best.fit(X_train, y_train)\n",
    "#Predict the response for test dataset\n",
    "y_pred_best_xg = xg_mod_best.predict(X)\n",
    "class_report_xg_best = classification_report(y, y_pred_best_xg)\n",
    "print(f\"Classification Report :\\n {class_report_xg_best}\")"
   ]
  },
  {
   "cell_type": "code",
   "execution_count": 802,
   "id": "c8a36290",
   "metadata": {},
   "outputs": [
    {
     "name": "stdout",
     "output_type": "stream",
     "text": [
      "Accuracy score after tuning : 94.4017\n"
     ]
    }
   ],
   "source": [
    "xgmodel_accuracy = round(accuracy_score(y,y_pred_best_xg)*100, 4)\n",
    "print(f\"Accuracy score after tuning : {xgmodel_accuracy}\")"
   ]
  },
  {
   "cell_type": "markdown",
   "id": "54de423e",
   "metadata": {},
   "source": [
    "# Model5 -SVM"
   ]
  },
  {
   "cell_type": "code",
   "execution_count": 803,
   "id": "720632d8",
   "metadata": {},
   "outputs": [],
   "source": [
    "from sklearn.svm import SVC"
   ]
  },
  {
   "cell_type": "code",
   "execution_count": 806,
   "id": "bc6af39e",
   "metadata": {},
   "outputs": [
    {
     "data": {
      "text/plain": [
       "0.9446390798519302"
      ]
     },
     "execution_count": 806,
     "metadata": {},
     "output_type": "execute_result"
    }
   ],
   "source": [
    "model_scm_class = SVC()\n",
    "model_scm_class.fit(X_train,y_train)\n",
    "# Make predictions and find accuracy on the validation data\n",
    "pred = model_scm_class.predict(X_test)\n",
    "accuracy_score(y_test,pred)"
   ]
  },
  {
   "cell_type": "code",
   "execution_count": 805,
   "id": "20b74236",
   "metadata": {},
   "outputs": [
    {
     "data": {
      "text/plain": [
       "0.9440173454345944"
      ]
     },
     "execution_count": 805,
     "metadata": {},
     "output_type": "execute_result"
    }
   ],
   "source": [
    "# Make predictions and find accuracy on the test data\n",
    "X = df_test.drop('Corona', axis=1)\n",
    "y = df_test['Corona']\n",
    "model_scm_class = SVC()\n",
    "model_scm_class.fit(X_train,y_train)\n",
    "pred_y = model_scm_class.predict(X)\n",
    "accuracy_score(y,pred_y)"
   ]
  },
  {
   "cell_type": "code",
   "execution_count": 807,
   "id": "ec36ed03",
   "metadata": {},
   "outputs": [],
   "source": [
    "svm_gs = SVC()"
   ]
  },
  {
   "cell_type": "code",
   "execution_count": 808,
   "id": "be57ab0b",
   "metadata": {},
   "outputs": [],
   "source": [
    "?SVC"
   ]
  },
  {
   "cell_type": "markdown",
   "id": "7aa2914e",
   "metadata": {},
   "source": [
    "### Hyper parameter Tuning"
   ]
  },
  {
   "cell_type": "code",
   "execution_count": 809,
   "id": "925c678e",
   "metadata": {},
   "outputs": [
    {
     "name": "stdout",
     "output_type": "stream",
     "text": [
      "94.46\n"
     ]
    }
   ],
   "source": [
    "#Hyperparameter tuning\n",
    "S=SVC(C=1, kernel='rbf', random_state= 42)\n",
    "S.fit(X_train,y_train)\n",
    "y_pred=S.predict(X_test)\n",
    "SVMaccuracy= round(accuracy_score(y_pred,y_test)*100,2)\n",
    "print(SVMaccuracy)"
   ]
  },
  {
   "cell_type": "markdown",
   "id": "7ca1cf17",
   "metadata": {},
   "source": [
    "# Cross validation "
   ]
  },
  {
   "cell_type": "code",
   "execution_count": 810,
   "id": "f2619109",
   "metadata": {},
   "outputs": [],
   "source": [
    "from sklearn.neighbors import KNeighborsClassifier\n",
    "from sklearn.model_selection import KFold, cross_val_score"
   ]
  },
  {
   "cell_type": "code",
   "execution_count": 811,
   "id": "4f8bdb83",
   "metadata": {},
   "outputs": [],
   "source": [
    "?KNeighborsClassifier"
   ]
  },
  {
   "cell_type": "code",
   "execution_count": 812,
   "id": "61dd7bb8",
   "metadata": {},
   "outputs": [
    {
     "data": {
      "text/plain": [
       "0.8831290736260394"
      ]
     },
     "execution_count": 812,
     "metadata": {},
     "output_type": "execute_result"
    }
   ],
   "source": [
    "Knn = KNeighborsClassifier(n_neighbors = 5, metric= 'euclidean')\n",
    "Kfold = KFold(n_splits =5)\n",
    "cv_result = cross_val_score(Knn, X,y,cv = 2)\n",
    "cv_result\n",
    "cv_result.mean()\n",
    "cv_result.min()\n",
    "cv_result.max()"
   ]
  },
  {
   "cell_type": "markdown",
   "id": "5214aa33",
   "metadata": {},
   "source": [
    "# **Model Comparison**"
   ]
  },
  {
   "cell_type": "markdown",
   "id": "37025d78",
   "metadata": {},
   "source": [
    "### Before crossvalidation and hyperparameter tuning"
   ]
  },
  {
   "cell_type": "code",
   "execution_count": 813,
   "id": "e73c370b",
   "metadata": {},
   "outputs": [],
   "source": [
    "new_df=pd.DataFrame({\"Models\":[\"log\",\"decisiontree\",\"randomforest\",\"xgboostclassifier\",'SVM'],\"accuracies\":[ 93.14, 94.46,94.46,94.46,94.46]})"
   ]
  },
  {
   "cell_type": "code",
   "execution_count": 814,
   "id": "27471726",
   "metadata": {},
   "outputs": [
    {
     "data": {
      "text/html": [
       "<div>\n",
       "<style scoped>\n",
       "    .dataframe tbody tr th:only-of-type {\n",
       "        vertical-align: middle;\n",
       "    }\n",
       "\n",
       "    .dataframe tbody tr th {\n",
       "        vertical-align: top;\n",
       "    }\n",
       "\n",
       "    .dataframe thead th {\n",
       "        text-align: right;\n",
       "    }\n",
       "</style>\n",
       "<table border=\"1\" class=\"dataframe\">\n",
       "  <thead>\n",
       "    <tr style=\"text-align: right;\">\n",
       "      <th></th>\n",
       "      <th>Models</th>\n",
       "      <th>accuracies</th>\n",
       "    </tr>\n",
       "  </thead>\n",
       "  <tbody>\n",
       "    <tr>\n",
       "      <th>0</th>\n",
       "      <td>log</td>\n",
       "      <td>93.14</td>\n",
       "    </tr>\n",
       "    <tr>\n",
       "      <th>1</th>\n",
       "      <td>decisiontree</td>\n",
       "      <td>94.46</td>\n",
       "    </tr>\n",
       "    <tr>\n",
       "      <th>2</th>\n",
       "      <td>randomforest</td>\n",
       "      <td>94.46</td>\n",
       "    </tr>\n",
       "    <tr>\n",
       "      <th>3</th>\n",
       "      <td>xgboostclassifier</td>\n",
       "      <td>94.46</td>\n",
       "    </tr>\n",
       "    <tr>\n",
       "      <th>4</th>\n",
       "      <td>SVM</td>\n",
       "      <td>94.46</td>\n",
       "    </tr>\n",
       "  </tbody>\n",
       "</table>\n",
       "</div>"
      ],
      "text/plain": [
       "              Models  accuracies\n",
       "0                log       93.14\n",
       "1       decisiontree       94.46\n",
       "2       randomforest       94.46\n",
       "3  xgboostclassifier       94.46\n",
       "4                SVM       94.46"
      ]
     },
     "execution_count": 814,
     "metadata": {},
     "output_type": "execute_result"
    }
   ],
   "source": [
    "new_df"
   ]
  },
  {
   "cell_type": "code",
   "execution_count": 815,
   "id": "3704ff99",
   "metadata": {},
   "outputs": [
    {
     "data": {
      "text/plain": [
       "<Axes: xlabel='Models', ylabel='accuracies'>"
      ]
     },
     "execution_count": 815,
     "metadata": {},
     "output_type": "execute_result"
    },
    {
     "data": {
      "image/png": "[encoded data removed]",
      "text/plain": [
       "<Figure size 640x480 with 1 Axes>"
      ]
     },
     "metadata": {},
     "output_type": "display_data"
    }
   ],
   "source": [
    "sns.barplot(new_df,x=\"Models\",y=\"accuracies\") # before crossvalidation and hyperparameter tuning"
   ]
  },
  {
   "cell_type": "markdown",
   "id": "dd33badb",
   "metadata": {},
   "source": [
    "### After crossvalidation and hyperparameter tuning"
   ]
  },
  {
   "cell_type": "code",
   "execution_count": 816,
   "id": "da5731ed",
   "metadata": {},
   "outputs": [
    {
     "data": {
      "application/vnd.plotly.v1+json": {
       "config": {
        "linkText": "Export to plot.ly",
        "plotlyServerURL": "https://plot.ly",
        "showLink": false
       },
       "data": [
        {
         "marker": {
          "color": "lightblue",
          "line": {
           "color": "black",
           "width": 1.5
          }
         },
         "text": [
          "93.19%",
          "94.4017%",
          "94.4017%",
          "94.4017%",
          "94.46%"
         ],
         "type": "bar",
         "x": [
          "Logistic Regression",
          "Decision Tree",
          "Random Forest",
          "xgboost",
          "SVM "
         ],
         "y": [
          93.19,
          94.4017,
          94.4017,
          94.4017,
          94.46
         ]
        }
       ],
       "layout": {
        "template": {
         "data": {
          "bar": [
           {
            "error_x": {
             "color": "#2a3f5f"
            },
            "error_y": {
             "color": "#2a3f5f"
            },
            "marker": {
             "line": {
              "color": "#E5ECF6",
              "width": 0.5
             },
             "pattern": {
              "fillmode": "overlay",
              "size": 10,
              "solidity": 0.2
             }
            },
            "type": "bar"
           }
          ],
          "barpolar": [
           {
            "marker": {
             "line": {
              "color": "#E5ECF6",
              "width": 0.5
             },
             "pattern": {
              "fillmode": "overlay",
              "size": 10,
              "solidity": 0.2
             }
            },
            "type": "barpolar"
           }
          ],
          "carpet": [
           {
            "aaxis": {
             "endlinecolor": "#2a3f5f",
             "gridcolor": "white",
             "linecolor": "white",
             "minorgridcolor": "white",
             "startlinecolor": "#2a3f5f"
            },
            "baxis": {
             "endlinecolor": "#2a3f5f",
             "gridcolor": "white",
             "linecolor": "white",
             "minorgridcolor": "white",
             "startlinecolor": "#2a3f5f"
            },
            "type": "carpet"
           }
          ],
          "choropleth": [
           {
            "colorbar": {
             "outlinewidth": 0,
             "ticks": ""
            },
            "type": "choropleth"
           }
          ],
          "contour": [
           {
            "colorbar": {
             "outlinewidth": 0,
             "ticks": ""
            },
            "colorscale": [
             [
              0,
              "#0d0887"
             ],
             [
              0.1111111111111111,
              "#46039f"
             ],
             [
              0.2222222222222222,
              "#7201a8"
             ],
             [
              0.3333333333333333,
              "#9c179e"
             ],
             [
              0.4444444444444444,
              "#bd3786"
             ],
             [
              0.5555555555555556,
              "#d8576b"
             ],
             [
              0.6666666666666666,
              "#ed7953"
             ],
             [
              0.7777777777777778,
              "#fb9f3a"
             ],
             [
              0.8888888888888888,
              "#fdca26"
             ],
             [
              1,
              "#f0f921"
             ]
            ],
            "type": "contour"
           }
          ],
          "contourcarpet": [
           {
            "colorbar": {
             "outlinewidth": 0,
             "ticks": ""
            },
            "type": "contourcarpet"
           }
          ],
          "heatmap": [
           {
            "colorbar": {
             "outlinewidth": 0,
             "ticks": ""
            },
            "colorscale": [
             [
              0,
              "#0d0887"
             ],
             [
              0.1111111111111111,
              "#46039f"
             ],
             [
              0.2222222222222222,
              "#7201a8"
             ],
             [
              0.3333333333333333,
              "#9c179e"
             ],
             [
              0.4444444444444444,
              "#bd3786"
             ],
             [
              0.5555555555555556,
              "#d8576b"
             ],
             [
              0.6666666666666666,
              "#ed7953"
             ],
             [
              0.7777777777777778,
              "#fb9f3a"
             ],
             [
              0.8888888888888888,
              "#fdca26"
             ],
             [
              1,
              "#f0f921"
             ]
            ],
            "type": "heatmap"
           }
          ],
          "heatmapgl": [
           {
            "colorbar": {
             "outlinewidth": 0,
             "ticks": ""
            },
            "colorscale": [
             [
              0,
              "#0d0887"
             ],
             [
              0.1111111111111111,
              "#46039f"
             ],
             [
              0.2222222222222222,
              "#7201a8"
             ],
             [
              0.3333333333333333,
              "#9c179e"
             ],
             [
              0.4444444444444444,
              "#bd3786"
             ],
             [
              0.5555555555555556,
              "#d8576b"
             ],
             [
              0.6666666666666666,
              "#ed7953"
             ],
             [
              0.7777777777777778,
              "#fb9f3a"
             ],
             [
              0.8888888888888888,
              "#fdca26"
             ],
             [
              1,
              "#f0f921"
             ]
            ],
            "type": "heatmapgl"
           }
          ],
          "histogram": [
           {
            "marker": {
             "pattern": {
              "fillmode": "overlay",
              "size": 10,
              "solidity": 0.2
             }
            },
            "type": "histogram"
           }
          ],
          "histogram2d": [
           {
            "colorbar": {
             "outlinewidth": 0,
             "ticks": ""
            },
            "colorscale": [
             [
              0,
              "#0d0887"
             ],
             [
              0.1111111111111111,
              "#46039f"
             ],
             [
              0.2222222222222222,
              "#7201a8"
             ],
             [
              0.3333333333333333,
              "#9c179e"
             ],
             [
              0.4444444444444444,
              "#bd3786"
             ],
             [
              0.5555555555555556,
              "#d8576b"
             ],
             [
              0.6666666666666666,
              "#ed7953"
             ],
             [
              0.7777777777777778,
              "#fb9f3a"
             ],
             [
              0.8888888888888888,
              "#fdca26"
             ],
             [
              1,
              "#f0f921"
             ]
            ],
            "type": "histogram2d"
           }
          ],
          "histogram2dcontour": [
           {
            "colorbar": {
             "outlinewidth": 0,
             "ticks": ""
            },
            "colorscale": [
             [
              0,
              "#0d0887"
             ],
             [
              0.1111111111111111,
              "#46039f"
             ],
             [
              0.2222222222222222,
              "#7201a8"
             ],
             [
              0.3333333333333333,
              "#9c179e"
             ],
             [
              0.4444444444444444,
              "#bd3786"
             ],
             [
              0.5555555555555556,
              "#d8576b"
             ],
             [
              0.6666666666666666,
              "#ed7953"
             ],
             [
              0.7777777777777778,
              "#fb9f3a"
             ],
             [
              0.8888888888888888,
              "#fdca26"
             ],
             [
              1,
              "#f0f921"
             ]
            ],
            "type": "histogram2dcontour"
           }
          ],
          "mesh3d": [
           {
            "colorbar": {
             "outlinewidth": 0,
             "ticks": ""
            },
            "type": "mesh3d"
           }
          ],
          "parcoords": [
           {
            "line": {
             "colorbar": {
              "outlinewidth": 0,
              "ticks": ""
             }
            },
            "type": "parcoords"
           }
          ],
          "pie": [
           {
            "automargin": true,
            "type": "pie"
           }
          ],
          "scatter": [
           {
            "fillpattern": {
             "fillmode": "overlay",
             "size": 10,
             "solidity": 0.2
            },
            "type": "scatter"
           }
          ],
          "scatter3d": [
           {
            "line": {
             "colorbar": {
              "outlinewidth": 0,
              "ticks": ""
             }
            },
            "marker": {
             "colorbar": {
              "outlinewidth": 0,
              "ticks": ""
             }
            },
            "type": "scatter3d"
           }
          ],
          "scattercarpet": [
           {
            "marker": {
             "colorbar": {
              "outlinewidth": 0,
              "ticks": ""
             }
            },
            "type": "scattercarpet"
           }
          ],
          "scattergeo": [
           {
            "marker": {
             "colorbar": {
              "outlinewidth": 0,
              "ticks": ""
             }
            },
            "type": "scattergeo"
           }
          ],
          "scattergl": [
           {
            "marker": {
             "colorbar": {
              "outlinewidth": 0,
              "ticks": ""
             }
            },
            "type": "scattergl"
           }
          ],
          "scattermapbox": [
           {
            "marker": {
             "colorbar": {
              "outlinewidth": 0,
              "ticks": ""
             }
            },
            "type": "scattermapbox"
           }
          ],
          "scatterpolar": [
           {
            "marker": {
             "colorbar": {
              "outlinewidth": 0,
              "ticks": ""
             }
            },
            "type": "scatterpolar"
           }
          ],
          "scatterpolargl": [
           {
            "marker": {
             "colorbar": {
              "outlinewidth": 0,
              "ticks": ""
             }
            },
            "type": "scatterpolargl"
           }
          ],
          "scatterternary": [
           {
            "marker": {
             "colorbar": {
              "outlinewidth": 0,
              "ticks": ""
             }
            },
            "type": "scatterternary"
           }
          ],
          "surface": [
           {
            "colorbar": {
             "outlinewidth": 0,
             "ticks": ""
            },
            "colorscale": [
             [
              0,
              "#0d0887"
             ],
             [
              0.1111111111111111,
              "#46039f"
             ],
             [
              0.2222222222222222,
              "#7201a8"
             ],
             [
              0.3333333333333333,
              "#9c179e"
             ],
             [
              0.4444444444444444,
              "#bd3786"
             ],
             [
              0.5555555555555556,
              "#d8576b"
             ],
             [
              0.6666666666666666,
              "#ed7953"
             ],
             [
              0.7777777777777778,
              "#fb9f3a"
             ],
             [
              0.8888888888888888,
              "#fdca26"
             ],
             [
              1,
              "#f0f921"
             ]
            ],
            "type": "surface"
           }
          ],
          "table": [
           {
            "cells": {
             "fill": {
              "color": "#EBF0F8"
             },
             "line": {
              "color": "white"
             }
            },
            "header": {
             "fill": {
              "color": "#C8D4E3"
             },
             "line": {
              "color": "white"
             }
            },
            "type": "table"
           }
          ]
         },
         "layout": {
          "annotationdefaults": {
           "arrowcolor": "#2a3f5f",
           "arrowhead": 0,
           "arrowwidth": 1
          },
          "autotypenumbers": "strict",
          "coloraxis": {
           "colorbar": {
            "outlinewidth": 0,
            "ticks": ""
           }
          },
          "colorscale": {
           "diverging": [
            [
             0,
             "#8e0152"
            ],
            [
             0.1,
             "#c51b7d"
            ],
            [
             0.2,
             "#de77ae"
            ],
            [
             0.3,
             "#f1b6da"
            ],
            [
             0.4,
             "#fde0ef"
            ],
            [
             0.5,
             "#f7f7f7"
            ],
            [
             0.6,
             "#e6f5d0"
            ],
            [
             0.7,
             "#b8e186"
            ],
            [
             0.8,
             "#7fbc41"
            ],
            [
             0.9,
             "#4d9221"
            ],
            [
             1,
             "#276419"
            ]
           ],
           "sequential": [
            [
             0,
             "#0d0887"
            ],
            [
             0.1111111111111111,
             "#46039f"
            ],
            [
             0.2222222222222222,
             "#7201a8"
            ],
            [
             0.3333333333333333,
             "#9c179e"
            ],
            [
             0.4444444444444444,
             "#bd3786"
            ],
            [
             0.5555555555555556,
             "#d8576b"
            ],
            [
             0.6666666666666666,
             "#ed7953"
            ],
            [
             0.7777777777777778,
             "#fb9f3a"
            ],
            [
             0.8888888888888888,
             "#fdca26"
            ],
            [
             1,
             "#f0f921"
            ]
           ],
           "sequentialminus": [
            [
             0,
             "#0d0887"
            ],
            [
             0.1111111111111111,
             "#46039f"
            ],
            [
             0.2222222222222222,
             "#7201a8"
            ],
            [
             0.3333333333333333,
             "#9c179e"
            ],
            [
             0.4444444444444444,
             "#bd3786"
            ],
            [
             0.5555555555555556,
             "#d8576b"
            ],
            [
             0.6666666666666666,
             "#ed7953"
            ],
            [
             0.7777777777777778,
             "#fb9f3a"
            ],
            [
             0.8888888888888888,
             "#fdca26"
            ],
            [
             1,
             "#f0f921"
            ]
           ]
          },
          "colorway": [
           "#636efa",
           "#EF553B",
           "#00cc96",
           "#ab63fa",
           "#FFA15A",
           "#19d3f3",
           "#FF6692",
           "#B6E880",
           "#FF97FF",
           "#FECB52"
          ],
          "font": {
           "color": "#2a3f5f"
          },
          "geo": {
           "bgcolor": "white",
           "lakecolor": "white",
           "landcolor": "#E5ECF6",
           "showlakes": true,
           "showland": true,
           "subunitcolor": "white"
          },
          "hoverlabel": {
           "align": "left"
          },
          "hovermode": "closest",
          "mapbox": {
           "style": "light"
          },
          "paper_bgcolor": "white",
          "plot_bgcolor": "#E5ECF6",
          "polar": {
           "angularaxis": {
            "gridcolor": "white",
            "linecolor": "white",
            "ticks": ""
           },
           "bgcolor": "#E5ECF6",
           "radialaxis": {
            "gridcolor": "white",
            "linecolor": "white",
            "ticks": ""
           }
          },
          "scene": {
           "xaxis": {
            "backgroundcolor": "#E5ECF6",
            "gridcolor": "white",
            "gridwidth": 2,
            "linecolor": "white",
            "showbackground": true,
            "ticks": "",
            "zerolinecolor": "white"
           },
           "yaxis": {
            "backgroundcolor": "#E5ECF6",
            "gridcolor": "white",
            "gridwidth": 2,
            "linecolor": "white",
            "showbackground": true,
            "ticks": "",
            "zerolinecolor": "white"
           },
           "zaxis": {
            "backgroundcolor": "#E5ECF6",
            "gridcolor": "white",
            "gridwidth": 2,
            "linecolor": "white",
            "showbackground": true,
            "ticks": "",
            "zerolinecolor": "white"
           }
          },
          "shapedefaults": {
           "line": {
            "color": "#2a3f5f"
           }
          },
          "ternary": {
           "aaxis": {
            "gridcolor": "white",
            "linecolor": "white",
            "ticks": ""
           },
           "baxis": {
            "gridcolor": "white",
            "linecolor": "white",
            "ticks": ""
           },
           "bgcolor": "#E5ECF6",
           "caxis": {
            "gridcolor": "white",
            "linecolor": "white",
            "ticks": ""
           }
          },
          "title": {
           "x": 0.05
          },
          "xaxis": {
           "automargin": true,
           "gridcolor": "white",
           "linecolor": "white",
           "ticks": "",
           "title": {
            "standoff": 15
           },
           "zerolinecolor": "white",
           "zerolinewidth": 2
          },
          "yaxis": {
           "automargin": true,
           "gridcolor": "white",
           "linecolor": "white",
           "ticks": "",
           "title": {
            "standoff": 15
           },
           "zerolinecolor": "white",
           "zerolinewidth": 2
          }
         }
        },
        "title": {
         "text": "Comparison of Model Performance Metrics"
        },
        "xaxis": {
         "title": {
          "text": "Models"
         }
        },
        "yaxis": {
         "title": {
          "text": "Scores"
         }
        }
       }
      },
      "text/html": [
       "<div>                            <div id=\"c6cfb3a4-d744-431f-b2ac-aa0f256cc7e8\" class=\"plotly-graph-div\" style=\"height:525px; width:100%;\"></div>            <script type=\"text/javascript\">                require([\"plotly\"], function(Plotly) {                    window.PLOTLYENV=window.PLOTLYENV || {};                                    if (document.getElementById(\"c6cfb3a4-d744-431f-b2ac-aa0f256cc7e8\")) {                    Plotly.newPlot(                        \"c6cfb3a4-d744-431f-b2ac-aa0f256cc7e8\",                        [{\"marker\":{\"color\":\"lightblue\",\"line\":{\"color\":\"black\",\"width\":1.5}},\"text\":[\"93.19%\",\"94.4017%\",\"94.4017%\",\"94.4017%\",\"94.46%\"],\"x\":[\"Logistic Regression\",\"Decision Tree\",\"Random Forest\",\"xgboost\",\"SVM \"],\"y\":[93.19,94.4017,94.4017,94.4017,94.46],\"type\":\"bar\"}],                        {\"template\":{\"data\":{\"barpolar\":[{\"marker\":{\"line\":{\"color\":\"#E5ECF6\",\"width\":0.5},\"pattern\":{\"fillmode\":\"overlay\",\"size\":10,\"solidity\":0.2}},\"type\":\"barpolar\"}],\"bar\":[{\"error_x\":{\"color\":\"#2a3f5f\"},\"error_y\":{\"color\":\"#2a3f5f\"},\"marker\":{\"line\":{\"color\":\"#E5ECF6\",\"width\":0.5},\"pattern\":{\"fillmode\":\"overlay\",\"size\":10,\"solidity\":0.2}},\"type\":\"bar\"}],\"carpet\":[{\"aaxis\":{\"endlinecolor\":\"#2a3f5f\",\"gridcolor\":\"white\",\"linecolor\":\"white\",\"minorgridcolor\":\"white\",\"startlinecolor\":\"#2a3f5f\"},\"baxis\":{\"endlinecolor\":\"#2a3f5f\",\"gridcolor\":\"white\",\"linecolor\":\"white\",\"minorgridcolor\":\"white\",\"startlinecolor\":\"#2a3f5f\"},\"type\":\"carpet\"}],\"choropleth\":[{\"colorbar\":{\"outlinewidth\":0,\"ticks\":\"\"},\"type\":\"choropleth\"}],\"contourcarpet\":[{\"colorbar\":{\"outlinewidth\":0,\"ticks\":\"\"},\"type\":\"contourcarpet\"}],\"contour\":[{\"colorbar\":{\"outlinewidth\":0,\"ticks\":\"\"},\"colorscale\":[[0.0,\"#0d0887\"],[0.1111111111111111,\"#46039f\"],[0.2222222222222222,\"#7201a8\"],[0.3333333333333333,\"#9c179e\"],[0.4444444444444444,\"#bd3786\"],[0.5555555555555556,\"#d8576b\"],[0.6666666666666666,\"#ed7953\"],[0.7777777777777778,\"#fb9f3a\"],[0.8888888888888888,\"#fdca26\"],[1.0,\"#f0f921\"]],\"type\":\"contour\"}],\"heatmapgl\":[{\"colorbar\":{\"outlinewidth\":0,\"ticks\":\"\"},\"colorscale\":[[0.0,\"#0d0887\"],[0.1111111111111111,\"#46039f\"],[0.2222222222222222,\"#7201a8\"],[0.3333333333333333,\"#9c179e\"],[0.4444444444444444,\"#bd3786\"],[0.5555555555555556,\"#d8576b\"],[0.6666666666666666,\"#ed7953\"],[0.7777777777777778,\"#fb9f3a\"],[0.8888888888888888,\"#fdca26\"],[1.0,\"#f0f921\"]],\"type\":\"heatmapgl\"}],\"heatmap\":[{\"colorbar\":{\"outlinewidth\":0,\"ticks\":\"\"},\"colorscale\":[[0.0,\"#0d0887\"],[0.1111111111111111,\"#46039f\"],[0.2222222222222222,\"#7201a8\"],[0.3333333333333333,\"#9c179e\"],[0.4444444444444444,\"#bd3786\"],[0.5555555555555556,\"#d8576b\"],[0.6666666666666666,\"#ed7953\"],[0.7777777777777778,\"#fb9f3a\"],[0.8888888888888888,\"#fdca26\"],[1.0,\"#f0f921\"]],\"type\":\"heatmap\"}],\"histogram2dcontour\":[{\"colorbar\":{\"outlinewidth\":0,\"ticks\":\"\"},\"colorscale\":[[0.0,\"#0d0887\"],[0.1111111111111111,\"#46039f\"],[0.2222222222222222,\"#7201a8\"],[0.3333333333333333,\"#9c179e\"],[0.4444444444444444,\"#bd3786\"],[0.5555555555555556,\"#d8576b\"],[0.6666666666666666,\"#ed7953\"],[0.7777777777777778,\"#fb9f3a\"],[0.8888888888888888,\"#fdca26\"],[1.0,\"#f0f921\"]],\"type\":\"histogram2dcontour\"}],\"histogram2d\":[{\"colorbar\":{\"outlinewidth\":0,\"ticks\":\"\"},\"colorscale\":[[0.0,\"#0d0887\"],[0.1111111111111111,\"#46039f\"],[0.2222222222222222,\"#7201a8\"],[0.3333333333333333,\"#9c179e\"],[0.4444444444444444,\"#bd3786\"],[0.5555555555555556,\"#d8576b\"],[0.6666666666666666,\"#ed7953\"],[0.7777777777777778,\"#fb9f3a\"],[0.8888888888888888,\"#fdca26\"],[1.0,\"#f0f921\"]],\"type\":\"histogram2d\"}],\"histogram\":[{\"marker\":{\"pattern\":{\"fillmode\":\"overlay\",\"size\":10,\"solidity\":0.2}},\"type\":\"histogram\"}],\"mesh3d\":[{\"colorbar\":{\"outlinewidth\":0,\"ticks\":\"\"},\"type\":\"mesh3d\"}],\"parcoords\":[{\"line\":{\"colorbar\":{\"outlinewidth\":0,\"ticks\":\"\"}},\"type\":\"parcoords\"}],\"pie\":[{\"automargin\":true,\"type\":\"pie\"}],\"scatter3d\":[{\"line\":{\"colorbar\":{\"outlinewidth\":0,\"ticks\":\"\"}},\"marker\":{\"colorbar\":{\"outlinewidth\":0,\"ticks\":\"\"}},\"type\":\"scatter3d\"}],\"scattercarpet\":[{\"marker\":{\"colorbar\":{\"outlinewidth\":0,\"ticks\":\"\"}},\"type\":\"scattercarpet\"}],\"scattergeo\":[{\"marker\":{\"colorbar\":{\"outlinewidth\":0,\"ticks\":\"\"}},\"type\":\"scattergeo\"}],\"scattergl\":[{\"marker\":{\"colorbar\":{\"outlinewidth\":0,\"ticks\":\"\"}},\"type\":\"scattergl\"}],\"scattermapbox\":[{\"marker\":{\"colorbar\":{\"outlinewidth\":0,\"ticks\":\"\"}},\"type\":\"scattermapbox\"}],\"scatterpolargl\":[{\"marker\":{\"colorbar\":{\"outlinewidth\":0,\"ticks\":\"\"}},\"type\":\"scatterpolargl\"}],\"scatterpolar\":[{\"marker\":{\"colorbar\":{\"outlinewidth\":0,\"ticks\":\"\"}},\"type\":\"scatterpolar\"}],\"scatter\":[{\"fillpattern\":{\"fillmode\":\"overlay\",\"size\":10,\"solidity\":0.2},\"type\":\"scatter\"}],\"scatterternary\":[{\"marker\":{\"colorbar\":{\"outlinewidth\":0,\"ticks\":\"\"}},\"type\":\"scatterternary\"}],\"surface\":[{\"colorbar\":{\"outlinewidth\":0,\"ticks\":\"\"},\"colorscale\":[[0.0,\"#0d0887\"],[0.1111111111111111,\"#46039f\"],[0.2222222222222222,\"#7201a8\"],[0.3333333333333333,\"#9c179e\"],[0.4444444444444444,\"#bd3786\"],[0.5555555555555556,\"#d8576b\"],[0.6666666666666666,\"#ed7953\"],[0.7777777777777778,\"#fb9f3a\"],[0.8888888888888888,\"#fdca26\"],[1.0,\"#f0f921\"]],\"type\":\"surface\"}],\"table\":[{\"cells\":{\"fill\":{\"color\":\"#EBF0F8\"},\"line\":{\"color\":\"white\"}},\"header\":{\"fill\":{\"color\":\"#C8D4E3\"},\"line\":{\"color\":\"white\"}},\"type\":\"table\"}]},\"layout\":{\"annotationdefaults\":{\"arrowcolor\":\"#2a3f5f\",\"arrowhead\":0,\"arrowwidth\":1},\"autotypenumbers\":\"strict\",\"coloraxis\":{\"colorbar\":{\"outlinewidth\":0,\"ticks\":\"\"}},\"colorscale\":{\"diverging\":[[0,\"#8e0152\"],[0.1,\"#c51b7d\"],[0.2,\"#de77ae\"],[0.3,\"#f1b6da\"],[0.4,\"#fde0ef\"],[0.5,\"#f7f7f7\"],[0.6,\"#e6f5d0\"],[0.7,\"#b8e186\"],[0.8,\"#7fbc41\"],[0.9,\"#4d9221\"],[1,\"#276419\"]],\"sequential\":[[0.0,\"#0d0887\"],[0.1111111111111111,\"#46039f\"],[0.2222222222222222,\"#7201a8\"],[0.3333333333333333,\"#9c179e\"],[0.4444444444444444,\"#bd3786\"],[0.5555555555555556,\"#d8576b\"],[0.6666666666666666,\"#ed7953\"],[0.7777777777777778,\"#fb9f3a\"],[0.8888888888888888,\"#fdca26\"],[1.0,\"#f0f921\"]],\"sequentialminus\":[[0.0,\"#0d0887\"],[0.1111111111111111,\"#46039f\"],[0.2222222222222222,\"#7201a8\"],[0.3333333333333333,\"#9c179e\"],[0.4444444444444444,\"#bd3786\"],[0.5555555555555556,\"#d8576b\"],[0.6666666666666666,\"#ed7953\"],[0.7777777777777778,\"#fb9f3a\"],[0.8888888888888888,\"#fdca26\"],[1.0,\"#f0f921\"]]},\"colorway\":[\"#636efa\",\"#EF553B\",\"#00cc96\",\"#ab63fa\",\"#FFA15A\",\"#19d3f3\",\"#FF6692\",\"#B6E880\",\"#FF97FF\",\"#FECB52\"],\"font\":{\"color\":\"#2a3f5f\"},\"geo\":{\"bgcolor\":\"white\",\"lakecolor\":\"white\",\"landcolor\":\"#E5ECF6\",\"showlakes\":true,\"showland\":true,\"subunitcolor\":\"white\"},\"hoverlabel\":{\"align\":\"left\"},\"hovermode\":\"closest\",\"mapbox\":{\"style\":\"light\"},\"paper_bgcolor\":\"white\",\"plot_bgcolor\":\"#E5ECF6\",\"polar\":{\"angularaxis\":{\"gridcolor\":\"white\",\"linecolor\":\"white\",\"ticks\":\"\"},\"bgcolor\":\"#E5ECF6\",\"radialaxis\":{\"gridcolor\":\"white\",\"linecolor\":\"white\",\"ticks\":\"\"}},\"scene\":{\"xaxis\":{\"backgroundcolor\":\"#E5ECF6\",\"gridcolor\":\"white\",\"gridwidth\":2,\"linecolor\":\"white\",\"showbackground\":true,\"ticks\":\"\",\"zerolinecolor\":\"white\"},\"yaxis\":{\"backgroundcolor\":\"#E5ECF6\",\"gridcolor\":\"white\",\"gridwidth\":2,\"linecolor\":\"white\",\"showbackground\":true,\"ticks\":\"\",\"zerolinecolor\":\"white\"},\"zaxis\":{\"backgroundcolor\":\"#E5ECF6\",\"gridcolor\":\"white\",\"gridwidth\":2,\"linecolor\":\"white\",\"showbackground\":true,\"ticks\":\"\",\"zerolinecolor\":\"white\"}},\"shapedefaults\":{\"line\":{\"color\":\"#2a3f5f\"}},\"ternary\":{\"aaxis\":{\"gridcolor\":\"white\",\"linecolor\":\"white\",\"ticks\":\"\"},\"baxis\":{\"gridcolor\":\"white\",\"linecolor\":\"white\",\"ticks\":\"\"},\"bgcolor\":\"#E5ECF6\",\"caxis\":{\"gridcolor\":\"white\",\"linecolor\":\"white\",\"ticks\":\"\"}},\"title\":{\"x\":0.05},\"xaxis\":{\"automargin\":true,\"gridcolor\":\"white\",\"linecolor\":\"white\",\"ticks\":\"\",\"title\":{\"standoff\":15},\"zerolinecolor\":\"white\",\"zerolinewidth\":2},\"yaxis\":{\"automargin\":true,\"gridcolor\":\"white\",\"linecolor\":\"white\",\"ticks\":\"\",\"title\":{\"standoff\":15},\"zerolinecolor\":\"white\",\"zerolinewidth\":2}}},\"title\":{\"text\":\"Comparison of Model Performance Metrics\"},\"xaxis\":{\"title\":{\"text\":\"Models\"}},\"yaxis\":{\"title\":{\"text\":\"Scores\"}}},                        {\"responsive\": true}                    ).then(function(){\n",
       "                            \n",
       "var gd = document.getElementById('c6cfb3a4-d744-431f-b2ac-aa0f256cc7e8');\n",
       "var x = new MutationObserver(function (mutations, observer) {{\n",
       "        var display = window.getComputedStyle(gd).display;\n",
       "        if (!display || display === 'none') {{\n",
       "            console.log([gd, 'removed!']);\n",
       "            Plotly.purge(gd);\n",
       "            observer.disconnect();\n",
       "        }}\n",
       "}});\n",
       "\n",
       "// Listen for the removal of the full notebook cells\n",
       "var notebookContainer = gd.closest('#notebook-container');\n",
       "if (notebookContainer) {{\n",
       "    x.observe(notebookContainer, {childList: true});\n",
       "}}\n",
       "\n",
       "// Listen for the clearing of the current output cell\n",
       "var outputEl = gd.closest('.output');\n",
       "if (outputEl) {{\n",
       "    x.observe(outputEl, {childList: true});\n",
       "}}\n",
       "\n",
       "                        })                };                });            </script>        </div>"
      ]
     },
     "metadata": {},
     "output_type": "display_data"
    },
    {
     "name": "stdout",
     "output_type": "stream",
     "text": [
      "            Model_Name Accuracy Score\n",
      "0                 SVM          94.46%\n",
      "1        Decision Tree       94.4017%\n",
      "2        Random Forest       94.4017%\n",
      "3              xgboost       94.4017%\n",
      "4  Logistic Regression         93.19%\n"
     ]
    }
   ],
   "source": [
    "import plotly.graph_objs as go\n",
    "import plotly.offline as pyo\n",
    "\n",
    "models = ['Logistic Regression', 'Decision Tree', 'Random Forest', 'xgboost','SVM ']\n",
    "accuracy_scores = [lrmodel_accuracy, dtmodel_accuracy, rfmodel_accuracy, xgmodel_accuracy, SVMaccuracy]\n",
    "\n",
    "trace = go.Bar(\n",
    "    x=models,\n",
    "    y=accuracy_scores,\n",
    "    text=[f'{score}%' for score in accuracy_scores],\n",
    "    marker=dict(color='lightblue', line=dict(color='black', width=1.5)),\n",
    ")\n",
    "\n",
    "data = [trace]\n",
    "\n",
    "layout = go.Layout(\n",
    "    title='Comparison of Model Performance Metrics',\n",
    "    xaxis=dict(title='Models'),\n",
    "    yaxis=dict(title='Scores'),\n",
    ")\n",
    "\n",
    "fig = go.Figure(data=data, layout=layout)\n",
    "\n",
    "\n",
    "pyo.iplot(fig)\n",
    "\n",
    "#Model comparison DataFrame\n",
    "accuracy_scores_with_percent = [f'{score}%' for score in accuracy_scores]\n",
    "model_comparison_df = pd.DataFrame({'Model_Name': models, 'Accuracy Score': accuracy_scores_with_percent})\n",
    "model_comparison_df = model_comparison_df.sort_values(by='Accuracy Score', ascending=False)\n",
    "model_comparison_df.reset_index(drop=True, inplace=True)\n",
    "print(model_comparison_df)"
   ]
  },
  {
   "cell_type": "markdown",
   "id": "63fdbf1b",
   "metadata": {},
   "source": [
    "## Conclusion:\n",
    "\n",
    "**Among all the models SVM and other regression models like Decision Tree, Random Forest and xgboost have shown good accuracy which shows our dataset will perform better adding more data would probably help in better prediction.**"
   ]
  },
  {
   "cell_type": "markdown",
   "id": "7bedd2f8",
   "metadata": {},
   "source": [
    "# Lets perform SQL Queries to get the Insights:"
   ]
  },
  {
   "cell_type": "code",
   "execution_count": 817,
   "id": "40ae4b6b",
   "metadata": {},
   "outputs": [
    {
     "name": "stdout",
     "output_type": "stream",
     "text": [
      "Requirement already satisfied: mysql-connector-python in c:\\users\\admin\\anaconda3\\lib\\site-packages (8.2.0)\n",
      "Requirement already satisfied: protobuf<=4.21.12,>=4.21.1 in c:\\users\\admin\\anaconda3\\lib\\site-packages (from mysql-connector-python) (4.21.12)\n",
      "Note: you may need to restart the kernel to use updated packages.\n"
     ]
    }
   ],
   "source": [
    "pip install mysql-connector-python"
   ]
  },
  {
   "cell_type": "code",
   "execution_count": 818,
   "id": "0762f6df",
   "metadata": {},
   "outputs": [],
   "source": [
    "# import Libraries\n",
    " \n",
    "import mysql.connector\n",
    "from mysql.connector import Error\n",
    "import pandas as pd"
   ]
  },
  {
   "cell_type": "code",
   "execution_count": 819,
   "id": "7b73eae0",
   "metadata": {},
   "outputs": [
    {
     "name": "stdout",
     "output_type": "stream",
     "text": [
      "Requirement already satisfied: duckdb in c:\\users\\admin\\anaconda3\\lib\\site-packages (0.9.2)\n",
      "Note: you may need to restart the kernel to use updated packages.\n"
     ]
    }
   ],
   "source": [
    "pip install duckdb"
   ]
  },
  {
   "cell_type": "code",
   "execution_count": 820,
   "id": "76767ab2",
   "metadata": {},
   "outputs": [
    {
     "data": {
      "text/plain": [
       "<duckdb.duckdb.DuckDBPyConnection at 0x25863a69bf0>"
      ]
     },
     "execution_count": 820,
     "metadata": {},
     "output_type": "execute_result"
    }
   ],
   "source": [
    "conn.register(\"covid\",covid)"
   ]
  },
  {
   "cell_type": "code",
   "execution_count": 821,
   "id": "2843eeab",
   "metadata": {},
   "outputs": [
    {
     "data": {
      "text/html": [
       "<div>\n",
       "<style scoped>\n",
       "    .dataframe tbody tr th:only-of-type {\n",
       "        vertical-align: middle;\n",
       "    }\n",
       "\n",
       "    .dataframe tbody tr th {\n",
       "        vertical-align: top;\n",
       "    }\n",
       "\n",
       "    .dataframe thead th {\n",
       "        text-align: right;\n",
       "    }\n",
       "</style>\n",
       "<table border=\"1\" class=\"dataframe\">\n",
       "  <thead>\n",
       "    <tr style=\"text-align: right;\">\n",
       "      <th></th>\n",
       "      <th>Ind_ID</th>\n",
       "      <th>Test_date</th>\n",
       "      <th>Cough_symptoms</th>\n",
       "      <th>Fever</th>\n",
       "      <th>Sore_throat</th>\n",
       "      <th>Shortness_of_breath</th>\n",
       "      <th>Headache</th>\n",
       "      <th>Corona</th>\n",
       "      <th>Age_60_above</th>\n",
       "      <th>Sex</th>\n",
       "      <th>Known_contact</th>\n",
       "    </tr>\n",
       "  </thead>\n",
       "  <tbody>\n",
       "    <tr>\n",
       "      <th>4512</th>\n",
       "      <td>4513</td>\n",
       "      <td>2020-03-17</td>\n",
       "      <td>FALSE</td>\n",
       "      <td>FALSE</td>\n",
       "      <td>FALSE</td>\n",
       "      <td>FALSE</td>\n",
       "      <td>FALSE</td>\n",
       "      <td>other</td>\n",
       "      <td>No</td>\n",
       "      <td>other</td>\n",
       "      <td>Other</td>\n",
       "    </tr>\n",
       "    <tr>\n",
       "      <th>4513</th>\n",
       "      <td>4514</td>\n",
       "      <td>2020-03-17</td>\n",
       "      <td>FALSE</td>\n",
       "      <td>FALSE</td>\n",
       "      <td>FALSE</td>\n",
       "      <td>TRUE</td>\n",
       "      <td>FALSE</td>\n",
       "      <td>negative</td>\n",
       "      <td>No</td>\n",
       "      <td>other</td>\n",
       "      <td>Abroad</td>\n",
       "    </tr>\n",
       "    <tr>\n",
       "      <th>4514</th>\n",
       "      <td>4515</td>\n",
       "      <td>2020-03-17</td>\n",
       "      <td>FALSE</td>\n",
       "      <td>FALSE</td>\n",
       "      <td>FALSE</td>\n",
       "      <td>FALSE</td>\n",
       "      <td>FALSE</td>\n",
       "      <td>other</td>\n",
       "      <td>Yes</td>\n",
       "      <td>other</td>\n",
       "      <td>Other</td>\n",
       "    </tr>\n",
       "    <tr>\n",
       "      <th>4515</th>\n",
       "      <td>4516</td>\n",
       "      <td>2020-03-17</td>\n",
       "      <td>FALSE</td>\n",
       "      <td>FALSE</td>\n",
       "      <td>FALSE</td>\n",
       "      <td>FALSE</td>\n",
       "      <td>FALSE</td>\n",
       "      <td>positive</td>\n",
       "      <td>No</td>\n",
       "      <td>other</td>\n",
       "      <td>Other</td>\n",
       "    </tr>\n",
       "    <tr>\n",
       "      <th>4516</th>\n",
       "      <td>4517</td>\n",
       "      <td>2020-03-17</td>\n",
       "      <td>FALSE</td>\n",
       "      <td>FALSE</td>\n",
       "      <td>FALSE</td>\n",
       "      <td>FALSE</td>\n",
       "      <td>FALSE</td>\n",
       "      <td>negative</td>\n",
       "      <td>No</td>\n",
       "      <td>other</td>\n",
       "      <td>Other</td>\n",
       "    </tr>\n",
       "    <tr>\n",
       "      <th>...</th>\n",
       "      <td>...</td>\n",
       "      <td>...</td>\n",
       "      <td>...</td>\n",
       "      <td>...</td>\n",
       "      <td>...</td>\n",
       "      <td>...</td>\n",
       "      <td>...</td>\n",
       "      <td>...</td>\n",
       "      <td>...</td>\n",
       "      <td>...</td>\n",
       "      <td>...</td>\n",
       "    </tr>\n",
       "    <tr>\n",
       "      <th>156035</th>\n",
       "      <td>156036</td>\n",
       "      <td>2020-04-14</td>\n",
       "      <td>TRUE</td>\n",
       "      <td>FALSE</td>\n",
       "      <td>TRUE</td>\n",
       "      <td>FALSE</td>\n",
       "      <td>FALSE</td>\n",
       "      <td>negative</td>\n",
       "      <td>Yes</td>\n",
       "      <td>male</td>\n",
       "      <td>Abroad</td>\n",
       "    </tr>\n",
       "    <tr>\n",
       "      <th>156036</th>\n",
       "      <td>156037</td>\n",
       "      <td>2020-04-14</td>\n",
       "      <td>TRUE</td>\n",
       "      <td>FALSE</td>\n",
       "      <td>TRUE</td>\n",
       "      <td>TRUE</td>\n",
       "      <td>FALSE</td>\n",
       "      <td>negative</td>\n",
       "      <td>No</td>\n",
       "      <td>male</td>\n",
       "      <td>Abroad</td>\n",
       "    </tr>\n",
       "    <tr>\n",
       "      <th>156037</th>\n",
       "      <td>156038</td>\n",
       "      <td>2020-04-14</td>\n",
       "      <td>TRUE</td>\n",
       "      <td>TRUE</td>\n",
       "      <td>FALSE</td>\n",
       "      <td>FALSE</td>\n",
       "      <td>FALSE</td>\n",
       "      <td>negative</td>\n",
       "      <td>No</td>\n",
       "      <td>female</td>\n",
       "      <td>Abroad</td>\n",
       "    </tr>\n",
       "    <tr>\n",
       "      <th>156038</th>\n",
       "      <td>156039</td>\n",
       "      <td>2020-04-14</td>\n",
       "      <td>FALSE</td>\n",
       "      <td>FALSE</td>\n",
       "      <td>FALSE</td>\n",
       "      <td>FALSE</td>\n",
       "      <td>FALSE</td>\n",
       "      <td>negative</td>\n",
       "      <td>No</td>\n",
       "      <td>male</td>\n",
       "      <td>Other</td>\n",
       "    </tr>\n",
       "    <tr>\n",
       "      <th>156039</th>\n",
       "      <td>156040</td>\n",
       "      <td>2020-04-14</td>\n",
       "      <td>FALSE</td>\n",
       "      <td>FALSE</td>\n",
       "      <td>FALSE</td>\n",
       "      <td>FALSE</td>\n",
       "      <td>FALSE</td>\n",
       "      <td>negative</td>\n",
       "      <td>No</td>\n",
       "      <td>female</td>\n",
       "      <td>Other</td>\n",
       "    </tr>\n",
       "  </tbody>\n",
       "</table>\n",
       "<p>151279 rows × 11 columns</p>\n",
       "</div>"
      ],
      "text/plain": [
       "        Ind_ID  Test_date Cough_symptoms  Fever Sore_throat  \\\n",
       "4512      4513 2020-03-17          FALSE  FALSE       FALSE   \n",
       "4513      4514 2020-03-17          FALSE  FALSE       FALSE   \n",
       "4514      4515 2020-03-17          FALSE  FALSE       FALSE   \n",
       "4515      4516 2020-03-17          FALSE  FALSE       FALSE   \n",
       "4516      4517 2020-03-17          FALSE  FALSE       FALSE   \n",
       "...        ...        ...            ...    ...         ...   \n",
       "156035  156036 2020-04-14           TRUE  FALSE        TRUE   \n",
       "156036  156037 2020-04-14           TRUE  FALSE        TRUE   \n",
       "156037  156038 2020-04-14           TRUE   TRUE       FALSE   \n",
       "156038  156039 2020-04-14          FALSE  FALSE       FALSE   \n",
       "156039  156040 2020-04-14          FALSE  FALSE       FALSE   \n",
       "\n",
       "       Shortness_of_breath Headache    Corona Age_60_above     Sex  \\\n",
       "4512                 FALSE    FALSE     other           No   other   \n",
       "4513                  TRUE    FALSE  negative           No   other   \n",
       "4514                 FALSE    FALSE     other          Yes   other   \n",
       "4515                 FALSE    FALSE  positive           No   other   \n",
       "4516                 FALSE    FALSE  negative           No   other   \n",
       "...                    ...      ...       ...          ...     ...   \n",
       "156035               FALSE    FALSE  negative          Yes    male   \n",
       "156036                TRUE    FALSE  negative           No    male   \n",
       "156037               FALSE    FALSE  negative           No  female   \n",
       "156038               FALSE    FALSE  negative           No    male   \n",
       "156039               FALSE    FALSE  negative           No  female   \n",
       "\n",
       "       Known_contact  \n",
       "4512           Other  \n",
       "4513          Abroad  \n",
       "4514           Other  \n",
       "4515           Other  \n",
       "4516           Other  \n",
       "...              ...  \n",
       "156035        Abroad  \n",
       "156036        Abroad  \n",
       "156037        Abroad  \n",
       "156038         Other  \n",
       "156039         Other  \n",
       "\n",
       "[151279 rows x 11 columns]"
      ]
     },
     "execution_count": 821,
     "metadata": {},
     "output_type": "execute_result"
    }
   ],
   "source": [
    "covid"
   ]
  },
  {
   "cell_type": "markdown",
   "id": "f68cd4eb",
   "metadata": {},
   "source": [
    "##### **1) Find the number of corona patients who faced shortness of breath.**"
   ]
  },
  {
   "cell_type": "code",
   "execution_count": 822,
   "id": "b30291d2",
   "metadata": {},
   "outputs": [
    {
     "data": {
      "text/html": [
       "<div>\n",
       "<style scoped>\n",
       "    .dataframe tbody tr th:only-of-type {\n",
       "        vertical-align: middle;\n",
       "    }\n",
       "\n",
       "    .dataframe tbody tr th {\n",
       "        vertical-align: top;\n",
       "    }\n",
       "\n",
       "    .dataframe thead th {\n",
       "        text-align: right;\n",
       "    }\n",
       "</style>\n",
       "<table border=\"1\" class=\"dataframe\">\n",
       "  <thead>\n",
       "    <tr style=\"text-align: right;\">\n",
       "      <th></th>\n",
       "      <th>covid_patient</th>\n",
       "    </tr>\n",
       "  </thead>\n",
       "  <tbody>\n",
       "    <tr>\n",
       "      <th>0</th>\n",
       "      <td>1129</td>\n",
       "    </tr>\n",
       "  </tbody>\n",
       "</table>\n",
       "</div>"
      ],
      "text/plain": [
       "   covid_patient\n",
       "0           1129"
      ]
     },
     "execution_count": 822,
     "metadata": {},
     "output_type": "execute_result"
    }
   ],
   "source": [
    "conn.execute(\"SELECT Count(*) as covid_patient FROM covid WHERE Corona = 'positive' AND Shortness_of_breath = 'TRUE'\").fetchdf()"
   ]
  },
  {
   "cell_type": "markdown",
   "id": "afb4e49b",
   "metadata": {},
   "source": [
    "##### **2) Find the number of negative corona patients who have fever and sore_throat.**\n"
   ]
  },
  {
   "cell_type": "code",
   "execution_count": 823,
   "id": "9e93e834",
   "metadata": {},
   "outputs": [
    {
     "data": {
      "text/html": [
       "<div>\n",
       "<style scoped>\n",
       "    .dataframe tbody tr th:only-of-type {\n",
       "        vertical-align: middle;\n",
       "    }\n",
       "\n",
       "    .dataframe tbody tr th {\n",
       "        vertical-align: top;\n",
       "    }\n",
       "\n",
       "    .dataframe thead th {\n",
       "        text-align: right;\n",
       "    }\n",
       "</style>\n",
       "<table border=\"1\" class=\"dataframe\">\n",
       "  <thead>\n",
       "    <tr style=\"text-align: right;\">\n",
       "      <th></th>\n",
       "      <th>covid_neg</th>\n",
       "    </tr>\n",
       "  </thead>\n",
       "  <tbody>\n",
       "    <tr>\n",
       "      <th>0</th>\n",
       "      <td>54</td>\n",
       "    </tr>\n",
       "  </tbody>\n",
       "</table>\n",
       "</div>"
      ],
      "text/plain": [
       "   covid_neg\n",
       "0         54"
      ]
     },
     "execution_count": 823,
     "metadata": {},
     "output_type": "execute_result"
    }
   ],
   "source": [
    "conn.execute(\"SELECT COUNT(*) as covid_neg FROM covid WHERE Corona = 'negative' AND Fever = True AND Sore_throat = True\").fetchdf()"
   ]
  },
  {
   "cell_type": "markdown",
   "id": "d3805c88",
   "metadata": {},
   "source": [
    "#####  **3) Group the data by month and rank the number of positive cases.**"
   ]
  },
  {
   "cell_type": "code",
   "execution_count": 824,
   "id": "eed6d226",
   "metadata": {},
   "outputs": [
    {
     "data": {
      "text/html": [
       "<div>\n",
       "<style scoped>\n",
       "    .dataframe tbody tr th:only-of-type {\n",
       "        vertical-align: middle;\n",
       "    }\n",
       "\n",
       "    .dataframe tbody tr th {\n",
       "        vertical-align: top;\n",
       "    }\n",
       "\n",
       "    .dataframe thead th {\n",
       "        text-align: right;\n",
       "    }\n",
       "</style>\n",
       "<table border=\"1\" class=\"dataframe\">\n",
       "  <thead>\n",
       "    <tr style=\"text-align: right;\">\n",
       "      <th></th>\n",
       "      <th>months</th>\n",
       "      <th>total_positive_cases</th>\n",
       "      <th>Ranks</th>\n",
       "    </tr>\n",
       "  </thead>\n",
       "  <tbody>\n",
       "    <tr>\n",
       "      <th>0</th>\n",
       "      <td>4</td>\n",
       "      <td>5905</td>\n",
       "      <td>1</td>\n",
       "    </tr>\n",
       "    <tr>\n",
       "      <th>1</th>\n",
       "      <td>3</td>\n",
       "      <td>5532</td>\n",
       "      <td>2</td>\n",
       "    </tr>\n",
       "  </tbody>\n",
       "</table>\n",
       "</div>"
      ],
      "text/plain": [
       "   months  total_positive_cases  Ranks\n",
       "0       4                  5905      1\n",
       "1       3                  5532      2"
      ]
     },
     "execution_count": 824,
     "metadata": {},
     "output_type": "execute_result"
    }
   ],
   "source": [
    "conn.execute(\"select MONTH(Test_date) AS months, count(Corona) AS total_positive_cases, RANK() OVER (ORDER BY count(Corona) DESC) AS Ranks FROM covid WHERE Corona = 'positive' GROUP BY months\").fetchdf()"
   ]
  },
  {
   "cell_type": "markdown",
   "id": "99877885",
   "metadata": {},
   "source": [
    "##### **4) Find the female negative corona patients who faced cough and headache.**\n"
   ]
  },
  {
   "cell_type": "code",
   "execution_count": 825,
   "id": "eb4968f5",
   "metadata": {},
   "outputs": [
    {
     "data": {
      "text/html": [
       "<div>\n",
       "<style scoped>\n",
       "    .dataframe tbody tr th:only-of-type {\n",
       "        vertical-align: middle;\n",
       "    }\n",
       "\n",
       "    .dataframe tbody tr th {\n",
       "        vertical-align: top;\n",
       "    }\n",
       "\n",
       "    .dataframe thead th {\n",
       "        text-align: right;\n",
       "    }\n",
       "</style>\n",
       "<table border=\"1\" class=\"dataframe\">\n",
       "  <thead>\n",
       "    <tr style=\"text-align: right;\">\n",
       "      <th></th>\n",
       "      <th>count_females</th>\n",
       "    </tr>\n",
       "  </thead>\n",
       "  <tbody>\n",
       "    <tr>\n",
       "      <th>0</th>\n",
       "      <td>29</td>\n",
       "    </tr>\n",
       "  </tbody>\n",
       "</table>\n",
       "</div>"
      ],
      "text/plain": [
       "   count_females\n",
       "0             29"
      ]
     },
     "execution_count": 825,
     "metadata": {},
     "output_type": "execute_result"
    }
   ],
   "source": [
    "conn.execute(\"select count(*) as count_females from covid where Sex= 'female' and Corona = 'negative' and Cough_symptoms = True and Headache = True\").fetchdf()"
   ]
  },
  {
   "cell_type": "markdown",
   "id": "53273665",
   "metadata": {},
   "source": [
    "##### **5) How many elderly corona patients have faced breathing problems?**\n"
   ]
  },
  {
   "cell_type": "code",
   "execution_count": 826,
   "id": "81d15278",
   "metadata": {},
   "outputs": [
    {
     "data": {
      "text/html": [
       "<div>\n",
       "<style scoped>\n",
       "    .dataframe tbody tr th:only-of-type {\n",
       "        vertical-align: middle;\n",
       "    }\n",
       "\n",
       "    .dataframe tbody tr th {\n",
       "        vertical-align: top;\n",
       "    }\n",
       "\n",
       "    .dataframe thead th {\n",
       "        text-align: right;\n",
       "    }\n",
       "</style>\n",
       "<table border=\"1\" class=\"dataframe\">\n",
       "  <thead>\n",
       "    <tr style=\"text-align: right;\">\n",
       "      <th></th>\n",
       "      <th>elderpeople</th>\n",
       "    </tr>\n",
       "  </thead>\n",
       "  <tbody>\n",
       "    <tr>\n",
       "      <th>0</th>\n",
       "      <td>262</td>\n",
       "    </tr>\n",
       "  </tbody>\n",
       "</table>\n",
       "</div>"
      ],
      "text/plain": [
       "   elderpeople\n",
       "0          262"
      ]
     },
     "execution_count": 826,
     "metadata": {},
     "output_type": "execute_result"
    }
   ],
   "source": [
    "conn.execute(\"select count(*) as elderpeople from covid where Age_60_above = 'Yes' and Corona = 'positive' and Shortness_of_breath = True \").fetchdf()"
   ]
  },
  {
   "cell_type": "markdown",
   "id": "13183e82",
   "metadata": {},
   "source": [
    "##### **6) Which three symptoms were more common among COVID positive patients?**\n"
   ]
  },
  {
   "cell_type": "code",
   "execution_count": 827,
   "id": "c90896cd",
   "metadata": {},
   "outputs": [
    {
     "data": {
      "text/html": [
       "<div>\n",
       "<style scoped>\n",
       "    .dataframe tbody tr th:only-of-type {\n",
       "        vertical-align: middle;\n",
       "    }\n",
       "\n",
       "    .dataframe tbody tr th {\n",
       "        vertical-align: top;\n",
       "    }\n",
       "\n",
       "    .dataframe thead th {\n",
       "        text-align: right;\n",
       "    }\n",
       "</style>\n",
       "<table border=\"1\" class=\"dataframe\">\n",
       "  <thead>\n",
       "    <tr style=\"text-align: right;\">\n",
       "      <th></th>\n",
       "      <th>symptom</th>\n",
       "      <th>Totalcount</th>\n",
       "    </tr>\n",
       "  </thead>\n",
       "  <tbody>\n",
       "    <tr>\n",
       "      <th>0</th>\n",
       "      <td>Cough_symptoms</td>\n",
       "      <td>5470.0</td>\n",
       "    </tr>\n",
       "    <tr>\n",
       "      <th>1</th>\n",
       "      <td>Fever</td>\n",
       "      <td>4864.0</td>\n",
       "    </tr>\n",
       "    <tr>\n",
       "      <th>2</th>\n",
       "      <td>Headache</td>\n",
       "      <td>2175.0</td>\n",
       "    </tr>\n",
       "  </tbody>\n",
       "</table>\n",
       "</div>"
      ],
      "text/plain": [
       "          symptom  Totalcount\n",
       "0  Cough_symptoms      5470.0\n",
       "1           Fever      4864.0\n",
       "2        Headache      2175.0"
      ]
     },
     "execution_count": 827,
     "metadata": {},
     "output_type": "execute_result"
    }
   ],
   "source": [
    "conn.execute(\"select symptom, Sum(count) as Totalcount from (select 'Fever' as symptom, count(*) as count from covid where Corona = 'positive' and Fever = True UNION ALL select 'Headache' as symptom, count(*) as count from covid where Corona = 'positive' and Headache = True UNION ALL select 'Sore_throat' as symptom , count(*) from covid where Corona = 'positive'and Sore_throat = True UNION ALL select 'Cough_symptoms' as symptom, count(*) from covid where Corona = 'positive' and Cough_symptoms = True UNION ALL select 'Shortness_of_breath' as symptom , count(*) from covid where Corona = 'positive' and Shortness_of_breath = True) as C group by symptom order by Totalcount desc limit 3  \").fetchdf()"
   ]
  },
  {
   "cell_type": "markdown",
   "id": "cb567530",
   "metadata": {},
   "source": [
    "##### **7) Which symptom was less common among COVID negative people?**\n"
   ]
  },
  {
   "cell_type": "code",
   "execution_count": 828,
   "id": "cb3e7ca1",
   "metadata": {},
   "outputs": [
    {
     "data": {
      "text/html": [
       "<div>\n",
       "<style scoped>\n",
       "    .dataframe tbody tr th:only-of-type {\n",
       "        vertical-align: middle;\n",
       "    }\n",
       "\n",
       "    .dataframe tbody tr th {\n",
       "        vertical-align: top;\n",
       "    }\n",
       "\n",
       "    .dataframe thead th {\n",
       "        text-align: right;\n",
       "    }\n",
       "</style>\n",
       "<table border=\"1\" class=\"dataframe\">\n",
       "  <thead>\n",
       "    <tr style=\"text-align: right;\">\n",
       "      <th></th>\n",
       "      <th>symptom</th>\n",
       "      <th>Totalcount</th>\n",
       "    </tr>\n",
       "  </thead>\n",
       "  <tbody>\n",
       "    <tr>\n",
       "      <th>0</th>\n",
       "      <td>Headache</td>\n",
       "      <td>98.0</td>\n",
       "    </tr>\n",
       "    <tr>\n",
       "      <th>1</th>\n",
       "      <td>Shortness_of_breath</td>\n",
       "      <td>130.0</td>\n",
       "    </tr>\n",
       "    <tr>\n",
       "      <th>2</th>\n",
       "      <td>Sore_throat</td>\n",
       "      <td>152.0</td>\n",
       "    </tr>\n",
       "    <tr>\n",
       "      <th>3</th>\n",
       "      <td>Fever</td>\n",
       "      <td>8669.0</td>\n",
       "    </tr>\n",
       "    <tr>\n",
       "      <th>4</th>\n",
       "      <td>Cough_symptoms</td>\n",
       "      <td>20767.0</td>\n",
       "    </tr>\n",
       "  </tbody>\n",
       "</table>\n",
       "</div>"
      ],
      "text/plain": [
       "               symptom  Totalcount\n",
       "0             Headache        98.0\n",
       "1  Shortness_of_breath       130.0\n",
       "2          Sore_throat       152.0\n",
       "3                Fever      8669.0\n",
       "4       Cough_symptoms     20767.0"
      ]
     },
     "execution_count": 828,
     "metadata": {},
     "output_type": "execute_result"
    }
   ],
   "source": [
    "conn.execute(\"select symptom, Sum(count) as Totalcount from (select 'Fever' as symptom, count(*) as count from covid where Corona = 'negative' and Fever = True UNION ALL select 'Headache' as symptom, count(*) as count from covid where Corona = 'negative' and Headache = True UNION ALL select 'Sore_throat' as symptom , count(*) from covid where Corona = 'negative'and Sore_throat = True UNION ALL select 'Cough_symptoms' as symptom, count(*) from covid where Corona = 'negative' and Cough_symptoms = True UNION ALL select 'Shortness_of_breath' as symptom , count(*) from covid where Corona = 'negative' and Shortness_of_breath = True) as C group by symptom order by Totalcount asc   \").fetchdf()"
   ]
  },
  {
   "cell_type": "markdown",
   "id": "6f25cbb7",
   "metadata": {},
   "source": [
    "##### **8) What are the most common symptoms among COVID positive males whose known contact was abroad?**\n"
   ]
  },
  {
   "cell_type": "code",
   "execution_count": 829,
   "id": "716f39fd",
   "metadata": {},
   "outputs": [
    {
     "data": {
      "text/html": [
       "<div>\n",
       "<style scoped>\n",
       "    .dataframe tbody tr th:only-of-type {\n",
       "        vertical-align: middle;\n",
       "    }\n",
       "\n",
       "    .dataframe tbody tr th {\n",
       "        vertical-align: top;\n",
       "    }\n",
       "\n",
       "    .dataframe thead th {\n",
       "        text-align: right;\n",
       "    }\n",
       "</style>\n",
       "<table border=\"1\" class=\"dataframe\">\n",
       "  <thead>\n",
       "    <tr style=\"text-align: right;\">\n",
       "      <th></th>\n",
       "      <th>symptom</th>\n",
       "      <th>Totalcount</th>\n",
       "    </tr>\n",
       "  </thead>\n",
       "  <tbody>\n",
       "    <tr>\n",
       "      <th>0</th>\n",
       "      <td>Cough_symptoms</td>\n",
       "      <td>508.0</td>\n",
       "    </tr>\n",
       "    <tr>\n",
       "      <th>1</th>\n",
       "      <td>Fever</td>\n",
       "      <td>390.0</td>\n",
       "    </tr>\n",
       "    <tr>\n",
       "      <th>2</th>\n",
       "      <td>Headache</td>\n",
       "      <td>129.0</td>\n",
       "    </tr>\n",
       "    <tr>\n",
       "      <th>3</th>\n",
       "      <td>Sore_throat</td>\n",
       "      <td>87.0</td>\n",
       "    </tr>\n",
       "    <tr>\n",
       "      <th>4</th>\n",
       "      <td>Shortness_of_breath</td>\n",
       "      <td>84.0</td>\n",
       "    </tr>\n",
       "  </tbody>\n",
       "</table>\n",
       "</div>"
      ],
      "text/plain": [
       "               symptom  Totalcount\n",
       "0       Cough_symptoms       508.0\n",
       "1                Fever       390.0\n",
       "2             Headache       129.0\n",
       "3          Sore_throat        87.0\n",
       "4  Shortness_of_breath        84.0"
      ]
     },
     "execution_count": 829,
     "metadata": {},
     "output_type": "execute_result"
    }
   ],
   "source": [
    "conn.execute(\"select symptom, Sum(count) as Totalcount from (select 'Fever' as symptom, count(*) as count from covid where Corona = 'positive' and Sex = 'male' and Fever = True and Known_contact = 'Abroad' UNION ALL select 'Headache' as symptom, count(Headache) as count from covid where Corona = 'positive' and Headache = True and Sex = 'male' and Known_contact = 'Abroad' UNION ALL select 'Sore_throat' as symptom , count(*) from covid where Corona = 'positive'and Sore_throat = True and Sex = 'male' and Known_contact = 'Abroad' UNION ALL select 'Cough_symptoms' as symptom, count(*) from covid where Corona = 'positive' and Cough_symptoms = True and Sex = 'male' and Known_contact = 'Abroad' UNION ALL select 'Shortness_of_breath' as symptom , count(*) from covid where Corona = 'positive' and Shortness_of_breath = True and Sex = 'male' and Known_contact = 'Abroad') as C group by symptom order by Totalcount desc \").fetchdf()"
   ]
  },
  {
   "cell_type": "markdown",
   "id": "a602e887",
   "metadata": {},
   "source": [
    "## Initial Hypothesis¶\n",
    "\n",
    "1. **Common Symptoms Hypothesis:** COVID-19 often causes coughing, fever, and breathing problems but headache was also common among them. \n",
    "\n",
    "---\n",
    "\n",
    "2. **Uncommon Symptoms Hypothesis:** People without COVID-19  have less headache and Shortness of breath and more symptoms of cough and fever.\n",
    "\n",
    "---\n",
    "\n",
    "3. **Symptoms in Specific Groups:** Men with COVID-19 who've been in contact with people from other countries  have more coughing and fever.\n",
    "\n",
    "---\n",
    "\n",
    "4. **Age and Severity Hypothesis:** Those 60 and older have more severe symptoms, especially trouble breathing."
   ]
  },
  {
   "cell_type": "code",
   "execution_count": null,
   "id": "fcddc23e",
   "metadata": {},
   "outputs": [],
   "source": []
  }
 ],
 "metadata": {
  "kernelspec": {
   "display_name": "Python 3 (ipykernel)",
   "language": "python",
   "name": "python3"
  },
  "language_info": {
   "codemirror_mode": {
    "name": "ipython",
    "version": 3
   },
   "file_extension": ".py",
   "mimetype": "text/x-python",
   "name": "python",
   "nbconvert_exporter": "python",
   "pygments_lexer": "ipython3",
   "version": "3.11.5"
  }
 },
 "nbformat": 4,
 "nbformat_minor": 5
}
